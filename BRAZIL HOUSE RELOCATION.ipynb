{
 "cells": [
  {
   "cell_type": "code",
   "execution_count": 21,
   "id": "3d4e556f",
   "metadata": {},
   "outputs": [],
   "source": [
    "import numpy as np\n",
    "import matplotlib.pyplot as plt\n",
    "import seaborn as sb\n",
    "import statistics as st\n",
    "from scipy.stats import f\n",
    "import math\n",
    "import pandas as pd\n",
    "from tabulate import tabulate"
   ]
  },
  {
   "cell_type": "code",
   "execution_count": 2,
   "id": "825a76b1",
   "metadata": {},
   "outputs": [],
   "source": [
    "house=pd.read_csv('C:\\\\Users\\\\Koustav\\\\Downloads\\\\Brazil.csv')"
   ]
  },
  {
   "cell_type": "code",
   "execution_count": null,
   "id": "0e32d52a",
   "metadata": {},
   "outputs": [],
   "source": []
  },
  {
   "cell_type": "code",
   "execution_count": 38,
   "id": "2bfcf540",
   "metadata": {},
   "outputs": [
    {
     "data": {
      "text/html": [
       "<div>\n",
       "<style scoped>\n",
       "    .dataframe tbody tr th:only-of-type {\n",
       "        vertical-align: middle;\n",
       "    }\n",
       "\n",
       "    .dataframe tbody tr th {\n",
       "        vertical-align: top;\n",
       "    }\n",
       "\n",
       "    .dataframe thead th {\n",
       "        text-align: right;\n",
       "    }\n",
       "</style>\n",
       "<table border=\"1\" class=\"dataframe\">\n",
       "  <thead>\n",
       "    <tr style=\"text-align: right;\">\n",
       "      <th></th>\n",
       "      <th>city</th>\n",
       "      <th>area</th>\n",
       "      <th>rooms</th>\n",
       "      <th>bathroom</th>\n",
       "      <th>parking spaces</th>\n",
       "      <th>floor</th>\n",
       "      <th>animal</th>\n",
       "      <th>furniture</th>\n",
       "      <th>hoa (R$)</th>\n",
       "      <th>rent amount (R$)</th>\n",
       "      <th>property tax (R$)</th>\n",
       "      <th>fire insurance (R$)</th>\n",
       "      <th>total (R$)</th>\n",
       "    </tr>\n",
       "  </thead>\n",
       "  <tbody>\n",
       "    <tr>\n",
       "      <th>0</th>\n",
       "      <td>São Paulo</td>\n",
       "      <td>70</td>\n",
       "      <td>2</td>\n",
       "      <td>1</td>\n",
       "      <td>1</td>\n",
       "      <td>7</td>\n",
       "      <td>acept</td>\n",
       "      <td>furnished</td>\n",
       "      <td>2065</td>\n",
       "      <td>3300</td>\n",
       "      <td>211</td>\n",
       "      <td>42</td>\n",
       "      <td>5618</td>\n",
       "    </tr>\n",
       "    <tr>\n",
       "      <th>1</th>\n",
       "      <td>São Paulo</td>\n",
       "      <td>320</td>\n",
       "      <td>4</td>\n",
       "      <td>4</td>\n",
       "      <td>0</td>\n",
       "      <td>20</td>\n",
       "      <td>acept</td>\n",
       "      <td>not furnished</td>\n",
       "      <td>1200</td>\n",
       "      <td>4960</td>\n",
       "      <td>1750</td>\n",
       "      <td>63</td>\n",
       "      <td>7973</td>\n",
       "    </tr>\n",
       "    <tr>\n",
       "      <th>2</th>\n",
       "      <td>Porto Alegre</td>\n",
       "      <td>80</td>\n",
       "      <td>1</td>\n",
       "      <td>1</td>\n",
       "      <td>1</td>\n",
       "      <td>6</td>\n",
       "      <td>acept</td>\n",
       "      <td>not furnished</td>\n",
       "      <td>1000</td>\n",
       "      <td>2800</td>\n",
       "      <td>0</td>\n",
       "      <td>41</td>\n",
       "      <td>3841</td>\n",
       "    </tr>\n",
       "    <tr>\n",
       "      <th>3</th>\n",
       "      <td>Porto Alegre</td>\n",
       "      <td>51</td>\n",
       "      <td>2</td>\n",
       "      <td>1</td>\n",
       "      <td>0</td>\n",
       "      <td>2</td>\n",
       "      <td>acept</td>\n",
       "      <td>not furnished</td>\n",
       "      <td>270</td>\n",
       "      <td>1112</td>\n",
       "      <td>22</td>\n",
       "      <td>17</td>\n",
       "      <td>1421</td>\n",
       "    </tr>\n",
       "    <tr>\n",
       "      <th>4</th>\n",
       "      <td>São Paulo</td>\n",
       "      <td>25</td>\n",
       "      <td>1</td>\n",
       "      <td>1</td>\n",
       "      <td>0</td>\n",
       "      <td>1</td>\n",
       "      <td>not acept</td>\n",
       "      <td>not furnished</td>\n",
       "      <td>0</td>\n",
       "      <td>800</td>\n",
       "      <td>25</td>\n",
       "      <td>11</td>\n",
       "      <td>836</td>\n",
       "    </tr>\n",
       "    <tr>\n",
       "      <th>...</th>\n",
       "      <td>...</td>\n",
       "      <td>...</td>\n",
       "      <td>...</td>\n",
       "      <td>...</td>\n",
       "      <td>...</td>\n",
       "      <td>...</td>\n",
       "      <td>...</td>\n",
       "      <td>...</td>\n",
       "      <td>...</td>\n",
       "      <td>...</td>\n",
       "      <td>...</td>\n",
       "      <td>...</td>\n",
       "      <td>...</td>\n",
       "    </tr>\n",
       "    <tr>\n",
       "      <th>10687</th>\n",
       "      <td>Porto Alegre</td>\n",
       "      <td>63</td>\n",
       "      <td>2</td>\n",
       "      <td>1</td>\n",
       "      <td>1</td>\n",
       "      <td>5</td>\n",
       "      <td>not acept</td>\n",
       "      <td>furnished</td>\n",
       "      <td>402</td>\n",
       "      <td>1478</td>\n",
       "      <td>24</td>\n",
       "      <td>22</td>\n",
       "      <td>1926</td>\n",
       "    </tr>\n",
       "    <tr>\n",
       "      <th>10688</th>\n",
       "      <td>São Paulo</td>\n",
       "      <td>285</td>\n",
       "      <td>4</td>\n",
       "      <td>4</td>\n",
       "      <td>4</td>\n",
       "      <td>17</td>\n",
       "      <td>acept</td>\n",
       "      <td>not furnished</td>\n",
       "      <td>3100</td>\n",
       "      <td>15000</td>\n",
       "      <td>973</td>\n",
       "      <td>191</td>\n",
       "      <td>19260</td>\n",
       "    </tr>\n",
       "    <tr>\n",
       "      <th>10689</th>\n",
       "      <td>Rio de Janeiro</td>\n",
       "      <td>70</td>\n",
       "      <td>3</td>\n",
       "      <td>3</td>\n",
       "      <td>0</td>\n",
       "      <td>8</td>\n",
       "      <td>not acept</td>\n",
       "      <td>furnished</td>\n",
       "      <td>980</td>\n",
       "      <td>6000</td>\n",
       "      <td>332</td>\n",
       "      <td>78</td>\n",
       "      <td>7390</td>\n",
       "    </tr>\n",
       "    <tr>\n",
       "      <th>10690</th>\n",
       "      <td>Rio de Janeiro</td>\n",
       "      <td>120</td>\n",
       "      <td>2</td>\n",
       "      <td>2</td>\n",
       "      <td>2</td>\n",
       "      <td>8</td>\n",
       "      <td>acept</td>\n",
       "      <td>furnished</td>\n",
       "      <td>1585</td>\n",
       "      <td>12000</td>\n",
       "      <td>279</td>\n",
       "      <td>155</td>\n",
       "      <td>14020</td>\n",
       "    </tr>\n",
       "    <tr>\n",
       "      <th>10691</th>\n",
       "      <td>São Paulo</td>\n",
       "      <td>80</td>\n",
       "      <td>2</td>\n",
       "      <td>1</td>\n",
       "      <td>0</td>\n",
       "      <td>0</td>\n",
       "      <td>acept</td>\n",
       "      <td>not furnished</td>\n",
       "      <td>0</td>\n",
       "      <td>1400</td>\n",
       "      <td>165</td>\n",
       "      <td>22</td>\n",
       "      <td>1587</td>\n",
       "    </tr>\n",
       "  </tbody>\n",
       "</table>\n",
       "<p>10692 rows × 13 columns</p>\n",
       "</div>"
      ],
      "text/plain": [
       "                 city  area  rooms  bathroom  parking spaces  floor  \\\n",
       "0           São Paulo    70      2         1               1      7   \n",
       "1           São Paulo   320      4         4               0     20   \n",
       "2        Porto Alegre    80      1         1               1      6   \n",
       "3        Porto Alegre    51      2         1               0      2   \n",
       "4           São Paulo    25      1         1               0      1   \n",
       "...               ...   ...    ...       ...             ...    ...   \n",
       "10687    Porto Alegre    63      2         1               1      5   \n",
       "10688       São Paulo   285      4         4               4     17   \n",
       "10689  Rio de Janeiro    70      3         3               0      8   \n",
       "10690  Rio de Janeiro   120      2         2               2      8   \n",
       "10691       São Paulo    80      2         1               0      0   \n",
       "\n",
       "          animal      furniture  hoa (R$)  rent amount (R$)  \\\n",
       "0          acept      furnished      2065              3300   \n",
       "1          acept  not furnished      1200              4960   \n",
       "2          acept  not furnished      1000              2800   \n",
       "3          acept  not furnished       270              1112   \n",
       "4      not acept  not furnished         0               800   \n",
       "...          ...            ...       ...               ...   \n",
       "10687  not acept      furnished       402              1478   \n",
       "10688      acept  not furnished      3100             15000   \n",
       "10689  not acept      furnished       980              6000   \n",
       "10690      acept      furnished      1585             12000   \n",
       "10691      acept  not furnished         0              1400   \n",
       "\n",
       "       property tax (R$)  fire insurance (R$)  total (R$)  \n",
       "0                    211                   42        5618  \n",
       "1                   1750                   63        7973  \n",
       "2                      0                   41        3841  \n",
       "3                     22                   17        1421  \n",
       "4                     25                   11         836  \n",
       "...                  ...                  ...         ...  \n",
       "10687                 24                   22        1926  \n",
       "10688                973                  191       19260  \n",
       "10689                332                   78        7390  \n",
       "10690                279                  155       14020  \n",
       "10691                165                   22        1587  \n",
       "\n",
       "[10692 rows x 13 columns]"
      ]
     },
     "execution_count": 38,
     "metadata": {},
     "output_type": "execute_result"
    }
   ],
   "source": [
    "house"
   ]
  },
  {
   "cell_type": "code",
   "execution_count": 3,
   "id": "3de0c9c1",
   "metadata": {},
   "outputs": [],
   "source": [
    "df=house"
   ]
  },
  {
   "cell_type": "code",
   "execution_count": 39,
   "id": "8fb247e7",
   "metadata": {},
   "outputs": [
    {
     "name": "stdout",
     "output_type": "stream",
     "text": [
      "<class 'pandas.core.frame.DataFrame'>\n",
      "RangeIndex: 10692 entries, 0 to 10691\n",
      "Data columns (total 13 columns):\n",
      " #   Column               Non-Null Count  Dtype \n",
      "---  ------               --------------  ----- \n",
      " 0   city                 10692 non-null  object\n",
      " 1   area                 10692 non-null  int64 \n",
      " 2   rooms                10692 non-null  int64 \n",
      " 3   bathroom             10692 non-null  int64 \n",
      " 4   parking spaces       10692 non-null  int64 \n",
      " 5   floor                10692 non-null  int64 \n",
      " 6   animal               10692 non-null  object\n",
      " 7   furniture            10692 non-null  object\n",
      " 8   hoa (R$)             10692 non-null  int64 \n",
      " 9   rent amount (R$)     10692 non-null  int64 \n",
      " 10  property tax (R$)    10692 non-null  int64 \n",
      " 11  fire insurance (R$)  10692 non-null  int64 \n",
      " 12  total (R$)           10692 non-null  int64 \n",
      "dtypes: int64(10), object(3)\n",
      "memory usage: 1.1+ MB\n"
     ]
    }
   ],
   "source": [
    "house.info()"
   ]
  },
  {
   "cell_type": "code",
   "execution_count": 43,
   "id": "f2c17f78",
   "metadata": {},
   "outputs": [
    {
     "data": {
      "text/plain": [
       "(10692, 13)"
      ]
     },
     "execution_count": 43,
     "metadata": {},
     "output_type": "execute_result"
    }
   ],
   "source": [
    "house.shape #number of rows and columns"
   ]
  },
  {
   "cell_type": "code",
   "execution_count": 44,
   "id": "7e84a6ea",
   "metadata": {},
   "outputs": [
    {
     "data": {
      "text/plain": [
       "Index(['city', 'area', 'rooms', 'bathroom', 'parking spaces', 'floor',\n",
       "       'animal', 'furniture', 'hoa (R$)', 'rent amount (R$)',\n",
       "       'property tax (R$)', 'fire insurance (R$)', 'total (R$)'],\n",
       "      dtype='object')"
      ]
     },
     "execution_count": 44,
     "metadata": {},
     "output_type": "execute_result"
    }
   ],
   "source": [
    "house.columns #name of the columns"
   ]
  },
  {
   "cell_type": "code",
   "execution_count": 46,
   "id": "897a79dd",
   "metadata": {},
   "outputs": [
    {
     "data": {
      "text/plain": [
       "city                   0\n",
       "area                   0\n",
       "rooms                  0\n",
       "bathroom               0\n",
       "parking spaces         0\n",
       "floor                  0\n",
       "animal                 0\n",
       "furniture              0\n",
       "hoa (R$)               0\n",
       "rent amount (R$)       0\n",
       "property tax (R$)      0\n",
       "fire insurance (R$)    0\n",
       "total (R$)             0\n",
       "dtype: int64"
      ]
     },
     "execution_count": 46,
     "metadata": {},
     "output_type": "execute_result"
    }
   ],
   "source": [
    "df.isnull().sum() #isnull.sum gives number of null values in each column"
   ]
  },
  {
   "cell_type": "code",
   "execution_count": null,
   "id": "f778ab59",
   "metadata": {},
   "outputs": [],
   "source": [
    "#separating categorical and numerical data"
   ]
  },
  {
   "cell_type": "code",
   "execution_count": 47,
   "id": "19f9cec0",
   "metadata": {},
   "outputs": [
    {
     "name": "stdout",
     "output_type": "stream",
     "text": [
      "categorical     continuous\n",
      "--------------  -------------------\n",
      "city            area\n",
      "rooms           hoa (R$)\n",
      "bathroom        rent amount (R$)\n",
      "parking spaces  property tax (R$)\n",
      "floor           fire insurance (R$)\n",
      "animal          total (R$)\n",
      "furniture\n"
     ]
    }
   ],
   "source": [
    "def seprate_data_types(df):\n",
    "    categorical = []\n",
    "    continuous = []\n",
    "    for column in df.columns:                # looping on the number of columns\n",
    "        if df[column].nunique() < 43:       # nunique:  returns unique values in the column,\n",
    "                                                    #here 43 is the hyperparamter and can be changed\n",
    "            categorical.append(column)\n",
    "        else:\n",
    "            continuous.append(column)\n",
    "            \n",
    "    return categorical, continuous \n",
    "\n",
    "\n",
    "categorical, continuous = seprate_data_types(df)         # Calling the function\n",
    "\n",
    "# # Tabulate is a package used to print the list, dict or any data sets in a proper format; in table format\n",
    "from tabulate import tabulate\n",
    "table = [categorical, continuous]\n",
    "print(tabulate({\"Categorical\":categorical,\n",
    "                \"Continuous\": continuous}, headers = [\"categorical\", \"continuous\"]))"
   ]
  },
  {
   "cell_type": "code",
   "execution_count": 48,
   "id": "71cf9f2b",
   "metadata": {},
   "outputs": [],
   "source": [
    "def info_of_cat(col): \n",
    "    print(f\"Unique values in {col} are: {df[col].unique()}\") # unique: returns the unique values in the col\n",
    "    print(f\"Mode of {col} is {df[col].mode()[0]}\")  # mode: returns the mode of the column\n",
    "    print(f\"Number of missing values in {col} is {df[col].isnull().sum()}\") # isnull().sum() counts the number of null in dataframe\n",
    "    if df[col].isnull().sum() > 0:  # check if null values are present\n",
    "        print(f\"\\nThere are null values in the {col} column\")"
   ]
  },
  {
   "cell_type": "code",
   "execution_count": 49,
   "id": "c5eec012",
   "metadata": {},
   "outputs": [
    {
     "name": "stdout",
     "output_type": "stream",
     "text": [
      "Unique values in city are: ['São Paulo' 'Porto Alegre' 'Rio de Janeiro' 'Campinas' 'Belo Horizonte']\n",
      "Mode of city is São Paulo\n",
      "Number of missing values in city is 0\n"
     ]
    }
   ],
   "source": [
    "info_of_cat('city')"
   ]
  },
  {
   "cell_type": "code",
   "execution_count": 50,
   "id": "2c35c55c",
   "metadata": {},
   "outputs": [
    {
     "name": "stdout",
     "output_type": "stream",
     "text": [
      "Unique values in rooms are: [ 2  4  1  3  7  5  8  6 10 13  9]\n",
      "Mode of rooms is 3\n",
      "Number of missing values in rooms is 0\n"
     ]
    }
   ],
   "source": [
    "info_of_cat('rooms')"
   ]
  },
  {
   "cell_type": "code",
   "execution_count": 51,
   "id": "774ef252",
   "metadata": {},
   "outputs": [
    {
     "name": "stdout",
     "output_type": "stream",
     "text": [
      "Unique values in bathroom are: [ 1  4  3  2  6  5  7  9  8 10]\n",
      "Mode of bathroom is 1\n",
      "Number of missing values in bathroom is 0\n"
     ]
    }
   ],
   "source": [
    "info_of_cat('bathroom')"
   ]
  },
  {
   "cell_type": "code",
   "execution_count": 52,
   "id": "4648eddb",
   "metadata": {},
   "outputs": [
    {
     "name": "stdout",
     "output_type": "stream",
     "text": [
      "Unique values in parking spaces are: [ 1  0  7  4  2  6  3  8  5 10 12]\n",
      "Mode of parking spaces is 1\n",
      "Number of missing values in parking spaces is 0\n"
     ]
    }
   ],
   "source": [
    "info_of_cat('parking spaces')"
   ]
  },
  {
   "cell_type": "code",
   "execution_count": 53,
   "id": "5b43c919",
   "metadata": {},
   "outputs": [
    {
     "name": "stdout",
     "output_type": "stream",
     "text": [
      "Unique values in floor are: [  7  20   6   2   1   0   4   3  10  11  24   9   8  17  18   5  13  15\n",
      "  16  14  26  12  21  19  22  27  23  35  25  46  28  29 301  51  32]\n",
      "Mode of floor is 0\n",
      "Number of missing values in floor is 0\n"
     ]
    }
   ],
   "source": [
    "info_of_cat('floor')"
   ]
  },
  {
   "cell_type": "code",
   "execution_count": 54,
   "id": "20a1108a",
   "metadata": {},
   "outputs": [
    {
     "name": "stdout",
     "output_type": "stream",
     "text": [
      "Unique values in animal are: ['acept' 'not acept']\n",
      "Mode of animal is acept\n",
      "Number of missing values in animal is 0\n"
     ]
    }
   ],
   "source": [
    "info_of_cat('animal')"
   ]
  },
  {
   "cell_type": "code",
   "execution_count": 55,
   "id": "d0926dc1",
   "metadata": {},
   "outputs": [
    {
     "name": "stdout",
     "output_type": "stream",
     "text": [
      "Unique values in furniture are: ['furnished' 'not furnished']\n",
      "Mode of furniture is not furnished\n",
      "Number of missing values in furniture is 0\n"
     ]
    }
   ],
   "source": [
    "info_of_cat('furniture')"
   ]
  },
  {
   "cell_type": "code",
   "execution_count": 56,
   "id": "83b71705",
   "metadata": {},
   "outputs": [
    {
     "data": {
      "text/html": [
       "<div>\n",
       "<style scoped>\n",
       "    .dataframe tbody tr th:only-of-type {\n",
       "        vertical-align: middle;\n",
       "    }\n",
       "\n",
       "    .dataframe tbody tr th {\n",
       "        vertical-align: top;\n",
       "    }\n",
       "\n",
       "    .dataframe thead th {\n",
       "        text-align: right;\n",
       "    }\n",
       "</style>\n",
       "<table border=\"1\" class=\"dataframe\">\n",
       "  <thead>\n",
       "    <tr style=\"text-align: right;\">\n",
       "      <th></th>\n",
       "      <th>city</th>\n",
       "      <th>area</th>\n",
       "      <th>rooms</th>\n",
       "      <th>bathroom</th>\n",
       "      <th>parking spaces</th>\n",
       "      <th>floor</th>\n",
       "      <th>animal</th>\n",
       "      <th>furniture</th>\n",
       "      <th>hoa (R$)</th>\n",
       "      <th>rent amount (R$)</th>\n",
       "      <th>property tax (R$)</th>\n",
       "      <th>fire insurance (R$)</th>\n",
       "      <th>total (R$)</th>\n",
       "    </tr>\n",
       "  </thead>\n",
       "  <tbody>\n",
       "    <tr>\n",
       "      <th>0</th>\n",
       "      <td>São Paulo</td>\n",
       "      <td>70</td>\n",
       "      <td>2</td>\n",
       "      <td>1</td>\n",
       "      <td>1</td>\n",
       "      <td>7</td>\n",
       "      <td>acept</td>\n",
       "      <td>furnished</td>\n",
       "      <td>2065</td>\n",
       "      <td>3300</td>\n",
       "      <td>211</td>\n",
       "      <td>42</td>\n",
       "      <td>5618</td>\n",
       "    </tr>\n",
       "    <tr>\n",
       "      <th>1</th>\n",
       "      <td>São Paulo</td>\n",
       "      <td>320</td>\n",
       "      <td>4</td>\n",
       "      <td>4</td>\n",
       "      <td>0</td>\n",
       "      <td>20</td>\n",
       "      <td>acept</td>\n",
       "      <td>not furnished</td>\n",
       "      <td>1200</td>\n",
       "      <td>4960</td>\n",
       "      <td>1750</td>\n",
       "      <td>63</td>\n",
       "      <td>7973</td>\n",
       "    </tr>\n",
       "    <tr>\n",
       "      <th>2</th>\n",
       "      <td>Porto Alegre</td>\n",
       "      <td>80</td>\n",
       "      <td>1</td>\n",
       "      <td>1</td>\n",
       "      <td>1</td>\n",
       "      <td>6</td>\n",
       "      <td>acept</td>\n",
       "      <td>not furnished</td>\n",
       "      <td>1000</td>\n",
       "      <td>2800</td>\n",
       "      <td>0</td>\n",
       "      <td>41</td>\n",
       "      <td>3841</td>\n",
       "    </tr>\n",
       "    <tr>\n",
       "      <th>3</th>\n",
       "      <td>Porto Alegre</td>\n",
       "      <td>51</td>\n",
       "      <td>2</td>\n",
       "      <td>1</td>\n",
       "      <td>0</td>\n",
       "      <td>2</td>\n",
       "      <td>acept</td>\n",
       "      <td>not furnished</td>\n",
       "      <td>270</td>\n",
       "      <td>1112</td>\n",
       "      <td>22</td>\n",
       "      <td>17</td>\n",
       "      <td>1421</td>\n",
       "    </tr>\n",
       "    <tr>\n",
       "      <th>4</th>\n",
       "      <td>São Paulo</td>\n",
       "      <td>25</td>\n",
       "      <td>1</td>\n",
       "      <td>1</td>\n",
       "      <td>0</td>\n",
       "      <td>1</td>\n",
       "      <td>not acept</td>\n",
       "      <td>not furnished</td>\n",
       "      <td>0</td>\n",
       "      <td>800</td>\n",
       "      <td>25</td>\n",
       "      <td>11</td>\n",
       "      <td>836</td>\n",
       "    </tr>\n",
       "    <tr>\n",
       "      <th>...</th>\n",
       "      <td>...</td>\n",
       "      <td>...</td>\n",
       "      <td>...</td>\n",
       "      <td>...</td>\n",
       "      <td>...</td>\n",
       "      <td>...</td>\n",
       "      <td>...</td>\n",
       "      <td>...</td>\n",
       "      <td>...</td>\n",
       "      <td>...</td>\n",
       "      <td>...</td>\n",
       "      <td>...</td>\n",
       "      <td>...</td>\n",
       "    </tr>\n",
       "    <tr>\n",
       "      <th>10687</th>\n",
       "      <td>Porto Alegre</td>\n",
       "      <td>63</td>\n",
       "      <td>2</td>\n",
       "      <td>1</td>\n",
       "      <td>1</td>\n",
       "      <td>5</td>\n",
       "      <td>not acept</td>\n",
       "      <td>furnished</td>\n",
       "      <td>402</td>\n",
       "      <td>1478</td>\n",
       "      <td>24</td>\n",
       "      <td>22</td>\n",
       "      <td>1926</td>\n",
       "    </tr>\n",
       "    <tr>\n",
       "      <th>10688</th>\n",
       "      <td>São Paulo</td>\n",
       "      <td>285</td>\n",
       "      <td>4</td>\n",
       "      <td>4</td>\n",
       "      <td>4</td>\n",
       "      <td>17</td>\n",
       "      <td>acept</td>\n",
       "      <td>not furnished</td>\n",
       "      <td>3100</td>\n",
       "      <td>15000</td>\n",
       "      <td>973</td>\n",
       "      <td>191</td>\n",
       "      <td>19260</td>\n",
       "    </tr>\n",
       "    <tr>\n",
       "      <th>10689</th>\n",
       "      <td>Rio de Janeiro</td>\n",
       "      <td>70</td>\n",
       "      <td>3</td>\n",
       "      <td>3</td>\n",
       "      <td>0</td>\n",
       "      <td>8</td>\n",
       "      <td>not acept</td>\n",
       "      <td>furnished</td>\n",
       "      <td>980</td>\n",
       "      <td>6000</td>\n",
       "      <td>332</td>\n",
       "      <td>78</td>\n",
       "      <td>7390</td>\n",
       "    </tr>\n",
       "    <tr>\n",
       "      <th>10690</th>\n",
       "      <td>Rio de Janeiro</td>\n",
       "      <td>120</td>\n",
       "      <td>2</td>\n",
       "      <td>2</td>\n",
       "      <td>2</td>\n",
       "      <td>8</td>\n",
       "      <td>acept</td>\n",
       "      <td>furnished</td>\n",
       "      <td>1585</td>\n",
       "      <td>12000</td>\n",
       "      <td>279</td>\n",
       "      <td>155</td>\n",
       "      <td>14020</td>\n",
       "    </tr>\n",
       "    <tr>\n",
       "      <th>10691</th>\n",
       "      <td>São Paulo</td>\n",
       "      <td>80</td>\n",
       "      <td>2</td>\n",
       "      <td>1</td>\n",
       "      <td>0</td>\n",
       "      <td>0</td>\n",
       "      <td>acept</td>\n",
       "      <td>not furnished</td>\n",
       "      <td>0</td>\n",
       "      <td>1400</td>\n",
       "      <td>165</td>\n",
       "      <td>22</td>\n",
       "      <td>1587</td>\n",
       "    </tr>\n",
       "  </tbody>\n",
       "</table>\n",
       "<p>10692 rows × 13 columns</p>\n",
       "</div>"
      ],
      "text/plain": [
       "                 city  area  rooms  bathroom  parking spaces  floor  \\\n",
       "0           São Paulo    70      2         1               1      7   \n",
       "1           São Paulo   320      4         4               0     20   \n",
       "2        Porto Alegre    80      1         1               1      6   \n",
       "3        Porto Alegre    51      2         1               0      2   \n",
       "4           São Paulo    25      1         1               0      1   \n",
       "...               ...   ...    ...       ...             ...    ...   \n",
       "10687    Porto Alegre    63      2         1               1      5   \n",
       "10688       São Paulo   285      4         4               4     17   \n",
       "10689  Rio de Janeiro    70      3         3               0      8   \n",
       "10690  Rio de Janeiro   120      2         2               2      8   \n",
       "10691       São Paulo    80      2         1               0      0   \n",
       "\n",
       "          animal      furniture  hoa (R$)  rent amount (R$)  \\\n",
       "0          acept      furnished      2065              3300   \n",
       "1          acept  not furnished      1200              4960   \n",
       "2          acept  not furnished      1000              2800   \n",
       "3          acept  not furnished       270              1112   \n",
       "4      not acept  not furnished         0               800   \n",
       "...          ...            ...       ...               ...   \n",
       "10687  not acept      furnished       402              1478   \n",
       "10688      acept  not furnished      3100             15000   \n",
       "10689  not acept      furnished       980              6000   \n",
       "10690      acept      furnished      1585             12000   \n",
       "10691      acept  not furnished         0              1400   \n",
       "\n",
       "       property tax (R$)  fire insurance (R$)  total (R$)  \n",
       "0                    211                   42        5618  \n",
       "1                   1750                   63        7973  \n",
       "2                      0                   41        3841  \n",
       "3                     22                   17        1421  \n",
       "4                     25                   11         836  \n",
       "...                  ...                  ...         ...  \n",
       "10687                 24                   22        1926  \n",
       "10688                973                  191       19260  \n",
       "10689                332                   78        7390  \n",
       "10690                279                  155       14020  \n",
       "10691                165                   22        1587  \n",
       "\n",
       "[10692 rows x 13 columns]"
      ]
     },
     "execution_count": 56,
     "metadata": {},
     "output_type": "execute_result"
    }
   ],
   "source": [
    "df"
   ]
  },
  {
   "cell_type": "code",
   "execution_count": 57,
   "id": "10022f05",
   "metadata": {},
   "outputs": [
    {
     "data": {
      "text/plain": [
       "<AxesSubplot:ylabel='city'>"
      ]
     },
     "execution_count": 57,
     "metadata": {},
     "output_type": "execute_result"
    },
    {
     "data": {
      "image/png": "[encoded data removed]",
      "text/plain": [
       "<Figure size 432x288 with 1 Axes>"
      ]
     },
     "metadata": {},
     "output_type": "display_data"
    }
   ],
   "source": [
    "df['city'].value_counts().plot(kind='pie',autopct='%.2f%%')"
   ]
  },
  {
   "cell_type": "code",
   "execution_count": 58,
   "id": "f84b9de7",
   "metadata": {},
   "outputs": [
    {
     "data": {
      "text/plain": [
       "<AxesSubplot:>"
      ]
     },
     "execution_count": 58,
     "metadata": {},
     "output_type": "execute_result"
    },
    {
     "data": {
      "image/png": "[encoded data removed]",
      "text/plain": [
       "<Figure size 432x288 with 1 Axes>"
      ]
     },
     "metadata": {
      "needs_background": "light"
     },
     "output_type": "display_data"
    }
   ],
   "source": [
    "df['city'].value_counts().plot.bar()"
   ]
  },
  {
   "cell_type": "code",
   "execution_count": 61,
   "id": "62f91d14",
   "metadata": {},
   "outputs": [
    {
     "name": "stdout",
     "output_type": "stream",
     "text": [
      "number of flats or houses which are furnished or not \n"
     ]
    },
    {
     "data": {
      "text/plain": [
       "not furnished    8086\n",
       "furnished        2606\n",
       "Name: furniture, dtype: int64"
      ]
     },
     "execution_count": 61,
     "metadata": {},
     "output_type": "execute_result"
    }
   ],
   "source": [
    "a=df['furniture'].value_counts()\n",
    "print('number of flats or houses which are furnished or not ')\n",
    "a"
   ]
  },
  {
   "cell_type": "code",
   "execution_count": 62,
   "id": "ee4dfae6",
   "metadata": {},
   "outputs": [
    {
     "data": {
      "text/plain": [
       "<AxesSubplot:ylabel='furniture'>"
      ]
     },
     "execution_count": 62,
     "metadata": {},
     "output_type": "execute_result"
    },
    {
     "data": {
      "image/png": "[encoded data removed]",
      "text/plain": [
       "<Figure size 432x288 with 1 Axes>"
      ]
     },
     "metadata": {},
     "output_type": "display_data"
    }
   ],
   "source": [
    "a.plot(kind='pie',autopct='%.2f%%')\n"
   ]
  },
  {
   "cell_type": "code",
   "execution_count": 63,
   "id": "e9763918",
   "metadata": {},
   "outputs": [],
   "source": [
    "#75.63% flats are furnished and 24.37% flats are not furnished"
   ]
  },
  {
   "cell_type": "code",
   "execution_count": 64,
   "id": "30788f78",
   "metadata": {},
   "outputs": [],
   "source": [
    "#Customers will like to move in to flats that are furnished than moving to flats that arent furnished"
   ]
  },
  {
   "cell_type": "code",
   "execution_count": 67,
   "id": "fb21282e",
   "metadata": {},
   "outputs": [
    {
     "data": {
      "text/html": [
       "<div>\n",
       "<style scoped>\n",
       "    .dataframe tbody tr th:only-of-type {\n",
       "        vertical-align: middle;\n",
       "    }\n",
       "\n",
       "    .dataframe tbody tr th {\n",
       "        vertical-align: top;\n",
       "    }\n",
       "\n",
       "    .dataframe thead th {\n",
       "        text-align: right;\n",
       "    }\n",
       "</style>\n",
       "<table border=\"1\" class=\"dataframe\">\n",
       "  <thead>\n",
       "    <tr style=\"text-align: right;\">\n",
       "      <th>city</th>\n",
       "      <th>Belo Horizonte</th>\n",
       "      <th>Campinas</th>\n",
       "      <th>Porto Alegre</th>\n",
       "      <th>Rio de Janeiro</th>\n",
       "      <th>São Paulo</th>\n",
       "    </tr>\n",
       "    <tr>\n",
       "      <th>furniture</th>\n",
       "      <th></th>\n",
       "      <th></th>\n",
       "      <th></th>\n",
       "      <th></th>\n",
       "      <th></th>\n",
       "    </tr>\n",
       "  </thead>\n",
       "  <tbody>\n",
       "    <tr>\n",
       "      <th>furnished</th>\n",
       "      <td>177</td>\n",
       "      <td>111</td>\n",
       "      <td>319</td>\n",
       "      <td>406</td>\n",
       "      <td>1593</td>\n",
       "    </tr>\n",
       "    <tr>\n",
       "      <th>not furnished</th>\n",
       "      <td>1081</td>\n",
       "      <td>742</td>\n",
       "      <td>874</td>\n",
       "      <td>1095</td>\n",
       "      <td>4294</td>\n",
       "    </tr>\n",
       "  </tbody>\n",
       "</table>\n",
       "</div>"
      ],
      "text/plain": [
       "city           Belo Horizonte  Campinas  Porto Alegre  Rio de Janeiro  \\\n",
       "furniture                                                               \n",
       "furnished                 177       111           319             406   \n",
       "not furnished            1081       742           874            1095   \n",
       "\n",
       "city           São Paulo  \n",
       "furniture                 \n",
       "furnished           1593  \n",
       "not furnished       4294  "
      ]
     },
     "execution_count": 67,
     "metadata": {},
     "output_type": "execute_result"
    }
   ],
   "source": [
    "pd.crosstab(df.furniture,df.city)"
   ]
  },
  {
   "cell_type": "code",
   "execution_count": 71,
   "id": "4a4b04b3",
   "metadata": {},
   "outputs": [
    {
     "data": {
      "text/plain": [
       "Text(0.5, 1.0, 'Count of city vs Furniture')"
      ]
     },
     "execution_count": 71,
     "metadata": {},
     "output_type": "execute_result"
    },
    {
     "data": {
      "image/png": "[encoded data removed]",
      "text/plain": [
       "<Figure size 432x288 with 1 Axes>"
      ]
     },
     "metadata": {
      "needs_background": "light"
     },
     "output_type": "display_data"
    }
   ],
   "source": [
    "pd.crosstab(df.furniture,df.city).plot.bar()\n",
    "plt.ylabel('Count of city')\n",
    "plt.title('Count of city vs Furniture')"
   ]
  },
  {
   "cell_type": "code",
   "execution_count": 72,
   "id": "993da72e",
   "metadata": {},
   "outputs": [
    {
     "data": {
      "text/html": [
       "<div>\n",
       "<style scoped>\n",
       "    .dataframe tbody tr th:only-of-type {\n",
       "        vertical-align: middle;\n",
       "    }\n",
       "\n",
       "    .dataframe tbody tr th {\n",
       "        vertical-align: top;\n",
       "    }\n",
       "\n",
       "    .dataframe thead th {\n",
       "        text-align: right;\n",
       "    }\n",
       "</style>\n",
       "<table border=\"1\" class=\"dataframe\">\n",
       "  <thead>\n",
       "    <tr style=\"text-align: right;\">\n",
       "      <th>city</th>\n",
       "      <th>Belo Horizonte</th>\n",
       "      <th>Campinas</th>\n",
       "      <th>Porto Alegre</th>\n",
       "      <th>Rio de Janeiro</th>\n",
       "      <th>São Paulo</th>\n",
       "    </tr>\n",
       "    <tr>\n",
       "      <th>furniture</th>\n",
       "      <th></th>\n",
       "      <th></th>\n",
       "      <th></th>\n",
       "      <th></th>\n",
       "      <th></th>\n",
       "    </tr>\n",
       "  </thead>\n",
       "  <tbody>\n",
       "    <tr>\n",
       "      <th>furnished</th>\n",
       "      <td>177</td>\n",
       "      <td>111</td>\n",
       "      <td>319</td>\n",
       "      <td>406</td>\n",
       "      <td>1593</td>\n",
       "    </tr>\n",
       "    <tr>\n",
       "      <th>not furnished</th>\n",
       "      <td>1081</td>\n",
       "      <td>742</td>\n",
       "      <td>874</td>\n",
       "      <td>1095</td>\n",
       "      <td>4294</td>\n",
       "    </tr>\n",
       "  </tbody>\n",
       "</table>\n",
       "</div>"
      ],
      "text/plain": [
       "city           Belo Horizonte  Campinas  Porto Alegre  Rio de Janeiro  \\\n",
       "furniture                                                               \n",
       "furnished                 177       111           319             406   \n",
       "not furnished            1081       742           874            1095   \n",
       "\n",
       "city           São Paulo  \n",
       "furniture                 \n",
       "furnished           1593  \n",
       "not furnished       4294  "
      ]
     },
     "execution_count": 72,
     "metadata": {},
     "output_type": "execute_result"
    }
   ],
   "source": [
    "pd.crosstab(df.furniture,df.city)"
   ]
  },
  {
   "cell_type": "code",
   "execution_count": 58,
   "id": "d96254f3",
   "metadata": {},
   "outputs": [],
   "source": [
    "a=pd.DataFrame({'Name':['Furnished','NotFurnished'],'BeloHorizonte':[177,1081]})\n",
    "\n",
    "\n",
    "b=pd.DataFrame({'Name':['Furnished','NotFurnished'],'Campinas':[111,742]}) \n",
    "c=pd.DataFrame({'Name':['Furnished','NotFurnished'],'PortAlegre':[319,874]}) \n",
    "d=pd.DataFrame({'Name':['Furnished','NotFurnished'],'RiodeJanerio':[406,1095]}) \n",
    "e=pd.DataFrame({'Name':['Furnished','NotFurnished'],'SaoPaulo':[1593,4294]}) "
   ]
  },
  {
   "cell_type": "code",
   "execution_count": 104,
   "id": "2bcd8ebf",
   "metadata": {},
   "outputs": [
    {
     "data": {
      "text/plain": [
       "<AxesSubplot:ylabel='Campinas'>"
      ]
     },
     "execution_count": 104,
     "metadata": {},
     "output_type": "execute_result"
    },
    {
     "data": {
      "image/png": "[encoded data removed]",
      "text/plain": [
       "<Figure size 1080x504 with 2 Axes>"
      ]
     },
     "metadata": {},
     "output_type": "display_data"
    }
   ],
   "source": [
    "fig, ax = plt.subplots(1, 2,  figsize = (15, 7))\n",
    "a.groupby(['Name']).sum().plot(kind='pie',y='BeloHorizonte',autopct='%.2f%%',ax=ax[0])\n",
    "b.groupby(['Name']).sum().plot(kind='pie',y='Campinas',autopct='%.2f%%',ax=ax[1])\n",
    "\n"
   ]
  },
  {
   "cell_type": "code",
   "execution_count": 105,
   "id": "ac29247a",
   "metadata": {},
   "outputs": [
    {
     "data": {
      "text/plain": [
       "<AxesSubplot:ylabel='RiodeJanerio'>"
      ]
     },
     "execution_count": 105,
     "metadata": {},
     "output_type": "execute_result"
    },
    {
     "data": {
      "image/png": "[encoded data removed]",
      "text/plain": [
       "<Figure size 1080x504 with 2 Axes>"
      ]
     },
     "metadata": {},
     "output_type": "display_data"
    }
   ],
   "source": [
    "fig, ax = plt.subplots(1, 2,  figsize = (15, 7))\n",
    "c.groupby(['Name']).sum().plot(kind='pie',y='PortAlegre',autopct='%.2f%%',ax=ax[0])\n",
    "d.groupby(['Name']).sum().plot(kind='pie',y='RiodeJanerio',autopct='%.2f%%',ax=ax[1])"
   ]
  },
  {
   "cell_type": "code",
   "execution_count": 108,
   "id": "ef59eafa",
   "metadata": {},
   "outputs": [
    {
     "data": {
      "text/plain": [
       "<AxesSubplot:ylabel='SaoPaulo'>"
      ]
     },
     "execution_count": 108,
     "metadata": {},
     "output_type": "execute_result"
    },
    {
     "data": {
      "image/png": "[encoded data removed]",
      "text/plain": [
       "<Figure size 432x288 with 1 Axes>"
      ]
     },
     "metadata": {},
     "output_type": "display_data"
    }
   ],
   "source": [
    "e.groupby(['Name']).sum().plot(kind='pie',y='SaoPaulo',autopct='%.2f%%')"
   ]
  },
  {
   "cell_type": "code",
   "execution_count": 109,
   "id": "f77ae863",
   "metadata": {},
   "outputs": [],
   "source": [
    "#SaoPaolo,RioDeJanerio,PortAllegre are the citites in which has most percentage of furnished flats\n",
    "# %of furnished flats found in each of thiese 3 cities are almost apprximately equal to each other\n",
    "#so people leaving in SAOPAULO and RioDeJanerio can consider to move to PortAllegre as their is similar chances of\n",
    "#getting a furnished flat in Port Allegre compared to those two cities"
   ]
  },
  {
   "cell_type": "code",
   "execution_count": 114,
   "id": "45582fb5",
   "metadata": {},
   "outputs": [
    {
     "data": {
      "text/plain": [
       "count    10692.000000\n",
       "mean       149.217920\n",
       "std        537.016942\n",
       "min         11.000000\n",
       "25%         56.000000\n",
       "50%         90.000000\n",
       "75%        182.000000\n",
       "max      46335.000000\n",
       "Name: area, dtype: float64"
      ]
     },
     "execution_count": 114,
     "metadata": {},
     "output_type": "execute_result"
    }
   ],
   "source": [
    "df['area'].describe()"
   ]
  },
  {
   "cell_type": "code",
   "execution_count": 115,
   "id": "b1f534c6",
   "metadata": {},
   "outputs": [
    {
     "name": "stdout",
     "output_type": "stream",
     "text": [
      "<class 'pandas.core.series.Series'>\n",
      "RangeIndex: 10692 entries, 0 to 10691\n",
      "Series name: area\n",
      "Non-Null Count  Dtype\n",
      "--------------  -----\n",
      "10692 non-null  int64\n",
      "dtypes: int64(1)\n",
      "memory usage: 83.7 KB\n"
     ]
    }
   ],
   "source": [
    "df['area'].info()"
   ]
  },
  {
   "cell_type": "code",
   "execution_count": 6,
   "id": "d7943385",
   "metadata": {},
   "outputs": [
    {
     "name": "stdout",
     "output_type": "stream",
     "text": [
      "<class 'pandas.core.series.Series'>\n",
      "RangeIndex: 10692 entries, 0 to 10691\n",
      "Series name: rooms\n",
      "Non-Null Count  Dtype\n",
      "--------------  -----\n",
      "10692 non-null  int64\n",
      "dtypes: int64(1)\n",
      "memory usage: 83.7 KB\n"
     ]
    }
   ],
   "source": [
    "df['rooms'].info()"
   ]
  },
  {
   "cell_type": "code",
   "execution_count": 18,
   "id": "9ad843a3",
   "metadata": {},
   "outputs": [
    {
     "data": {
      "text/plain": [
       "<AxesSubplot:ylabel='rooms'>"
      ]
     },
     "execution_count": 18,
     "metadata": {},
     "output_type": "execute_result"
    },
    {
     "data": {
      "image/png": "[encoded data removed]",
      "text/plain": [
       "<Figure size 1080x576 with 1 Axes>"
      ]
     },
     "metadata": {},
     "output_type": "display_data"
    }
   ],
   "source": [
    "plt.figure(figsize=(15,8))\n",
    "df['rooms'].value_counts().plot(kind='pie',autopct='%.2f%%')"
   ]
  },
  {
   "cell_type": "code",
   "execution_count": 23,
   "id": "e1dd03a1",
   "metadata": {},
   "outputs": [
    {
     "data": {
      "text/plain": [
       "<AxesSubplot:xlabel='rooms', ylabel='count'>"
      ]
     },
     "execution_count": 23,
     "metadata": {},
     "output_type": "execute_result"
    },
    {
     "data": {
      "image/png": "[encoded data removed]",
      "text/plain": [
       "<Figure size 1080x576 with 1 Axes>"
      ]
     },
     "metadata": {
      "needs_background": "light"
     },
     "output_type": "display_data"
    }
   ],
   "source": [
    "\n",
    "plt.figure(figsize=(15,8))\n",
    "sb.countplot(x=df['rooms'],hue=df['city'])"
   ]
  },
  {
   "cell_type": "code",
   "execution_count": 25,
   "id": "dc869f32",
   "metadata": {},
   "outputs": [
    {
     "data": {
      "text/html": [
       "<div>\n",
       "<style scoped>\n",
       "    .dataframe tbody tr th:only-of-type {\n",
       "        vertical-align: middle;\n",
       "    }\n",
       "\n",
       "    .dataframe tbody tr th {\n",
       "        vertical-align: top;\n",
       "    }\n",
       "\n",
       "    .dataframe thead th {\n",
       "        text-align: right;\n",
       "    }\n",
       "</style>\n",
       "<table border=\"1\" class=\"dataframe\">\n",
       "  <thead>\n",
       "    <tr style=\"text-align: right;\">\n",
       "      <th>city</th>\n",
       "      <th>Belo Horizonte</th>\n",
       "      <th>Campinas</th>\n",
       "      <th>Porto Alegre</th>\n",
       "      <th>Rio de Janeiro</th>\n",
       "      <th>São Paulo</th>\n",
       "    </tr>\n",
       "    <tr>\n",
       "      <th>rooms</th>\n",
       "      <th></th>\n",
       "      <th></th>\n",
       "      <th></th>\n",
       "      <th></th>\n",
       "      <th></th>\n",
       "    </tr>\n",
       "  </thead>\n",
       "  <tbody>\n",
       "    <tr>\n",
       "      <th>1</th>\n",
       "      <td>150</td>\n",
       "      <td>218</td>\n",
       "      <td>374</td>\n",
       "      <td>404</td>\n",
       "      <td>1308</td>\n",
       "    </tr>\n",
       "    <tr>\n",
       "      <th>2</th>\n",
       "      <td>286</td>\n",
       "      <td>253</td>\n",
       "      <td>424</td>\n",
       "      <td>522</td>\n",
       "      <td>1490</td>\n",
       "    </tr>\n",
       "    <tr>\n",
       "      <th>3</th>\n",
       "      <td>389</td>\n",
       "      <td>271</td>\n",
       "      <td>299</td>\n",
       "      <td>422</td>\n",
       "      <td>1888</td>\n",
       "    </tr>\n",
       "    <tr>\n",
       "      <th>4</th>\n",
       "      <td>317</td>\n",
       "      <td>91</td>\n",
       "      <td>62</td>\n",
       "      <td>128</td>\n",
       "      <td>988</td>\n",
       "    </tr>\n",
       "    <tr>\n",
       "      <th>5</th>\n",
       "      <td>78</td>\n",
       "      <td>14</td>\n",
       "      <td>22</td>\n",
       "      <td>18</td>\n",
       "      <td>156</td>\n",
       "    </tr>\n",
       "    <tr>\n",
       "      <th>6</th>\n",
       "      <td>20</td>\n",
       "      <td>4</td>\n",
       "      <td>9</td>\n",
       "      <td>3</td>\n",
       "      <td>32</td>\n",
       "    </tr>\n",
       "    <tr>\n",
       "      <th>7</th>\n",
       "      <td>13</td>\n",
       "      <td>2</td>\n",
       "      <td>1</td>\n",
       "      <td>3</td>\n",
       "      <td>17</td>\n",
       "    </tr>\n",
       "    <tr>\n",
       "      <th>8</th>\n",
       "      <td>4</td>\n",
       "      <td>0</td>\n",
       "      <td>2</td>\n",
       "      <td>0</td>\n",
       "      <td>5</td>\n",
       "    </tr>\n",
       "    <tr>\n",
       "      <th>9</th>\n",
       "      <td>0</td>\n",
       "      <td>0</td>\n",
       "      <td>0</td>\n",
       "      <td>0</td>\n",
       "      <td>1</td>\n",
       "    </tr>\n",
       "    <tr>\n",
       "      <th>10</th>\n",
       "      <td>1</td>\n",
       "      <td>0</td>\n",
       "      <td>0</td>\n",
       "      <td>0</td>\n",
       "      <td>2</td>\n",
       "    </tr>\n",
       "    <tr>\n",
       "      <th>13</th>\n",
       "      <td>0</td>\n",
       "      <td>0</td>\n",
       "      <td>0</td>\n",
       "      <td>1</td>\n",
       "      <td>0</td>\n",
       "    </tr>\n",
       "  </tbody>\n",
       "</table>\n",
       "</div>"
      ],
      "text/plain": [
       "city   Belo Horizonte  Campinas  Porto Alegre  Rio de Janeiro  São Paulo\n",
       "rooms                                                                   \n",
       "1                 150       218           374             404       1308\n",
       "2                 286       253           424             522       1490\n",
       "3                 389       271           299             422       1888\n",
       "4                 317        91            62             128        988\n",
       "5                  78        14            22              18        156\n",
       "6                  20         4             9               3         32\n",
       "7                  13         2             1               3         17\n",
       "8                   4         0             2               0          5\n",
       "9                   0         0             0               0          1\n",
       "10                  1         0             0               0          2\n",
       "13                  0         0             0               1          0"
      ]
     },
     "execution_count": 25,
     "metadata": {},
     "output_type": "execute_result"
    }
   ],
   "source": [
    "\n",
    "pd.crosstab(df.rooms,df.city)"
   ]
  },
  {
   "cell_type": "code",
   "execution_count": 26,
   "id": "f2b744a7",
   "metadata": {},
   "outputs": [],
   "source": [
    "#from this table wwe can see in which city what number of flats are available based on number of rooms\n",
    "#those who have large sized family they will like to move in to  4 or 5 roomed flats\n",
    "#large sized families from rio de janerio and sao paolo can move to belo horizonte where 4 or 5 rommed flats are available\n",
    "#small sized families will love to move to 1,2or 3 roomed flats.so small sized family from sao polo and rio de janerio\n",
    "#can move to belo horizonte and campinas where 1 ,2 or  3 roomed flats are available "
   ]
  },
  {
   "cell_type": "code",
   "execution_count": 31,
   "id": "3f30e3fa",
   "metadata": {},
   "outputs": [
    {
     "data": {
      "text/plain": [
       "<AxesSubplot:ylabel='parking spaces'>"
      ]
     },
     "execution_count": 31,
     "metadata": {},
     "output_type": "execute_result"
    },
    {
     "data": {
      "image/png": "[encoded data removed]",
      "text/plain": [
       "<Figure size 432x288 with 1 Axes>"
      ]
     },
     "metadata": {},
     "output_type": "display_data"
    }
   ],
   "source": [
    "df['parking spaces'].value_counts().plot(kind='pie',autopct='%.2f%%')"
   ]
  },
  {
   "cell_type": "code",
   "execution_count": 37,
   "id": "153b5823",
   "metadata": {},
   "outputs": [
    {
     "data": {
      "text/plain": [
       "parking spaces  city          \n",
       "0               São Paulo         1215\n",
       "                Rio de Janeiro     679\n",
       "                Porto Alegre       438\n",
       "                Belo Horizonte     193\n",
       "                Campinas           158\n",
       "1               São Paulo         1772\n",
       "                Rio de Janeiro     602\n",
       "                Porto Alegre       454\n",
       "                Belo Horizonte     415\n",
       "                Campinas           387\n",
       "2               São Paulo         1227\n",
       "                Belo Horizonte     302\n",
       "                Porto Alegre       199\n",
       "                Rio de Janeiro     172\n",
       "                Campinas           170\n",
       "3               São Paulo          696\n",
       "                Belo Horizonte     151\n",
       "                Porto Alegre        47\n",
       "                Campinas            44\n",
       "                Rio de Janeiro      30\n",
       "4               São Paulo          575\n",
       "                Belo Horizonte     107\n",
       "                Campinas            58\n",
       "                Porto Alegre        37\n",
       "                Rio de Janeiro      12\n",
       "5               São Paulo          171\n",
       "                Belo Horizonte      33\n",
       "                Campinas            12\n",
       "                Porto Alegre         9\n",
       "                Rio de Janeiro       5\n",
       "6               São Paulo          124\n",
       "                Belo Horizonte      27\n",
       "                Campinas             7\n",
       "                Porto Alegre         5\n",
       "7               São Paulo           24\n",
       "                Belo Horizonte       7\n",
       "                Porto Alegre         2\n",
       "8               São Paulo           80\n",
       "                Belo Horizonte      23\n",
       "                Campinas            17\n",
       "                Porto Alegre         2\n",
       "                Rio de Janeiro       1\n",
       "10              São Paulo            2\n",
       "12              São Paulo            1\n",
       "Name: city, dtype: int64"
      ]
     },
     "execution_count": 37,
     "metadata": {},
     "output_type": "execute_result"
    }
   ],
   "source": [
    "df.groupby(['parking spaces'])['city'].value_counts()"
   ]
  },
  {
   "cell_type": "code",
   "execution_count": 38,
   "id": "c42ff9d3",
   "metadata": {},
   "outputs": [
    {
     "data": {
      "text/plain": [
       "<AxesSubplot:xlabel='parking spaces', ylabel='count'>"
      ]
     },
     "execution_count": 38,
     "metadata": {},
     "output_type": "execute_result"
    },
    {
     "data": {
      "image/png": "[encoded data removed]",
      "text/plain": [
       "<Figure size 1080x576 with 1 Axes>"
      ]
     },
     "metadata": {
      "needs_background": "light"
     },
     "output_type": "display_data"
    }
   ],
   "source": [
    "plt.figure(figsize=(15,8))\n",
    "sb.countplot(x=df['parking spaces'],hue=df['city'])"
   ]
  },
  {
   "cell_type": "code",
   "execution_count": 39,
   "id": "a8425bae",
   "metadata": {},
   "outputs": [],
   "source": [
    "#Families having one or multiple cars will love to cities where tey can get flats with one or multiple parking spaces \n",
    "#from this graph we can say that families who have one or multiple cars and want to move from rio de janerio and sao paolo can move to \n",
    "#Porto Allegre"
   ]
  },
  {
   "cell_type": "code",
   "execution_count": 47,
   "id": "2888af3e",
   "metadata": {},
   "outputs": [
    {
     "data": {
      "text/plain": [
       "count    1.069200e+04\n",
       "mean     5.490487e+03\n",
       "std      1.648473e+04\n",
       "min      4.990000e+02\n",
       "25%      2.061750e+03\n",
       "50%      3.581500e+03\n",
       "75%      6.768000e+03\n",
       "max      1.120000e+06\n",
       "Name: total (R$), dtype: float64"
      ]
     },
     "execution_count": 47,
     "metadata": {},
     "output_type": "execute_result"
    }
   ],
   "source": [
    "df['total (R$)'].describe()"
   ]
  },
  {
   "cell_type": "code",
   "execution_count": 43,
   "id": "2ae4a3d3",
   "metadata": {},
   "outputs": [
    {
     "data": {
      "text/plain": [
       "<AxesSubplot:title={'center':'total (R$)'}, xlabel='city'>"
      ]
     },
     "execution_count": 43,
     "metadata": {},
     "output_type": "execute_result"
    },
    {
     "data": {
      "image/png": "[encoded data removed]",
      "text/plain": [
       "<Figure size 432x288 with 1 Axes>"
      ]
     },
     "metadata": {
      "needs_background": "light"
     },
     "output_type": "display_data"
    }
   ],
   "source": [
    "df.boxplot(by='city',column=['total (R$)'])\n"
   ]
  },
  {
   "cell_type": "code",
   "execution_count": 48,
   "id": "251fcfee",
   "metadata": {},
   "outputs": [],
   "source": [
    "#sao paolo,rio de janerio have better spread of total cosst wrt to other cities,because both cities have costlier flats wrt\n",
    "#to other cities.belo horizonte and campinas have lesser spread wrt to other cities,these two cities have flats of lowest costs\n",
    "#compared to other cities."
   ]
  },
  {
   "cell_type": "code",
   "execution_count": 49,
   "id": "b85525c3",
   "metadata": {},
   "outputs": [],
   "source": [
    "#so customers who want to move from rio de janerio and sao paolo can move to belo horizonte and campinas as they are less costlier\n"
   ]
  },
  {
   "cell_type": "code",
   "execution_count": 51,
   "id": "cd61e085",
   "metadata": {},
   "outputs": [
    {
     "data": {
      "text/plain": [
       "<AxesSubplot:ylabel='city'>"
      ]
     },
     "execution_count": 51,
     "metadata": {},
     "output_type": "execute_result"
    },
    {
     "data": {
      "image/png": "[encoded data removed]",
      "text/plain": [
       "<Figure size 432x288 with 1 Axes>"
      ]
     },
     "metadata": {},
     "output_type": "display_data"
    }
   ],
   "source": [
    "df['city'].value_counts().plot(kind='pie',autopct='%.2f%%')"
   ]
  },
  {
   "cell_type": "code",
   "execution_count": 55,
   "id": "2d24d9e2",
   "metadata": {},
   "outputs": [
    {
     "data": {
      "text/plain": [
       "furniture\n",
       "furnished        17167043\n",
       "not furnished    41537244\n",
       "Name: total (R$), dtype: int64"
      ]
     },
     "execution_count": 55,
     "metadata": {},
     "output_type": "execute_result"
    }
   ],
   "source": [
    "df.groupby('furniture')['total (R$)'].sum()"
   ]
  },
  {
   "cell_type": "code",
   "execution_count": 56,
   "id": "4f96c4c6",
   "metadata": {},
   "outputs": [
    {
     "data": {
      "text/plain": [
       "<AxesSubplot:ylabel='total (R$)'>"
      ]
     },
     "execution_count": 56,
     "metadata": {},
     "output_type": "execute_result"
    },
    {
     "data": {
      "image/png": "[encoded data removed]",
      "text/plain": [
       "<Figure size 432x288 with 1 Axes>"
      ]
     },
     "metadata": {},
     "output_type": "display_data"
    }
   ],
   "source": [
    "df.groupby('furniture')['total (R$)'].sum().plot(kind='pie',autopct='%.2f%%')"
   ]
  },
  {
   "cell_type": "code",
   "execution_count": 57,
   "id": "a194b0ef",
   "metadata": {},
   "outputs": [],
   "source": [
    "#furnished flats costs less than not furnished flats\n",
    "#so customers from rio de janerio and sao paolo will like to move to cities which have more avaibility of furnished flats"
   ]
  },
  {
   "cell_type": "code",
   "execution_count": 25,
   "id": "57b133f0",
   "metadata": {},
   "outputs": [
    {
     "data": {
      "text/html": [
       "<div>\n",
       "<style scoped>\n",
       "    .dataframe tbody tr th:only-of-type {\n",
       "        vertical-align: middle;\n",
       "    }\n",
       "\n",
       "    .dataframe tbody tr th {\n",
       "        vertical-align: top;\n",
       "    }\n",
       "\n",
       "    .dataframe thead th {\n",
       "        text-align: right;\n",
       "    }\n",
       "</style>\n",
       "<table border=\"1\" class=\"dataframe\">\n",
       "  <thead>\n",
       "    <tr style=\"text-align: right;\">\n",
       "      <th></th>\n",
       "      <th>city</th>\n",
       "      <th>area</th>\n",
       "      <th>rooms</th>\n",
       "      <th>bathroom</th>\n",
       "      <th>parking spaces</th>\n",
       "      <th>floor</th>\n",
       "      <th>animal</th>\n",
       "      <th>furniture</th>\n",
       "      <th>hoa (R$)</th>\n",
       "      <th>rent amount (R$)</th>\n",
       "      <th>property tax (R$)</th>\n",
       "      <th>fire insurance (R$)</th>\n",
       "      <th>total (R$)</th>\n",
       "    </tr>\n",
       "  </thead>\n",
       "  <tbody>\n",
       "    <tr>\n",
       "      <th>0</th>\n",
       "      <td>São Paulo</td>\n",
       "      <td>70</td>\n",
       "      <td>2</td>\n",
       "      <td>1</td>\n",
       "      <td>1</td>\n",
       "      <td>7</td>\n",
       "      <td>acept</td>\n",
       "      <td>furnished</td>\n",
       "      <td>2065</td>\n",
       "      <td>3300</td>\n",
       "      <td>211</td>\n",
       "      <td>42</td>\n",
       "      <td>5618</td>\n",
       "    </tr>\n",
       "    <tr>\n",
       "      <th>8</th>\n",
       "      <td>São Paulo</td>\n",
       "      <td>152</td>\n",
       "      <td>2</td>\n",
       "      <td>2</td>\n",
       "      <td>1</td>\n",
       "      <td>3</td>\n",
       "      <td>acept</td>\n",
       "      <td>furnished</td>\n",
       "      <td>1000</td>\n",
       "      <td>15000</td>\n",
       "      <td>250</td>\n",
       "      <td>191</td>\n",
       "      <td>16440</td>\n",
       "    </tr>\n",
       "    <tr>\n",
       "      <th>9</th>\n",
       "      <td>Rio de Janeiro</td>\n",
       "      <td>35</td>\n",
       "      <td>1</td>\n",
       "      <td>1</td>\n",
       "      <td>0</td>\n",
       "      <td>2</td>\n",
       "      <td>acept</td>\n",
       "      <td>furnished</td>\n",
       "      <td>590</td>\n",
       "      <td>2300</td>\n",
       "      <td>35</td>\n",
       "      <td>30</td>\n",
       "      <td>2955</td>\n",
       "    </tr>\n",
       "    <tr>\n",
       "      <th>10</th>\n",
       "      <td>São Paulo</td>\n",
       "      <td>26</td>\n",
       "      <td>1</td>\n",
       "      <td>1</td>\n",
       "      <td>0</td>\n",
       "      <td>2</td>\n",
       "      <td>acept</td>\n",
       "      <td>furnished</td>\n",
       "      <td>470</td>\n",
       "      <td>2100</td>\n",
       "      <td>150</td>\n",
       "      <td>27</td>\n",
       "      <td>2747</td>\n",
       "    </tr>\n",
       "    <tr>\n",
       "      <th>13</th>\n",
       "      <td>São Paulo</td>\n",
       "      <td>55</td>\n",
       "      <td>1</td>\n",
       "      <td>1</td>\n",
       "      <td>1</td>\n",
       "      <td>2</td>\n",
       "      <td>acept</td>\n",
       "      <td>furnished</td>\n",
       "      <td>790</td>\n",
       "      <td>4200</td>\n",
       "      <td>224</td>\n",
       "      <td>54</td>\n",
       "      <td>5268</td>\n",
       "    </tr>\n",
       "    <tr>\n",
       "      <th>...</th>\n",
       "      <td>...</td>\n",
       "      <td>...</td>\n",
       "      <td>...</td>\n",
       "      <td>...</td>\n",
       "      <td>...</td>\n",
       "      <td>...</td>\n",
       "      <td>...</td>\n",
       "      <td>...</td>\n",
       "      <td>...</td>\n",
       "      <td>...</td>\n",
       "      <td>...</td>\n",
       "      <td>...</td>\n",
       "      <td>...</td>\n",
       "    </tr>\n",
       "    <tr>\n",
       "      <th>10682</th>\n",
       "      <td>Porto Alegre</td>\n",
       "      <td>160</td>\n",
       "      <td>3</td>\n",
       "      <td>2</td>\n",
       "      <td>3</td>\n",
       "      <td>4</td>\n",
       "      <td>acept</td>\n",
       "      <td>furnished</td>\n",
       "      <td>850</td>\n",
       "      <td>3300</td>\n",
       "      <td>220</td>\n",
       "      <td>49</td>\n",
       "      <td>4419</td>\n",
       "    </tr>\n",
       "    <tr>\n",
       "      <th>10686</th>\n",
       "      <td>São Paulo</td>\n",
       "      <td>150</td>\n",
       "      <td>3</td>\n",
       "      <td>3</td>\n",
       "      <td>2</td>\n",
       "      <td>8</td>\n",
       "      <td>not acept</td>\n",
       "      <td>furnished</td>\n",
       "      <td>0</td>\n",
       "      <td>13500</td>\n",
       "      <td>0</td>\n",
       "      <td>172</td>\n",
       "      <td>13670</td>\n",
       "    </tr>\n",
       "    <tr>\n",
       "      <th>10687</th>\n",
       "      <td>Porto Alegre</td>\n",
       "      <td>63</td>\n",
       "      <td>2</td>\n",
       "      <td>1</td>\n",
       "      <td>1</td>\n",
       "      <td>5</td>\n",
       "      <td>not acept</td>\n",
       "      <td>furnished</td>\n",
       "      <td>402</td>\n",
       "      <td>1478</td>\n",
       "      <td>24</td>\n",
       "      <td>22</td>\n",
       "      <td>1926</td>\n",
       "    </tr>\n",
       "    <tr>\n",
       "      <th>10689</th>\n",
       "      <td>Rio de Janeiro</td>\n",
       "      <td>70</td>\n",
       "      <td>3</td>\n",
       "      <td>3</td>\n",
       "      <td>0</td>\n",
       "      <td>8</td>\n",
       "      <td>not acept</td>\n",
       "      <td>furnished</td>\n",
       "      <td>980</td>\n",
       "      <td>6000</td>\n",
       "      <td>332</td>\n",
       "      <td>78</td>\n",
       "      <td>7390</td>\n",
       "    </tr>\n",
       "    <tr>\n",
       "      <th>10690</th>\n",
       "      <td>Rio de Janeiro</td>\n",
       "      <td>120</td>\n",
       "      <td>2</td>\n",
       "      <td>2</td>\n",
       "      <td>2</td>\n",
       "      <td>8</td>\n",
       "      <td>acept</td>\n",
       "      <td>furnished</td>\n",
       "      <td>1585</td>\n",
       "      <td>12000</td>\n",
       "      <td>279</td>\n",
       "      <td>155</td>\n",
       "      <td>14020</td>\n",
       "    </tr>\n",
       "  </tbody>\n",
       "</table>\n",
       "<p>2606 rows × 13 columns</p>\n",
       "</div>"
      ],
      "text/plain": [
       "                 city  area  rooms  bathroom  parking spaces  floor  \\\n",
       "0           São Paulo    70      2         1               1      7   \n",
       "8           São Paulo   152      2         2               1      3   \n",
       "9      Rio de Janeiro    35      1         1               0      2   \n",
       "10          São Paulo    26      1         1               0      2   \n",
       "13          São Paulo    55      1         1               1      2   \n",
       "...               ...   ...    ...       ...             ...    ...   \n",
       "10682    Porto Alegre   160      3         2               3      4   \n",
       "10686       São Paulo   150      3         3               2      8   \n",
       "10687    Porto Alegre    63      2         1               1      5   \n",
       "10689  Rio de Janeiro    70      3         3               0      8   \n",
       "10690  Rio de Janeiro   120      2         2               2      8   \n",
       "\n",
       "          animal  furniture  hoa (R$)  rent amount (R$)  property tax (R$)  \\\n",
       "0          acept  furnished      2065              3300                211   \n",
       "8          acept  furnished      1000             15000                250   \n",
       "9          acept  furnished       590              2300                 35   \n",
       "10         acept  furnished       470              2100                150   \n",
       "13         acept  furnished       790              4200                224   \n",
       "...          ...        ...       ...               ...                ...   \n",
       "10682      acept  furnished       850              3300                220   \n",
       "10686  not acept  furnished         0             13500                  0   \n",
       "10687  not acept  furnished       402              1478                 24   \n",
       "10689  not acept  furnished       980              6000                332   \n",
       "10690      acept  furnished      1585             12000                279   \n",
       "\n",
       "       fire insurance (R$)  total (R$)  \n",
       "0                       42        5618  \n",
       "8                      191       16440  \n",
       "9                       30        2955  \n",
       "10                      27        2747  \n",
       "13                      54        5268  \n",
       "...                    ...         ...  \n",
       "10682                   49        4419  \n",
       "10686                  172       13670  \n",
       "10687                   22        1926  \n",
       "10689                   78        7390  \n",
       "10690                  155       14020  \n",
       "\n",
       "[2606 rows x 13 columns]"
      ]
     },
     "execution_count": 25,
     "metadata": {},
     "output_type": "execute_result"
    }
   ],
   "source": [
    "df1=df[(df.furniture=='furnished')]\n",
    "df1"
   ]
  },
  {
   "cell_type": "code",
   "execution_count": 7,
   "id": "c6c5ee38",
   "metadata": {},
   "outputs": [
    {
     "data": {
      "text/plain": [
       "city\n",
       "Belo Horizonte    6024.372881\n",
       "Campinas          3808.918919\n",
       "Porto Alegre      3818.605016\n",
       "Rio de Janeiro    6009.556650\n",
       "São Paulo         7545.463905\n",
       "Name: total (R$), dtype: float64"
      ]
     },
     "execution_count": 7,
     "metadata": {},
     "output_type": "execute_result"
    }
   ],
   "source": [
    "df1.groupby('city')['total (R$)'].mean()"
   ]
  },
  {
   "cell_type": "code",
   "execution_count": 26,
   "id": "4aba101d",
   "metadata": {},
   "outputs": [
    {
     "data": {
      "text/plain": [
       "<AxesSubplot:xlabel='city', ylabel='total (R$)'>"
      ]
     },
     "execution_count": 26,
     "metadata": {},
     "output_type": "execute_result"
    },
    {
     "data": {
      "image/png": "[encoded data removed]",
      "text/plain": [
       "<Figure size 1080x432 with 1 Axes>"
      ]
     },
     "metadata": {
      "needs_background": "light"
     },
     "output_type": "display_data"
    }
   ],
   "source": [
    "plt.figure(figsize=(15,6))\n",
    "sb.barplot(data=df1,x='city',y='total (R$)',estimator=np.sum)"
   ]
  },
  {
   "cell_type": "code",
   "execution_count": 13,
   "id": "1f0bc1d2",
   "metadata": {},
   "outputs": [
    {
     "data": {
      "text/plain": [
       "Text(0.5, 1.0, 'cost of flats of city Campinas')"
      ]
     },
     "execution_count": 13,
     "metadata": {},
     "output_type": "execute_result"
    },
    {
     "data": {
      "image/png": "[encoded data removed]",
      "text/plain": [
       "<Figure size 432x288 with 1 Axes>"
      ]
     },
     "metadata": {
      "needs_background": "light"
     },
     "output_type": "display_data"
    }
   ],
   "source": [
    "df2=df[(df.city=='Campinas')]\n",
    "\n",
    "\n",
    "sb.histplot(data=df2['total (R$)'],kde=True,color='green')\n",
    "plt.title('cost of flats of city Campinas')"
   ]
  },
  {
   "cell_type": "code",
   "execution_count": 20,
   "id": "08394878",
   "metadata": {},
   "outputs": [
    {
     "data": {
      "text/plain": [
       "Text(0.5, 1.0, 'cost of flats of city porto allegre')"
      ]
     },
     "execution_count": 20,
     "metadata": {},
     "output_type": "execute_result"
    },
    {
     "data": {
      "image/png": "[encoded data removed]",
      "text/plain": [
       "<Figure size 432x288 with 1 Axes>"
      ]
     },
     "metadata": {
      "needs_background": "light"
     },
     "output_type": "display_data"
    }
   ],
   "source": [
    "df3=df[(df.city=='Porto Alegre')]\n",
    "sb.histplot(data=df3['total (R$)'],kde=True,color='red')\n",
    "plt.title('cost of flats of city porto allegre')"
   ]
  },
  {
   "cell_type": "code",
   "execution_count": 27,
   "id": "e4a9a109",
   "metadata": {},
   "outputs": [
    {
     "data": {
      "text/plain": [
       "Text(0.5, 1.0, 'cost of flats of city sao paolo')"
      ]
     },
     "execution_count": 27,
     "metadata": {},
     "output_type": "execute_result"
    },
    {
     "data": {
      "image/png": "[encoded data removed]",
      "text/plain": [
       "<Figure size 432x288 with 1 Axes>"
      ]
     },
     "metadata": {
      "needs_background": "light"
     },
     "output_type": "display_data"
    }
   ],
   "source": [
    "df4=df[(df.city=='São Paulo')]\n",
    "sb.histplot(data=df4['total (R$)'],kde=True,color='red')\n",
    "plt.title('cost of flats of city sao paolo')"
   ]
  },
  {
   "cell_type": "code",
   "execution_count": 28,
   "id": "242ad924",
   "metadata": {},
   "outputs": [
    {
     "data": {
      "text/plain": [
       "Text(0.5, 1.0, 'cost of flats of city riodejanerio')"
      ]
     },
     "execution_count": 28,
     "metadata": {},
     "output_type": "execute_result"
    },
    {
     "data": {
      "image/png": "[encoded data removed]",
      "text/plain": [
       "<Figure size 432x288 with 1 Axes>"
      ]
     },
     "metadata": {
      "needs_background": "light"
     },
     "output_type": "display_data"
    }
   ],
   "source": [
    "df5=df[(df.city=='Rio de Janeiro')]\n",
    "sb.histplot(data=df5['total (R$)'],kde=True,color='red')\n",
    "plt.title('cost of flats of city riodejanerio')"
   ]
  },
  {
   "cell_type": "code",
   "execution_count": 29,
   "id": "efd6205c",
   "metadata": {},
   "outputs": [],
   "source": [
    "#from the above distributions we can see in porto allegre and campinas most flats are available at total cost less than 10000\n",
    "#in rio de janerio and sao paolo most flats are at costs higher than 20k"
   ]
  },
  {
   "cell_type": "code",
   "execution_count": 30,
   "id": "12c817bc",
   "metadata": {},
   "outputs": [],
   "source": [
    "#so porto allegre and campinas are relatively less costlier compared to rio de janerio and sao paolo"
   ]
  },
  {
   "cell_type": "code",
   "execution_count": 31,
   "id": "56e1fa34",
   "metadata": {},
   "outputs": [],
   "source": [
    "#so people will move to porto allegre and campinas as they are less costlier compared to rio de janerio and sao paolo"
   ]
  },
  {
   "cell_type": "code",
   "execution_count": 33,
   "id": "0350ffb5",
   "metadata": {},
   "outputs": [
    {
     "data": {
      "text/plain": [
       "0.051799407453535284"
      ]
     },
     "execution_count": 33,
     "metadata": {},
     "output_type": "execute_result"
    }
   ],
   "source": [
    "df['total (R$)'].corr(df['area'])"
   ]
  },
  {
   "cell_type": "code",
   "execution_count": 34,
   "id": "77ac916d",
   "metadata": {},
   "outputs": [
    {
     "data": {
      "text/plain": [
       "<AxesSubplot:xlabel='total (R$)', ylabel='area'>"
      ]
     },
     "execution_count": 34,
     "metadata": {},
     "output_type": "execute_result"
    },
    {
     "data": {
      "image/png": "[encoded data removed]",
      "text/plain": [
       "<Figure size 432x288 with 1 Axes>"
      ]
     },
     "metadata": {
      "needs_background": "light"
     },
     "output_type": "display_data"
    }
   ],
   "source": [
    "sb.regplot(x='total (R$)',y='area',data=df)"
   ]
  },
  {
   "cell_type": "code",
   "execution_count": 35,
   "id": "8bf4b0b9",
   "metadata": {},
   "outputs": [],
   "source": [
    "#from the regression plot we can say total cost and area has small positive correlation wrt to each other\n",
    "# cost will increase slowly slowly as area of the flats increases"
   ]
  },
  {
   "cell_type": "code",
   "execution_count": 52,
   "id": "c44720be",
   "metadata": {},
   "outputs": [],
   "source": [
    "a=df['area'].mean()\n",
    "a1=df[(df.area>a)]\n"
   ]
  },
  {
   "cell_type": "code",
   "execution_count": 49,
   "id": "32b4a5ab",
   "metadata": {},
   "outputs": [
    {
     "data": {
      "text/plain": [
       "city\n",
       "Belo Horizonte     512\n",
       "Campinas           194\n",
       "Porto Alegre       193\n",
       "Rio de Janeiro     265\n",
       "São Paulo         2267\n",
       "Name: city, dtype: int64"
      ]
     },
     "execution_count": 49,
     "metadata": {},
     "output_type": "execute_result"
    }
   ],
   "source": [
    "a1.groupby('city')['city'].count()"
   ]
  },
  {
   "cell_type": "code",
   "execution_count": 54,
   "id": "f2a2f98a",
   "metadata": {},
   "outputs": [
    {
     "data": {
      "text/plain": [
       "<AxesSubplot:ylabel='city'>"
      ]
     },
     "execution_count": 54,
     "metadata": {},
     "output_type": "execute_result"
    },
    {
     "data": {
      "image/png": "[encoded data removed]",
      "text/plain": [
       "<Figure size 432x288 with 1 Axes>"
      ]
     },
     "metadata": {},
     "output_type": "display_data"
    }
   ],
   "source": [
    "a1['city'].value_counts().plot(kind='pie',autopct='%.2f%%')"
   ]
  },
  {
   "cell_type": "code",
   "execution_count": 55,
   "id": "aed70d2e",
   "metadata": {},
   "outputs": [],
   "source": [
    "#flats having area less than mean of total area are mostly available in belo horizonte except rio and sao paulo\n",
    "#so people moving from sao paolo and rio can move to belohorizonte in search of lower costs flats"
   ]
  },
  {
   "cell_type": "code",
   "execution_count": 64,
   "id": "00cd64df",
   "metadata": {},
   "outputs": [
    {
     "data": {
      "text/plain": [
       "0.13459676505062074"
      ]
     },
     "execution_count": 64,
     "metadata": {},
     "output_type": "execute_result"
    }
   ],
   "source": [
    "df['rooms'].corr(df['total (R$)']) "
   ]
  },
  {
   "cell_type": "code",
   "execution_count": 67,
   "id": "b3f60b4e",
   "metadata": {},
   "outputs": [
    {
     "data": {
      "text/plain": [
       "<AxesSubplot:xlabel='total (R$)', ylabel='rooms'>"
      ]
     },
     "execution_count": 67,
     "metadata": {},
     "output_type": "execute_result"
    },
    {
     "data": {
      "image/png": "[encoded data removed]",
      "text/plain": [
       "<Figure size 432x288 with 1 Axes>"
      ]
     },
     "metadata": {
      "needs_background": "light"
     },
     "output_type": "display_data"
    }
   ],
   "source": [
    "sb.regplot(x='total (R$)',y='rooms',data=df)"
   ]
  },
  {
   "cell_type": "code",
   "execution_count": 68,
   "id": "fcaac5d9",
   "metadata": {},
   "outputs": [],
   "source": [
    "#from the regplot we can say total cost and rooms are positively correlated,ie flats with more rooms will cost more"
   ]
  },
  {
   "cell_type": "code",
   "execution_count": 69,
   "id": "33402072",
   "metadata": {},
   "outputs": [
    {
     "data": {
      "text/plain": [
       "rooms  city          \n",
       "1      São Paulo         1308\n",
       "       Rio de Janeiro     404\n",
       "       Porto Alegre       374\n",
       "       Campinas           218\n",
       "       Belo Horizonte     150\n",
       "2      São Paulo         1490\n",
       "       Rio de Janeiro     522\n",
       "       Porto Alegre       424\n",
       "       Belo Horizonte     286\n",
       "       Campinas           253\n",
       "3      São Paulo         1888\n",
       "       Rio de Janeiro     422\n",
       "       Belo Horizonte     389\n",
       "       Porto Alegre       299\n",
       "       Campinas           271\n",
       "4      São Paulo          988\n",
       "       Belo Horizonte     317\n",
       "       Rio de Janeiro     128\n",
       "       Campinas            91\n",
       "       Porto Alegre        62\n",
       "5      São Paulo          156\n",
       "       Belo Horizonte      78\n",
       "       Porto Alegre        22\n",
       "       Rio de Janeiro      18\n",
       "       Campinas            14\n",
       "6      São Paulo           32\n",
       "       Belo Horizonte      20\n",
       "       Porto Alegre         9\n",
       "       Campinas             4\n",
       "       Rio de Janeiro       3\n",
       "7      São Paulo           17\n",
       "       Belo Horizonte      13\n",
       "       Rio de Janeiro       3\n",
       "       Campinas             2\n",
       "       Porto Alegre         1\n",
       "8      São Paulo            5\n",
       "       Belo Horizonte       4\n",
       "       Porto Alegre         2\n",
       "9      São Paulo            1\n",
       "10     São Paulo            2\n",
       "       Belo Horizonte       1\n",
       "13     Rio de Janeiro       1\n",
       "Name: city, dtype: int64"
      ]
     },
     "execution_count": 69,
     "metadata": {},
     "output_type": "execute_result"
    }
   ],
   "source": [
    "df.groupby('rooms')['city'].value_counts()"
   ]
  },
  {
   "cell_type": "code",
   "execution_count": 5,
   "id": "b6b5a4c8",
   "metadata": {},
   "outputs": [
    {
     "data": {
      "text/plain": [
       "rooms\n",
       "1      3707.640994\n",
       "2      3254.217815\n",
       "3      6010.659223\n",
       "4     10017.626103\n",
       "5     11255.065972\n",
       "6      8996.088235\n",
       "7      9966.638889\n",
       "8     10857.272727\n",
       "9     12780.000000\n",
       "10     9178.666667\n",
       "13    15900.000000\n",
       "Name: total (R$), dtype: float64"
      ]
     },
     "execution_count": 5,
     "metadata": {},
     "output_type": "execute_result"
    }
   ],
   "source": [
    "df.groupby(['rooms'])['total (R$)'].mean()"
   ]
  },
  {
   "cell_type": "code",
   "execution_count": 6,
   "id": "316c4ad4",
   "metadata": {},
   "outputs": [
    {
     "data": {
      "text/html": [
       "<div>\n",
       "<style scoped>\n",
       "    .dataframe tbody tr th:only-of-type {\n",
       "        vertical-align: middle;\n",
       "    }\n",
       "\n",
       "    .dataframe tbody tr th {\n",
       "        vertical-align: top;\n",
       "    }\n",
       "\n",
       "    .dataframe thead th {\n",
       "        text-align: right;\n",
       "    }\n",
       "</style>\n",
       "<table border=\"1\" class=\"dataframe\">\n",
       "  <thead>\n",
       "    <tr style=\"text-align: right;\">\n",
       "      <th>rooms</th>\n",
       "      <th>1</th>\n",
       "      <th>2</th>\n",
       "      <th>3</th>\n",
       "      <th>4</th>\n",
       "      <th>5</th>\n",
       "      <th>6</th>\n",
       "      <th>7</th>\n",
       "      <th>8</th>\n",
       "      <th>9</th>\n",
       "      <th>10</th>\n",
       "      <th>13</th>\n",
       "    </tr>\n",
       "    <tr>\n",
       "      <th>city</th>\n",
       "      <th></th>\n",
       "      <th></th>\n",
       "      <th></th>\n",
       "      <th></th>\n",
       "      <th></th>\n",
       "      <th></th>\n",
       "      <th></th>\n",
       "      <th></th>\n",
       "      <th></th>\n",
       "      <th></th>\n",
       "      <th></th>\n",
       "    </tr>\n",
       "  </thead>\n",
       "  <tbody>\n",
       "    <tr>\n",
       "      <th>Belo Horizonte</th>\n",
       "      <td>150</td>\n",
       "      <td>286</td>\n",
       "      <td>389</td>\n",
       "      <td>317</td>\n",
       "      <td>78</td>\n",
       "      <td>20</td>\n",
       "      <td>13</td>\n",
       "      <td>4</td>\n",
       "      <td>0</td>\n",
       "      <td>1</td>\n",
       "      <td>0</td>\n",
       "    </tr>\n",
       "    <tr>\n",
       "      <th>Campinas</th>\n",
       "      <td>218</td>\n",
       "      <td>253</td>\n",
       "      <td>271</td>\n",
       "      <td>91</td>\n",
       "      <td>14</td>\n",
       "      <td>4</td>\n",
       "      <td>2</td>\n",
       "      <td>0</td>\n",
       "      <td>0</td>\n",
       "      <td>0</td>\n",
       "      <td>0</td>\n",
       "    </tr>\n",
       "    <tr>\n",
       "      <th>Porto Alegre</th>\n",
       "      <td>374</td>\n",
       "      <td>424</td>\n",
       "      <td>299</td>\n",
       "      <td>62</td>\n",
       "      <td>22</td>\n",
       "      <td>9</td>\n",
       "      <td>1</td>\n",
       "      <td>2</td>\n",
       "      <td>0</td>\n",
       "      <td>0</td>\n",
       "      <td>0</td>\n",
       "    </tr>\n",
       "    <tr>\n",
       "      <th>Rio de Janeiro</th>\n",
       "      <td>404</td>\n",
       "      <td>522</td>\n",
       "      <td>422</td>\n",
       "      <td>128</td>\n",
       "      <td>18</td>\n",
       "      <td>3</td>\n",
       "      <td>3</td>\n",
       "      <td>0</td>\n",
       "      <td>0</td>\n",
       "      <td>0</td>\n",
       "      <td>1</td>\n",
       "    </tr>\n",
       "    <tr>\n",
       "      <th>São Paulo</th>\n",
       "      <td>1308</td>\n",
       "      <td>1490</td>\n",
       "      <td>1888</td>\n",
       "      <td>988</td>\n",
       "      <td>156</td>\n",
       "      <td>32</td>\n",
       "      <td>17</td>\n",
       "      <td>5</td>\n",
       "      <td>1</td>\n",
       "      <td>2</td>\n",
       "      <td>0</td>\n",
       "    </tr>\n",
       "  </tbody>\n",
       "</table>\n",
       "</div>"
      ],
      "text/plain": [
       "rooms             1     2     3    4    5   6   7   8   9   10  13\n",
       "city                                                              \n",
       "Belo Horizonte   150   286   389  317   78  20  13   4   0   1   0\n",
       "Campinas         218   253   271   91   14   4   2   0   0   0   0\n",
       "Porto Alegre     374   424   299   62   22   9   1   2   0   0   0\n",
       "Rio de Janeiro   404   522   422  128   18   3   3   0   0   0   1\n",
       "São Paulo       1308  1490  1888  988  156  32  17   5   1   2   0"
      ]
     },
     "execution_count": 6,
     "metadata": {},
     "output_type": "execute_result"
    }
   ],
   "source": [
    "pd.crosstab(df.city,df.rooms)"
   ]
  },
  {
   "cell_type": "code",
   "execution_count": 7,
   "id": "62943a0a",
   "metadata": {},
   "outputs": [
    {
     "data": {
      "text/plain": [
       "<AxesSubplot:xlabel='city'>"
      ]
     },
     "execution_count": 7,
     "metadata": {},
     "output_type": "execute_result"
    },
    {
     "data": {
      "image/png": "[encoded data removed]",
      "text/plain": [
       "<Figure size 432x288 with 1 Axes>"
      ]
     },
     "metadata": {
      "needs_background": "light"
     },
     "output_type": "display_data"
    }
   ],
   "source": [
    "pd.crosstab(df.city,df.rooms).plot.bar()"
   ]
  },
  {
   "cell_type": "code",
   "execution_count": null,
   "id": "791dcafa",
   "metadata": {},
   "outputs": [],
   "source": [
    "#as we know that to get low cost flats we need to get flats with less number of rooms\n",
    "#from the crosstab we can say that we can get 1,2,3,4 rooms flats much easier in porto allegre compared to Campinas and Belo-Horizonte"
   ]
  },
  {
   "cell_type": "code",
   "execution_count": 8,
   "id": "dbb751ed",
   "metadata": {},
   "outputs": [
    {
     "data": {
      "text/plain": [
       "count    10692.000000\n",
       "mean         2.236813\n",
       "std          1.407198\n",
       "min          1.000000\n",
       "25%          1.000000\n",
       "50%          2.000000\n",
       "75%          3.000000\n",
       "max         10.000000\n",
       "Name: bathroom, dtype: float64"
      ]
     },
     "execution_count": 8,
     "metadata": {},
     "output_type": "execute_result"
    }
   ],
   "source": [
    "df['bathroom'].describe()"
   ]
  },
  {
   "cell_type": "code",
   "execution_count": 10,
   "id": "b184d8aa",
   "metadata": {},
   "outputs": [
    {
     "data": {
      "text/plain": [
       "0.2083393737937553"
      ]
     },
     "execution_count": 10,
     "metadata": {},
     "output_type": "execute_result"
    }
   ],
   "source": [
    "df['bathroom'].corr(df['total (R$)']) "
   ]
  },
  {
   "cell_type": "code",
   "execution_count": 13,
   "id": "1ecc01be",
   "metadata": {
    "scrolled": true
   },
   "outputs": [
    {
     "data": {
      "text/plain": [
       "<AxesSubplot:xlabel='total (R$)', ylabel='bathroom'>"
      ]
     },
     "execution_count": 13,
     "metadata": {},
     "output_type": "execute_result"
    },
    {
     "data": {
      "image/png": "[encoded data removed]",
      "text/plain": [
       "<Figure size 432x288 with 1 Axes>"
      ]
     },
     "metadata": {
      "needs_background": "light"
     },
     "output_type": "display_data"
    }
   ],
   "source": [
    "sb.regplot(x='total (R$)',y='bathroom',data=df)"
   ]
  },
  {
   "cell_type": "code",
   "execution_count": 14,
   "id": "bc3e83ce",
   "metadata": {},
   "outputs": [],
   "source": [
    "#from the plot we can see that number of bathrooms is positively correlated with total cost.so as fats with more no of bathrooms \n",
    "#will cost more"
   ]
  },
  {
   "cell_type": "code",
   "execution_count": 15,
   "id": "ca8b451e",
   "metadata": {},
   "outputs": [
    {
     "data": {
      "text/html": [
       "<div>\n",
       "<style scoped>\n",
       "    .dataframe tbody tr th:only-of-type {\n",
       "        vertical-align: middle;\n",
       "    }\n",
       "\n",
       "    .dataframe tbody tr th {\n",
       "        vertical-align: top;\n",
       "    }\n",
       "\n",
       "    .dataframe thead th {\n",
       "        text-align: right;\n",
       "    }\n",
       "</style>\n",
       "<table border=\"1\" class=\"dataframe\">\n",
       "  <thead>\n",
       "    <tr style=\"text-align: right;\">\n",
       "      <th>city</th>\n",
       "      <th>Belo Horizonte</th>\n",
       "      <th>Campinas</th>\n",
       "      <th>Porto Alegre</th>\n",
       "      <th>Rio de Janeiro</th>\n",
       "      <th>São Paulo</th>\n",
       "    </tr>\n",
       "    <tr>\n",
       "      <th>bathroom</th>\n",
       "      <th></th>\n",
       "      <th></th>\n",
       "      <th></th>\n",
       "      <th></th>\n",
       "      <th></th>\n",
       "    </tr>\n",
       "  </thead>\n",
       "  <tbody>\n",
       "    <tr>\n",
       "      <th>1</th>\n",
       "      <td>410</td>\n",
       "      <td>439</td>\n",
       "      <td>650</td>\n",
       "      <td>736</td>\n",
       "      <td>2066</td>\n",
       "    </tr>\n",
       "    <tr>\n",
       "      <th>2</th>\n",
       "      <td>374</td>\n",
       "      <td>214</td>\n",
       "      <td>347</td>\n",
       "      <td>527</td>\n",
       "      <td>1448</td>\n",
       "    </tr>\n",
       "    <tr>\n",
       "      <th>3</th>\n",
       "      <td>221</td>\n",
       "      <td>94</td>\n",
       "      <td>111</td>\n",
       "      <td>152</td>\n",
       "      <td>896</td>\n",
       "    </tr>\n",
       "    <tr>\n",
       "      <th>4</th>\n",
       "      <td>133</td>\n",
       "      <td>43</td>\n",
       "      <td>59</td>\n",
       "      <td>55</td>\n",
       "      <td>821</td>\n",
       "    </tr>\n",
       "    <tr>\n",
       "      <th>5</th>\n",
       "      <td>72</td>\n",
       "      <td>37</td>\n",
       "      <td>16</td>\n",
       "      <td>19</td>\n",
       "      <td>434</td>\n",
       "    </tr>\n",
       "    <tr>\n",
       "      <th>6</th>\n",
       "      <td>32</td>\n",
       "      <td>16</td>\n",
       "      <td>6</td>\n",
       "      <td>9</td>\n",
       "      <td>152</td>\n",
       "    </tr>\n",
       "    <tr>\n",
       "      <th>7</th>\n",
       "      <td>13</td>\n",
       "      <td>10</td>\n",
       "      <td>2</td>\n",
       "      <td>3</td>\n",
       "      <td>57</td>\n",
       "    </tr>\n",
       "    <tr>\n",
       "      <th>8</th>\n",
       "      <td>2</td>\n",
       "      <td>0</td>\n",
       "      <td>2</td>\n",
       "      <td>0</td>\n",
       "      <td>7</td>\n",
       "    </tr>\n",
       "    <tr>\n",
       "      <th>9</th>\n",
       "      <td>0</td>\n",
       "      <td>0</td>\n",
       "      <td>0</td>\n",
       "      <td>0</td>\n",
       "      <td>4</td>\n",
       "    </tr>\n",
       "    <tr>\n",
       "      <th>10</th>\n",
       "      <td>1</td>\n",
       "      <td>0</td>\n",
       "      <td>0</td>\n",
       "      <td>0</td>\n",
       "      <td>2</td>\n",
       "    </tr>\n",
       "  </tbody>\n",
       "</table>\n",
       "</div>"
      ],
      "text/plain": [
       "city      Belo Horizonte  Campinas  Porto Alegre  Rio de Janeiro  São Paulo\n",
       "bathroom                                                                   \n",
       "1                    410       439           650             736       2066\n",
       "2                    374       214           347             527       1448\n",
       "3                    221        94           111             152        896\n",
       "4                    133        43            59              55        821\n",
       "5                     72        37            16              19        434\n",
       "6                     32        16             6               9        152\n",
       "7                     13        10             2               3         57\n",
       "8                      2         0             2               0          7\n",
       "9                      0         0             0               0          4\n",
       "10                     1         0             0               0          2"
      ]
     },
     "execution_count": 15,
     "metadata": {},
     "output_type": "execute_result"
    }
   ],
   "source": [
    "pd.crosstab(df.bathroom,df.city)"
   ]
  },
  {
   "cell_type": "code",
   "execution_count": 16,
   "id": "da42e5bd",
   "metadata": {},
   "outputs": [],
   "source": [
    "#from here we can say that flats with less bathrooms(<4) are mostly available in belohorizonte,campinas,porte allegre\n",
    "#so belo horizonte can be a suitable city to move onto from saopaolo andd rio de janerio"
   ]
  },
  {
   "cell_type": "markdown",
   "id": "9c806b9f",
   "metadata": {},
   "source": [
    "# after taking lot of factors into consideration for me best city to move on to from riodejanerio or sao paolo\n",
    "is campinas ,followed by port alegre followed by belo horizonte.opinios can vary best on what factor matters most to the chooser"
   ]
  },
  {
   "cell_type": "code",
   "execution_count": 22,
   "id": "a14aaaed",
   "metadata": {},
   "outputs": [],
   "source": [
    "#i have come to my conclusin on the basis of totalcost ofthe flats,if you want to move out of a city because of high cost of living\n",
    "#then its better to move to a city where cost of flats and cost of living is low.this factor should be the primary \n",
    "#deciding factor"
   ]
  },
  {
   "cell_type": "code",
   "execution_count": 23,
   "id": "aadf1861",
   "metadata": {},
   "outputs": [
    {
     "data": {
      "text/plain": [
       "2.5"
      ]
     },
     "execution_count": 23,
     "metadata": {},
     "output_type": "execute_result"
    }
   ],
   "source": [
    "5/2"
   ]
  },
  {
   "cell_type": "code",
   "execution_count": 24,
   "id": "75e1b329",
   "metadata": {},
   "outputs": [
    {
     "data": {
      "text/plain": [
       "2"
      ]
     },
     "execution_count": 24,
     "metadata": {},
     "output_type": "execute_result"
    }
   ],
   "source": [
    "5//2"
   ]
  },
  {
   "cell_type": "code",
   "execution_count": null,
   "id": "e74e0c3b",
   "metadata": {},
   "outputs": [],
   "source": []
  }
 ],
 "metadata": {
  "kernelspec": {
   "display_name": "Python 3 (ipykernel)",
   "language": "python",
   "name": "python3"
  },
  "language_info": {
   "codemirror_mode": {
    "name": "ipython",
    "version": 3
   },
   "file_extension": ".py",
   "mimetype": "text/x-python",
   "name": "python",
   "nbconvert_exporter": "python",
   "pygments_lexer": "ipython3",
   "version": "3.9.12"
  }
 },
 "nbformat": 4,
 "nbformat_minor": 5
}
