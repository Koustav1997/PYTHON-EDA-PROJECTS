{
 "cells": [
  {
   "cell_type": "code",
   "execution_count": 2,
   "id": "52bf0c00",
   "metadata": {},
   "outputs": [],
   "source": [
    "from  tabulate import tabulate"
   ]
  },
  {
   "cell_type": "code",
   "execution_count": 93,
   "id": "e15b3f9a",
   "metadata": {},
   "outputs": [],
   "source": [
    "import numpy as np\n",
    "import matplotlib.pyplot as plt\n",
    "import seaborn as sb\n",
    "import statistics as st\n",
    "from scipy.stats import f\n",
    "import math\n",
    "import pandas as pd"
   ]
  },
  {
   "cell_type": "code",
   "execution_count": 3,
   "id": "a58dbb02",
   "metadata": {},
   "outputs": [],
   "source": [
    "emp=pd.read_csv('C:\\\\Users\\\\Koustav\\\\Downloads\\\\employee.csv')"
   ]
  },
  {
   "cell_type": "code",
   "execution_count": 4,
   "id": "8997607a",
   "metadata": {},
   "outputs": [
    {
     "data": {
      "text/html": [
       "<div>\n",
       "<style scoped>\n",
       "    .dataframe tbody tr th:only-of-type {\n",
       "        vertical-align: middle;\n",
       "    }\n",
       "\n",
       "    .dataframe tbody tr th {\n",
       "        vertical-align: top;\n",
       "    }\n",
       "\n",
       "    .dataframe thead th {\n",
       "        text-align: right;\n",
       "    }\n",
       "</style>\n",
       "<table border=\"1\" class=\"dataframe\">\n",
       "  <thead>\n",
       "    <tr style=\"text-align: right;\">\n",
       "      <th></th>\n",
       "      <th>Age</th>\n",
       "      <th>Attrition</th>\n",
       "      <th>BusinessTravel</th>\n",
       "      <th>Department</th>\n",
       "      <th>DistanceFromHome</th>\n",
       "      <th>EducationField</th>\n",
       "      <th>EmployeeNumber</th>\n",
       "      <th>EnvironmentSatisfaction</th>\n",
       "      <th>Gender</th>\n",
       "      <th>HourlyRate</th>\n",
       "      <th>...</th>\n",
       "      <th>OverTime</th>\n",
       "      <th>PerformanceRating</th>\n",
       "      <th>RelationshipSatisfaction</th>\n",
       "      <th>TotalWorkingYears</th>\n",
       "      <th>TrainingTimesLastYear</th>\n",
       "      <th>WorkLifeBalance</th>\n",
       "      <th>YearsAtCompany</th>\n",
       "      <th>YearsInCurrentRole</th>\n",
       "      <th>YearsSinceLastPromotion</th>\n",
       "      <th>YearsWithCurrManager</th>\n",
       "    </tr>\n",
       "  </thead>\n",
       "  <tbody>\n",
       "    <tr>\n",
       "      <th>0</th>\n",
       "      <td>41.0</td>\n",
       "      <td>Yes</td>\n",
       "      <td>Travel_Rarely</td>\n",
       "      <td>Sales</td>\n",
       "      <td>1</td>\n",
       "      <td>Life Sciences</td>\n",
       "      <td>1</td>\n",
       "      <td>2</td>\n",
       "      <td>Female</td>\n",
       "      <td>94</td>\n",
       "      <td>...</td>\n",
       "      <td>Yes</td>\n",
       "      <td>3</td>\n",
       "      <td>1</td>\n",
       "      <td>8</td>\n",
       "      <td>0</td>\n",
       "      <td>1</td>\n",
       "      <td>6</td>\n",
       "      <td>4</td>\n",
       "      <td>0</td>\n",
       "      <td>5</td>\n",
       "    </tr>\n",
       "    <tr>\n",
       "      <th>1</th>\n",
       "      <td>49.0</td>\n",
       "      <td>No</td>\n",
       "      <td>Travel_Frequently</td>\n",
       "      <td>Research &amp; Development</td>\n",
       "      <td>8</td>\n",
       "      <td>Life Sciences</td>\n",
       "      <td>2</td>\n",
       "      <td>3</td>\n",
       "      <td>Male</td>\n",
       "      <td>61</td>\n",
       "      <td>...</td>\n",
       "      <td>No</td>\n",
       "      <td>4</td>\n",
       "      <td>4</td>\n",
       "      <td>10</td>\n",
       "      <td>3</td>\n",
       "      <td>3</td>\n",
       "      <td>10</td>\n",
       "      <td>7</td>\n",
       "      <td>1</td>\n",
       "      <td>7</td>\n",
       "    </tr>\n",
       "    <tr>\n",
       "      <th>2</th>\n",
       "      <td>37.0</td>\n",
       "      <td>Yes</td>\n",
       "      <td>Travel_Rarely</td>\n",
       "      <td>Research &amp; Development</td>\n",
       "      <td>2</td>\n",
       "      <td>Other</td>\n",
       "      <td>4</td>\n",
       "      <td>4</td>\n",
       "      <td>Male</td>\n",
       "      <td>92</td>\n",
       "      <td>...</td>\n",
       "      <td>Yes</td>\n",
       "      <td>3</td>\n",
       "      <td>2</td>\n",
       "      <td>7</td>\n",
       "      <td>3</td>\n",
       "      <td>3</td>\n",
       "      <td>0</td>\n",
       "      <td>0</td>\n",
       "      <td>0</td>\n",
       "      <td>0</td>\n",
       "    </tr>\n",
       "    <tr>\n",
       "      <th>3</th>\n",
       "      <td>33.0</td>\n",
       "      <td>No</td>\n",
       "      <td>Travel_Frequently</td>\n",
       "      <td>Research &amp; Development</td>\n",
       "      <td>3</td>\n",
       "      <td>Life Sciences</td>\n",
       "      <td>5</td>\n",
       "      <td>4</td>\n",
       "      <td>Female</td>\n",
       "      <td>56</td>\n",
       "      <td>...</td>\n",
       "      <td>Yes</td>\n",
       "      <td>3</td>\n",
       "      <td>3</td>\n",
       "      <td>8</td>\n",
       "      <td>3</td>\n",
       "      <td>3</td>\n",
       "      <td>8</td>\n",
       "      <td>7</td>\n",
       "      <td>3</td>\n",
       "      <td>0</td>\n",
       "    </tr>\n",
       "    <tr>\n",
       "      <th>4</th>\n",
       "      <td>27.0</td>\n",
       "      <td>No</td>\n",
       "      <td>Travel_Rarely</td>\n",
       "      <td>Research &amp; Development</td>\n",
       "      <td>2</td>\n",
       "      <td>Medical</td>\n",
       "      <td>7</td>\n",
       "      <td>1</td>\n",
       "      <td>Male</td>\n",
       "      <td>40</td>\n",
       "      <td>...</td>\n",
       "      <td>No</td>\n",
       "      <td>3</td>\n",
       "      <td>4</td>\n",
       "      <td>6</td>\n",
       "      <td>3</td>\n",
       "      <td>3</td>\n",
       "      <td>2</td>\n",
       "      <td>2</td>\n",
       "      <td>2</td>\n",
       "      <td>2</td>\n",
       "    </tr>\n",
       "    <tr>\n",
       "      <th>...</th>\n",
       "      <td>...</td>\n",
       "      <td>...</td>\n",
       "      <td>...</td>\n",
       "      <td>...</td>\n",
       "      <td>...</td>\n",
       "      <td>...</td>\n",
       "      <td>...</td>\n",
       "      <td>...</td>\n",
       "      <td>...</td>\n",
       "      <td>...</td>\n",
       "      <td>...</td>\n",
       "      <td>...</td>\n",
       "      <td>...</td>\n",
       "      <td>...</td>\n",
       "      <td>...</td>\n",
       "      <td>...</td>\n",
       "      <td>...</td>\n",
       "      <td>...</td>\n",
       "      <td>...</td>\n",
       "      <td>...</td>\n",
       "      <td>...</td>\n",
       "    </tr>\n",
       "    <tr>\n",
       "      <th>1465</th>\n",
       "      <td>36.0</td>\n",
       "      <td>No</td>\n",
       "      <td>NaN</td>\n",
       "      <td>Research &amp; Development</td>\n",
       "      <td>23</td>\n",
       "      <td>Medical</td>\n",
       "      <td>2061</td>\n",
       "      <td>3</td>\n",
       "      <td>Male</td>\n",
       "      <td>41</td>\n",
       "      <td>...</td>\n",
       "      <td>No</td>\n",
       "      <td>3</td>\n",
       "      <td>3</td>\n",
       "      <td>17</td>\n",
       "      <td>3</td>\n",
       "      <td>3</td>\n",
       "      <td>5</td>\n",
       "      <td>2</td>\n",
       "      <td>0</td>\n",
       "      <td>3</td>\n",
       "    </tr>\n",
       "    <tr>\n",
       "      <th>1466</th>\n",
       "      <td>39.0</td>\n",
       "      <td>No</td>\n",
       "      <td>Travel_Rarely</td>\n",
       "      <td>Research &amp; Development</td>\n",
       "      <td>6</td>\n",
       "      <td>Medical</td>\n",
       "      <td>2062</td>\n",
       "      <td>4</td>\n",
       "      <td>Male</td>\n",
       "      <td>42</td>\n",
       "      <td>...</td>\n",
       "      <td>No</td>\n",
       "      <td>3</td>\n",
       "      <td>1</td>\n",
       "      <td>9</td>\n",
       "      <td>5</td>\n",
       "      <td>3</td>\n",
       "      <td>7</td>\n",
       "      <td>7</td>\n",
       "      <td>1</td>\n",
       "      <td>7</td>\n",
       "    </tr>\n",
       "    <tr>\n",
       "      <th>1467</th>\n",
       "      <td>27.0</td>\n",
       "      <td>No</td>\n",
       "      <td>Travel_Rarely</td>\n",
       "      <td>Research &amp; Development</td>\n",
       "      <td>4</td>\n",
       "      <td>Life Sciences</td>\n",
       "      <td>2064</td>\n",
       "      <td>2</td>\n",
       "      <td>Male</td>\n",
       "      <td>87</td>\n",
       "      <td>...</td>\n",
       "      <td>Yes</td>\n",
       "      <td>4</td>\n",
       "      <td>2</td>\n",
       "      <td>6</td>\n",
       "      <td>0</td>\n",
       "      <td>3</td>\n",
       "      <td>6</td>\n",
       "      <td>2</td>\n",
       "      <td>0</td>\n",
       "      <td>3</td>\n",
       "    </tr>\n",
       "    <tr>\n",
       "      <th>1468</th>\n",
       "      <td>49.0</td>\n",
       "      <td>No</td>\n",
       "      <td>Travel_Frequently</td>\n",
       "      <td>Sales</td>\n",
       "      <td>2</td>\n",
       "      <td>Medical</td>\n",
       "      <td>2065</td>\n",
       "      <td>4</td>\n",
       "      <td>Male</td>\n",
       "      <td>63</td>\n",
       "      <td>...</td>\n",
       "      <td>No</td>\n",
       "      <td>3</td>\n",
       "      <td>4</td>\n",
       "      <td>17</td>\n",
       "      <td>3</td>\n",
       "      <td>2</td>\n",
       "      <td>9</td>\n",
       "      <td>6</td>\n",
       "      <td>0</td>\n",
       "      <td>8</td>\n",
       "    </tr>\n",
       "    <tr>\n",
       "      <th>1469</th>\n",
       "      <td>34.0</td>\n",
       "      <td>No</td>\n",
       "      <td>Travel_Rarely</td>\n",
       "      <td>Research &amp; Development</td>\n",
       "      <td>8</td>\n",
       "      <td>Medical</td>\n",
       "      <td>2068</td>\n",
       "      <td>2</td>\n",
       "      <td>Male</td>\n",
       "      <td>82</td>\n",
       "      <td>...</td>\n",
       "      <td>No</td>\n",
       "      <td>3</td>\n",
       "      <td>1</td>\n",
       "      <td>6</td>\n",
       "      <td>3</td>\n",
       "      <td>4</td>\n",
       "      <td>4</td>\n",
       "      <td>3</td>\n",
       "      <td>1</td>\n",
       "      <td>2</td>\n",
       "    </tr>\n",
       "  </tbody>\n",
       "</table>\n",
       "<p>1470 rows × 27 columns</p>\n",
       "</div>"
      ],
      "text/plain": [
       "       Age Attrition     BusinessTravel              Department  \\\n",
       "0     41.0       Yes      Travel_Rarely                   Sales   \n",
       "1     49.0        No  Travel_Frequently  Research & Development   \n",
       "2     37.0       Yes      Travel_Rarely  Research & Development   \n",
       "3     33.0        No  Travel_Frequently  Research & Development   \n",
       "4     27.0        No      Travel_Rarely  Research & Development   \n",
       "...    ...       ...                ...                     ...   \n",
       "1465  36.0        No                NaN  Research & Development   \n",
       "1466  39.0        No      Travel_Rarely  Research & Development   \n",
       "1467  27.0        No      Travel_Rarely  Research & Development   \n",
       "1468  49.0        No  Travel_Frequently                   Sales   \n",
       "1469  34.0        No      Travel_Rarely  Research & Development   \n",
       "\n",
       "      DistanceFromHome EducationField  EmployeeNumber  \\\n",
       "0                    1  Life Sciences               1   \n",
       "1                    8  Life Sciences               2   \n",
       "2                    2          Other               4   \n",
       "3                    3  Life Sciences               5   \n",
       "4                    2        Medical               7   \n",
       "...                ...            ...             ...   \n",
       "1465                23        Medical            2061   \n",
       "1466                 6        Medical            2062   \n",
       "1467                 4  Life Sciences            2064   \n",
       "1468                 2        Medical            2065   \n",
       "1469                 8        Medical            2068   \n",
       "\n",
       "      EnvironmentSatisfaction  Gender  HourlyRate  ...  OverTime  \\\n",
       "0                           2  Female          94  ...       Yes   \n",
       "1                           3    Male          61  ...        No   \n",
       "2                           4    Male          92  ...       Yes   \n",
       "3                           4  Female          56  ...       Yes   \n",
       "4                           1    Male          40  ...        No   \n",
       "...                       ...     ...         ...  ...       ...   \n",
       "1465                        3    Male          41  ...        No   \n",
       "1466                        4    Male          42  ...        No   \n",
       "1467                        2    Male          87  ...       Yes   \n",
       "1468                        4    Male          63  ...        No   \n",
       "1469                        2    Male          82  ...        No   \n",
       "\n",
       "     PerformanceRating  RelationshipSatisfaction TotalWorkingYears  \\\n",
       "0                    3                         1                 8   \n",
       "1                    4                         4                10   \n",
       "2                    3                         2                 7   \n",
       "3                    3                         3                 8   \n",
       "4                    3                         4                 6   \n",
       "...                ...                       ...               ...   \n",
       "1465                 3                         3                17   \n",
       "1466                 3                         1                 9   \n",
       "1467                 4                         2                 6   \n",
       "1468                 3                         4                17   \n",
       "1469                 3                         1                 6   \n",
       "\n",
       "      TrainingTimesLastYear  WorkLifeBalance YearsAtCompany  \\\n",
       "0                         0                1              6   \n",
       "1                         3                3             10   \n",
       "2                         3                3              0   \n",
       "3                         3                3              8   \n",
       "4                         3                3              2   \n",
       "...                     ...              ...            ...   \n",
       "1465                      3                3              5   \n",
       "1466                      5                3              7   \n",
       "1467                      0                3              6   \n",
       "1468                      3                2              9   \n",
       "1469                      3                4              4   \n",
       "\n",
       "     YearsInCurrentRole  YearsSinceLastPromotion  YearsWithCurrManager  \n",
       "0                     4                        0                     5  \n",
       "1                     7                        1                     7  \n",
       "2                     0                        0                     0  \n",
       "3                     7                        3                     0  \n",
       "4                     2                        2                     2  \n",
       "...                 ...                      ...                   ...  \n",
       "1465                  2                        0                     3  \n",
       "1466                  7                        1                     7  \n",
       "1467                  2                        0                     3  \n",
       "1468                  6                        0                     8  \n",
       "1469                  3                        1                     2  \n",
       "\n",
       "[1470 rows x 27 columns]"
      ]
     },
     "execution_count": 4,
     "metadata": {},
     "output_type": "execute_result"
    }
   ],
   "source": [
    "emp"
   ]
  },
  {
   "cell_type": "code",
   "execution_count": 6,
   "id": "30f17ad7",
   "metadata": {},
   "outputs": [],
   "source": [
    "df=emp"
   ]
  },
  {
   "cell_type": "code",
   "execution_count": 7,
   "id": "62c29674",
   "metadata": {},
   "outputs": [
    {
     "name": "stdout",
     "output_type": "stream",
     "text": [
      "(1470, 27)\n"
     ]
    }
   ],
   "source": [
    "print(df.shape) #returns a tuple of number of rows and columns "
   ]
  },
  {
   "cell_type": "code",
   "execution_count": 8,
   "id": "3610c69b",
   "metadata": {},
   "outputs": [
    {
     "name": "stdout",
     "output_type": "stream",
     "text": [
      "Index(['Age', 'Attrition', 'BusinessTravel', 'Department', 'DistanceFromHome',\n",
      "       'EducationField', 'EmployeeNumber', 'EnvironmentSatisfaction', 'Gender',\n",
      "       'HourlyRate', 'JobInvolvement', 'JobRole', 'JobSatisfaction',\n",
      "       'MaritalStatus', 'MonthlyIncome', 'NumCompaniesWorked', 'Over18',\n",
      "       'OverTime', 'PerformanceRating', 'RelationshipSatisfaction',\n",
      "       'TotalWorkingYears', 'TrainingTimesLastYear', 'WorkLifeBalance',\n",
      "       'YearsAtCompany', 'YearsInCurrentRole', 'YearsSinceLastPromotion',\n",
      "       'YearsWithCurrManager'],\n",
      "      dtype='object')\n"
     ]
    }
   ],
   "source": [
    "print(df.columns) # returns array of columns in dataset "
   ]
  },
  {
   "cell_type": "code",
   "execution_count": 9,
   "id": "94c2243f",
   "metadata": {},
   "outputs": [
    {
     "name": "stdout",
     "output_type": "stream",
     "text": [
      "<class 'pandas.core.frame.DataFrame'>\n",
      "RangeIndex: 1470 entries, 0 to 1469\n",
      "Data columns (total 27 columns):\n",
      " #   Column                    Non-Null Count  Dtype  \n",
      "---  ------                    --------------  -----  \n",
      " 0   Age                       1446 non-null   float64\n",
      " 1   Attrition                 1470 non-null   object \n",
      " 2   BusinessTravel            1440 non-null   object \n",
      " 3   Department                1466 non-null   object \n",
      " 4   DistanceFromHome          1470 non-null   int64  \n",
      " 5   EducationField            1458 non-null   object \n",
      " 6   EmployeeNumber            1470 non-null   int64  \n",
      " 7   EnvironmentSatisfaction   1470 non-null   int64  \n",
      " 8   Gender                    1425 non-null   object \n",
      " 9   HourlyRate                1470 non-null   int64  \n",
      " 10  JobInvolvement            1470 non-null   int64  \n",
      " 11  JobRole                   1460 non-null   object \n",
      " 12  JobSatisfaction           1470 non-null   int64  \n",
      " 13  MaritalStatus             1414 non-null   object \n",
      " 14  MonthlyIncome             1470 non-null   int64  \n",
      " 15  NumCompaniesWorked        1470 non-null   int64  \n",
      " 16  Over18                    1416 non-null   object \n",
      " 17  OverTime                  1470 non-null   object \n",
      " 18  PerformanceRating         1470 non-null   int64  \n",
      " 19  RelationshipSatisfaction  1470 non-null   int64  \n",
      " 20  TotalWorkingYears         1470 non-null   int64  \n",
      " 21  TrainingTimesLastYear     1470 non-null   int64  \n",
      " 22  WorkLifeBalance           1470 non-null   int64  \n",
      " 23  YearsAtCompany            1470 non-null   int64  \n",
      " 24  YearsInCurrentRole        1470 non-null   int64  \n",
      " 25  YearsSinceLastPromotion   1470 non-null   int64  \n",
      " 26  YearsWithCurrManager      1470 non-null   int64  \n",
      "dtypes: float64(1), int64(17), object(9)\n",
      "memory usage: 310.2+ KB\n"
     ]
    }
   ],
   "source": [
    "df.info()       # returns the information about the dataset"
   ]
  },
  {
   "cell_type": "code",
   "execution_count": 10,
   "id": "153d4e40",
   "metadata": {},
   "outputs": [
    {
     "data": {
      "text/plain": [
       "Age                         24\n",
       "Attrition                    0\n",
       "BusinessTravel              30\n",
       "Department                   4\n",
       "DistanceFromHome             0\n",
       "EducationField              12\n",
       "EmployeeNumber               0\n",
       "EnvironmentSatisfaction      0\n",
       "Gender                      45\n",
       "HourlyRate                   0\n",
       "JobInvolvement               0\n",
       "JobRole                     10\n",
       "JobSatisfaction              0\n",
       "MaritalStatus               56\n",
       "MonthlyIncome                0\n",
       "NumCompaniesWorked           0\n",
       "Over18                      54\n",
       "OverTime                     0\n",
       "PerformanceRating            0\n",
       "RelationshipSatisfaction     0\n",
       "TotalWorkingYears            0\n",
       "TrainingTimesLastYear        0\n",
       "WorkLifeBalance              0\n",
       "YearsAtCompany               0\n",
       "YearsInCurrentRole           0\n",
       "YearsSinceLastPromotion      0\n",
       "YearsWithCurrManager         0\n",
       "dtype: int64"
      ]
     },
     "execution_count": 10,
     "metadata": {},
     "output_type": "execute_result"
    }
   ],
   "source": [
    "df.isnull().sum()       # isnull returns the True/False dataframe\n",
    "                            #sum: counts the number of True in columns"
   ]
  },
  {
   "cell_type": "code",
   "execution_count": 11,
   "id": "f1aafc49",
   "metadata": {},
   "outputs": [
    {
     "name": "stdout",
     "output_type": "stream",
     "text": [
      "categorical               continuous\n",
      "------------------------  --------------\n",
      "Attrition                 Age\n",
      "BusinessTravel            EmployeeNumber\n",
      "Department                HourlyRate\n",
      "DistanceFromHome          MonthlyIncome\n",
      "EducationField\n",
      "EnvironmentSatisfaction\n",
      "Gender\n",
      "JobInvolvement\n",
      "JobRole\n",
      "JobSatisfaction\n",
      "MaritalStatus\n",
      "NumCompaniesWorked\n",
      "Over18\n",
      "OverTime\n",
      "PerformanceRating\n",
      "RelationshipSatisfaction\n",
      "TotalWorkingYears\n",
      "TrainingTimesLastYear\n",
      "WorkLifeBalance\n",
      "YearsAtCompany\n",
      "YearsInCurrentRole\n",
      "YearsSinceLastPromotion\n",
      "YearsWithCurrManager\n"
     ]
    }
   ],
   "source": [
    "# Seprating out the categorical and continuous variables\n",
    "def seprate_data_types(df):\n",
    "    categorical = []\n",
    "    continuous = []\n",
    "    for column in df.columns:                # looping on the number of columns\n",
    "        if df[column].nunique() < 43:       # nunique:  returns unique values in the column,\n",
    "                                                    #here 43 is the hyperparamter and can be changed\n",
    "            categorical.append(column)\n",
    "        else:\n",
    "            continuous.append(column)\n",
    "            \n",
    "    return categorical, continuous \n",
    "\n",
    "\n",
    "categorical, continuous = seprate_data_types(df)         # Calling the function\n",
    "\n",
    "# # Tabulate is a package used to print the list, dict or any data sets in a proper format; in table format\n",
    "from tabulate import tabulate\n",
    "table = [categorical, continuous]\n",
    "print(tabulate({\"Categorical\":categorical,\n",
    "                \"Continuous\": continuous}, headers = [\"categorical\", \"continuous\"]))"
   ]
  },
  {
   "cell_type": "code",
   "execution_count": 12,
   "id": "2779a75d",
   "metadata": {},
   "outputs": [],
   "source": [
    "def info_of_cat(col): \n",
    "    print(f\"Unique values in {col} are: {df[col].unique()}\") # unique: returns the unique values in the col\n",
    "    print(f\"Mode of {col} is {df[col].mode()[0]}\")  # mode: returns the mode of the column\n",
    "    print(f\"Number of missing values in {col} is {df[col].isnull().sum()}\") # isnull().sum() counts the number of null in dataframe\n",
    "    if df[col].isnull().sum() > 0:  # check if null values are present\n",
    "        print(f\"\\nThere are null values in the {col} column\")\n",
    "    "
   ]
  },
  {
   "cell_type": "code",
   "execution_count": 13,
   "id": "ebf909ed",
   "metadata": {},
   "outputs": [
    {
     "name": "stdout",
     "output_type": "stream",
     "text": [
      "Unique values in Attrition are: ['Yes' 'No']\n",
      "Mode of Attrition is No\n",
      "Number of missing values in Attrition is 0\n"
     ]
    }
   ],
   "source": [
    "info_of_cat(\"Attrition\") #function returns all the information required for the level 1 analysis"
   ]
  },
  {
   "cell_type": "markdown",
   "id": "4e7ff512",
   "metadata": {},
   "source": [
    "# Attrition is  nominal data type"
   ]
  },
  {
   "cell_type": "code",
   "execution_count": 15,
   "id": "eef148ea",
   "metadata": {},
   "outputs": [
    {
     "data": {
      "image/png": "[encoded data removed]",
      "text/plain": [
       "<Figure size 1080x504 with 2 Axes>"
      ]
     },
     "metadata": {
      "needs_background": "light"
     },
     "output_type": "display_data"
    }
   ],
   "source": [
    "fig, ax = plt.subplots(1, 2, figsize = (15, 7))\n",
    "ax[0].set_title(\"Count of Attrition\")                  # Set the title of the graph\n",
    "percentage = df[\"Attrition\"].value_counts()         # value_counts: returns the count of values in series: return series\n",
    "labels = list(df[\"Attrition\"].value_counts().index) # Converting the index of value counts into list\n",
    "\n",
    "sb.countplot(x = df[\"Attrition\"], ax = ax[0])\n",
    "plt.pie(percentage,labels = labels, autopct= \"%0.2f%%\")  # autopct: to print the percentage on pie wedge. 2 decimal points used \n",
    "\n",
    "plt.show()"
   ]
  },
  {
   "cell_type": "markdown",
   "id": "a28598c9",
   "metadata": {},
   "source": [
    "# Interpretation: The results show that only 16% of the employees have left the firm while 83.9% are still working with the firm\n",
    "    "
   ]
  },
  {
   "cell_type": "code",
   "execution_count": 16,
   "id": "54b53b35",
   "metadata": {},
   "outputs": [
    {
     "name": "stdout",
     "output_type": "stream",
     "text": [
      "Travel_Rarely\n"
     ]
    }
   ],
   "source": [
    "bt_mode = df[\"BusinessTravel\"].mode()[0]\n",
    "print(bt_mode)\n",
    "df[\"BusinessTravel\"].fillna(bt_mode, inplace = True, axis = 0)"
   ]
  },
  {
   "cell_type": "code",
   "execution_count": 18,
   "id": "ea3c535b",
   "metadata": {},
   "outputs": [
    {
     "data": {
      "image/png": "[encoded data removed]",
      "text/plain": [
       "<Figure size 1080x504 with 2 Axes>"
      ]
     },
     "metadata": {
      "needs_background": "light"
     },
     "output_type": "display_data"
    }
   ],
   "source": [
    "fig, ax = plt.subplots(1, 2, figsize = (15, 7))\n",
    "ax[0].set_title(\"Count of Business Travel\")              # Set the title of the graph\n",
    "percentage = df[\"BusinessTravel\"].value_counts()         # value_counts: returns the count of values in series: return series\n",
    "labels = list(df[\"BusinessTravel\"].value_counts().index) # Converting the index of value counts into list\n",
    "\n",
    "sb.countplot(x = df[\"BusinessTravel\"], ax = ax[0])\n",
    "plt.pie(percentage,labels = labels, autopct= \"%0.2f%%\")  # autopct: to print the percentage on pie wedge. 2 decimal points used \n",
    "plt.show()"
   ]
  },
  {
   "cell_type": "markdown",
   "id": "3a60496b",
   "metadata": {},
   "source": [
    "# Interpretation: Majority of the employees are travelling rarely for business purposes."
   ]
  },
  {
   "cell_type": "code",
   "execution_count": 19,
   "id": "da170732",
   "metadata": {},
   "outputs": [
    {
     "name": "stdout",
     "output_type": "stream",
     "text": [
      "Unique values in Department are: ['Sales' 'Research & Development' 'Human Resources' nan]\n",
      "Mode of Department is Research & Development\n",
      "Number of missing values in Department is 4\n",
      "\n",
      "There are null values in the Department column\n"
     ]
    }
   ],
   "source": [
    "info_of_cat(\"Department\")"
   ]
  },
  {
   "cell_type": "code",
   "execution_count": 20,
   "id": "66f83164",
   "metadata": {},
   "outputs": [
    {
     "name": "stdout",
     "output_type": "stream",
     "text": [
      "Research & Development\n"
     ]
    }
   ],
   "source": [
    "department_mode = df.Department.mode()[0]\n",
    "print(department_mode)\n",
    "df[\"Department\"].fillna(department_mode, inplace = True)"
   ]
  },
  {
   "cell_type": "code",
   "execution_count": 22,
   "id": "376e30b6",
   "metadata": {},
   "outputs": [
    {
     "data": {
      "image/png": "[encoded data removed]",
      "text/plain": [
       "<Figure size 1080x504 with 2 Axes>"
      ]
     },
     "metadata": {
      "needs_background": "light"
     },
     "output_type": "display_data"
    }
   ],
   "source": [
    "fig, ax = plt.subplots(1, 2, figsize = (15, 7))\n",
    "data = df[\"Department\"].value_counts()                                  # Value count is an inbuilt function to calculate the number of classes                                                                       #in gender columns\n",
    "labels =data.keys()                                                  #data keys provide the index names but this function provides the columns \n",
    "                                                                     #names if called on dataframe\n",
    "sb.countplot(x = df[\"Department\"], ax = ax[0])\n",
    "plt.pie(x = data, autopct = \"%.1f%%\", labels = labels, pctdistance = 0.5) # pctdistance is the distance between the percentage\n",
    "                                                                     # on pie chart from center.\n",
    "                                                                     #  explode is to split the slices by the distance provided\n",
    "                                                                     # autopct: is used to print the number on pie slices.  \n",
    "\n",
    "plt.show()\n"
   ]
  },
  {
   "cell_type": "markdown",
   "id": "cc193aa2",
   "metadata": {},
   "source": [
    "# Interpretation: 65% of the employees are working in Research and Development department where 30% are from Sales and only 4% are from HR."
   ]
  },
  {
   "cell_type": "code",
   "execution_count": 23,
   "id": "aea52298",
   "metadata": {},
   "outputs": [
    {
     "name": "stdout",
     "output_type": "stream",
     "text": [
      "Unique values in DistanceFromHome are: [ 1  8  2  3 24 23 27 16 15 26 19 21  5 11  9  7  6 10  4 25 12 18 29 22\n",
      " 14 20 28 17 13]\n",
      "Mode of DistanceFromHome is 2\n",
      "Number of missing values in DistanceFromHome is 0\n"
     ]
    }
   ],
   "source": [
    "info_of_cat(\"DistanceFromHome\") # check for the unique values in the feature"
   ]
  },
  {
   "cell_type": "code",
   "execution_count": 24,
   "id": "3175aec1",
   "metadata": {},
   "outputs": [
    {
     "name": "stdout",
     "output_type": "stream",
     "text": [
      "Unique values in EducationField are: ['Life Sciences' 'Other' 'Medical' 'Marketing' nan 'Technical Degree'\n",
      " 'Human Resources']\n",
      "Mode of EducationField is Life Sciences\n",
      "Number of missing values in EducationField is 12\n",
      "\n",
      "There are null values in the EducationField column\n"
     ]
    }
   ],
   "source": [
    "info_of_cat(\"EducationField\") # check for the unique values in the feature"
   ]
  },
  {
   "cell_type": "code",
   "execution_count": 25,
   "id": "75f01a6b",
   "metadata": {},
   "outputs": [
    {
     "name": "stdout",
     "output_type": "stream",
     "text": [
      "Life Sciences\n"
     ]
    }
   ],
   "source": [
    "ed_mode = df.EducationField.mode()[0]\n",
    "print(ed_mode)\n",
    "df[\"EducationField\"].fillna(ed_mode, inplace = True)"
   ]
  },
  {
   "cell_type": "code",
   "execution_count": 27,
   "id": "115c3d51",
   "metadata": {},
   "outputs": [
    {
     "data": {
      "image/png": "[encoded data removed]",
      "text/plain": [
       "<Figure size 1080x504 with 2 Axes>"
      ]
     },
     "metadata": {
      "needs_background": "light"
     },
     "output_type": "display_data"
    }
   ],
   "source": [
    "fig, ax = plt.subplots(1, 2, figsize = (15, 7))\n",
    "data = df[\"EducationField\"].value_counts()                                  # Value count is an inbuilt function to calculate the number of classes                                                                       #in gender columns\n",
    "labels =data.keys()                                                  #data keys provide the index names but this function provides the columns \n",
    "                                                                     #names if called on dataframe\n",
    "sb.countplot(x = df[\"EducationField\"], ax = ax[0])\n",
    "plt.pie(x = data, autopct = \"%.1f%%\", labels = labels, pctdistance = 0.5) # pctdistance is the distance between the percentage\n",
    "                                                                     # on pie chart from center.\n",
    "                                                                     #  explode is to split the slices by the distance provided\n",
    "                                                                     # autopct: is used to print the number on pie slices.  \n",
    "\n",
    "plt.show()\n"
   ]
  },
  {
   "cell_type": "markdown",
   "id": "86ad1a58",
   "metadata": {},
   "source": [
    "# Interpretation: 73% of the employees are from Medical or Life Science backgrounds.¶"
   ]
  },
  {
   "cell_type": "code",
   "execution_count": 28,
   "id": "14fef76b",
   "metadata": {},
   "outputs": [
    {
     "name": "stdout",
     "output_type": "stream",
     "text": [
      "Unique values in EnvironmentSatisfaction are: [2 3 4 1]\n",
      "Mode of EnvironmentSatisfaction is 3\n",
      "Number of missing values in EnvironmentSatisfaction is 0\n"
     ]
    }
   ],
   "source": [
    "info_of_cat(\"EnvironmentSatisfaction\") # check for the unique values in the feature"
   ]
  },
  {
   "cell_type": "code",
   "execution_count": 31,
   "id": "6e60ec5f",
   "metadata": {},
   "outputs": [
    {
     "data": {
      "image/png": "[encoded data removed]",
      "text/plain": [
       "<Figure size 720x504 with 1 Axes>"
      ]
     },
     "metadata": {
      "needs_background": "light"
     },
     "output_type": "display_data"
    }
   ],
   "source": [
    "fig, ax = plt.subplots(figsize= (10, 7))\n",
    "ax = sb.countplot(x = df[\"EnvironmentSatisfaction\"])\n",
    "for bar in ax.patches:                                              # ax.patches returns the rectange object from matplotlib\n",
    "    percentage = f\"{round((bar.get_height() /len(df))*100, 2)}%\"          # first it calculate the bar height and then dividing by the number of rows in data(to calculate percentage) \n",
    "                                                                    # and multiply with 100 to get the percentage and rounding of by 2 numbers.  \n",
    "    x = bar.get_x() + bar.get_width() /2                            # get_x: returns the left corrdinate of the rectange, get_width: returns width of rectagle\n",
    "    y = bar.get_height()                                            # get_height: returns height of rectange\n",
    "    ax.annotate(percentage, (x, y), va = \"bottom\", ha =\"center\" )   # va bottom: means percentage would be above the bar head. \n",
    "                                                                    # annotate: used to annotate over objects, here objects are the bars\n",
    "plt.show()"
   ]
  },
  {
   "cell_type": "markdown",
   "id": "3d500f32",
   "metadata": {},
   "source": [
    "# Interpretation: 38% of the employees have lower Environment Satisfaction.¶\n",
    "---> 1 and 2 are assigned with the lower environment satisfaction category."
   ]
  },
  {
   "cell_type": "code",
   "execution_count": 32,
   "id": "3dc0a0bf",
   "metadata": {},
   "outputs": [
    {
     "name": "stdout",
     "output_type": "stream",
     "text": [
      "Unique values in Gender are: ['Female' 'Male' nan]\n",
      "Mode of Gender is Male\n",
      "Number of missing values in Gender is 45\n",
      "\n",
      "There are null values in the Gender column\n"
     ]
    }
   ],
   "source": [
    "info_of_cat(\"Gender\")"
   ]
  },
  {
   "cell_type": "code",
   "execution_count": 34,
   "id": "d7cb2fd6",
   "metadata": {},
   "outputs": [],
   "source": [
    "df[\"Gender\"].fillna(\"Not Known\", inplace = True)"
   ]
  },
  {
   "cell_type": "code",
   "execution_count": 36,
   "id": "2335ef67",
   "metadata": {},
   "outputs": [
    {
     "data": {
      "image/png": "[encoded data removed]",
      "text/plain": [
       "<Figure size 720x504 with 1 Axes>"
      ]
     },
     "metadata": {
      "needs_background": "light"
     },
     "output_type": "display_data"
    }
   ],
   "source": [
    "# Plot the graph-\n",
    "fig, ax = plt.subplots(figsize= (10, 7))\n",
    "ax = sb.countplot(x = df[\"Gender\"])\n",
    "ax.set_xticklabels(ax.get_xticklabels(), rotation = 40 , ha = \"right\") # set_xticklabels is used to set the labels of the x axis\n",
    "                                                                       # ax.get_xtickslabels() returns all the labels that we need to print\n",
    "                                                                       # rotation: rotate the xlabels at angle provided, and\n",
    "                                                                       # ha: Horizontal axis:-> how you want to keep it. can be changed to center, left, right\n",
    "count = len(df[\"Gender\"])                                     # counting the number of rows in whole dataset\n",
    "for bar in ax.patches:                                                 # ax.patches returns the rectange object from matplotlib \n",
    "    percentage = f\"{round((bar.get_height()/count)*100, 2)} %\"           # first it calculate the bar heightand then dividing by the number of row(to calculate percentage)\n",
    "                                                                            # in data and multiply with 100 to get the percentage and rounding of by 2 numbers.  \n",
    "    x = bar.get_x() + bar.get_width() /2                                # get_x: returns the left corrdinate of the rectange, get_width: returns width of rectagle\n",
    "    y = bar.get_height()                                                # get_height: returns height of rectangle bar.\n",
    "    ax.annotate(percentage, (x, y), ha = \"center\", va = \"top\")          # va: Vertical axis: -> top means percentage would bneath the bar head\n",
    "                                                                        # annotate: used to annotate over objects. here objects are the bars \n",
    "plt.show()"
   ]
  },
  {
   "cell_type": "markdown",
   "id": "8a55e985",
   "metadata": {},
   "source": [
    "# Interpretation: 57% of the employees are males and 39% are females."
   ]
  },
  {
   "cell_type": "code",
   "execution_count": 37,
   "id": "f64d8d88",
   "metadata": {},
   "outputs": [
    {
     "name": "stdout",
     "output_type": "stream",
     "text": [
      "Unique values in MaritalStatus are: ['Single' 'Married' nan 'Divorced']\n",
      "Mode of MaritalStatus is Married\n",
      "Number of missing values in MaritalStatus is 56\n",
      "\n",
      "There are null values in the MaritalStatus column\n"
     ]
    }
   ],
   "source": [
    "info_of_cat(\"MaritalStatus\")"
   ]
  },
  {
   "cell_type": "code",
   "execution_count": 38,
   "id": "1cb519a2",
   "metadata": {},
   "outputs": [],
   "source": [
    "df[\"MaritalStatus\"].fillna(\"Not known\", inplace = True)"
   ]
  },
  {
   "cell_type": "code",
   "execution_count": 39,
   "id": "05119573",
   "metadata": {},
   "outputs": [
    {
     "name": "stdout",
     "output_type": "stream",
     "text": [
      "Married      44.217687\n",
      "Single       30.544218\n",
      "Divorced     21.428571\n",
      "Not known     3.809524\n",
      "Name: MaritalStatus, dtype: float64\n"
     ]
    },
    {
     "data": {
      "image/png": "[encoded data removed]",
      "text/plain": [
       "<Figure size 720x288 with 1 Axes>"
      ]
     },
     "metadata": {
      "needs_background": "light"
     },
     "output_type": "display_data"
    }
   ],
   "source": [
    "print((df[\"MaritalStatus\"].value_counts()/len(df))*100)               #First calculated the number of marital status via value counts inbuilt function and then \n",
    "                                                                            #calculated the percentage of it.\n",
    "fig, ax = plt.subplots(figsize = (10, 4))\n",
    "sb.countplot(x = df[ 'MaritalStatus'], ax = ax)\n",
    "for bar in ax.patches:                                                  # ax.patches returns the rectange object from matplotlib\n",
    "    percentage = f\"{round((bar.get_height() /df.shape[0])*100 , 2)} %\"  # first it calculate the bar height and then dividing by the number of rows in data and \n",
    "                                                                            #multiply with 100 to get the percentage and rounding of by 2 numbers.  \n",
    "    x = bar.get_x() + bar.get_width() /2                                # get_x: returns the left corrdinate of the rectange, get_width: returns width of rectagle\n",
    "    y = bar.get_height()                                                # get_height: returns height of rectange\n",
    "    ax.annotate(percentage, (x, y), va= \"bottom\", ha = \"center\" )       # annotate: used to annotate over objects. here objects are the bars.\n",
    "plt.show()"
   ]
  },
  {
   "cell_type": "markdown",
   "id": "b22640ce",
   "metadata": {},
   "source": [
    "# Interpretation: 44% of the employees are married and 30% of them have Single relationship status"
   ]
  },
  {
   "cell_type": "code",
   "execution_count": 41,
   "id": "e9f1cf61",
   "metadata": {},
   "outputs": [
    {
     "name": "stdout",
     "output_type": "stream",
     "text": [
      "Unique values in Over18 are: ['Y' nan]\n",
      "Mode of Over18 is Y\n",
      "Number of missing values in Over18 is 54\n",
      "\n",
      "There are null values in the Over18 column\n"
     ]
    }
   ],
   "source": [
    "info_of_cat(\"Over18\")"
   ]
  },
  {
   "cell_type": "code",
   "execution_count": 42,
   "id": "02523026",
   "metadata": {},
   "outputs": [],
   "source": [
    "mode = df[\"Over18\"].mode()[0]\n",
    "df[\"Over18\"].fillna(mode, inplace = True, axis = 0)"
   ]
  },
  {
   "cell_type": "code",
   "execution_count": 43,
   "id": "d891947a",
   "metadata": {},
   "outputs": [
    {
     "data": {
      "image/png": "[encoded data removed]",
      "text/plain": [
       "<Figure size 1080x504 with 1 Axes>"
      ]
     },
     "metadata": {},
     "output_type": "display_data"
    }
   ],
   "source": [
    "fig, ax = plt.subplots( figsize = (15, 7))\n",
    "ax.set_title(\"Count of Over18\")                  # Set the title of the graph\n",
    "percentage = df[\"Over18\"].value_counts()         # value_counts: returns the count of values in series: return series\n",
    "labels = list(df[\"Over18\"].value_counts().index) # Converting the index of value counts into list\n",
    "\n",
    "plt.pie(percentage,labels = labels, autopct= \"%0.2f%%\")  # autopct: to print the percentage on pie wedge. 2 decimal points used \n",
    "\n",
    "plt.show()"
   ]
  },
  {
   "cell_type": "markdown",
   "id": "3e29a1b3",
   "metadata": {},
   "source": [
    "# Interpretation: The whole population is above 18 years. There is no child labor involved."
   ]
  },
  {
   "cell_type": "code",
   "execution_count": 44,
   "id": "6ce039e9",
   "metadata": {},
   "outputs": [
    {
     "name": "stdout",
     "output_type": "stream",
     "text": [
      "Unique values in PerformanceRating are: [3 4]\n",
      "Mode of PerformanceRating is 3\n",
      "Number of missing values in PerformanceRating is 0\n"
     ]
    }
   ],
   "source": [
    "info_of_cat(\"PerformanceRating\")"
   ]
  },
  {
   "cell_type": "code",
   "execution_count": 45,
   "id": "6caa9e6a",
   "metadata": {},
   "outputs": [
    {
     "data": {
      "image/png": "[encoded data removed]",
      "text/plain": [
       "<Figure size 1080x504 with 1 Axes>"
      ]
     },
     "metadata": {},
     "output_type": "display_data"
    }
   ],
   "source": [
    "fig, ax = plt.subplots( figsize = (15, 7))\n",
    "ax.set_title(\"Count of Performance Rating\")                  # Set the title of the graph\n",
    "percentage = df[\"PerformanceRating\"].value_counts()         # value_counts: returns the count of values in series: return series\n",
    "labels = list(df[\"PerformanceRating\"].value_counts().index) # Converting the index of value counts into list\n",
    "\n",
    "plt.pie(percentage,labels = labels, autopct= \"%0.2f%%\")  # autopct: to print the percentage on pie wedge. 2 decimal points used \n",
    "\n",
    "plt.show()"
   ]
  },
  {
   "cell_type": "code",
   "execution_count": 46,
   "id": "6de6a0ef",
   "metadata": {},
   "outputs": [
    {
     "name": "stdout",
     "output_type": "stream",
     "text": [
      "Unique values in TotalWorkingYears are: [ 8 10  7  6 12  1 17  5  3 31 13  0 26 24 22  9 19  2 23 14 15  4 29 28\n",
      " 21 25 20 11 16 37 38 30 40 18 36 34 32 33 35 27]\n",
      "Mode of TotalWorkingYears is 10\n",
      "Number of missing values in TotalWorkingYears is 0\n"
     ]
    }
   ],
   "source": [
    "info_of_cat(\"TotalWorkingYears\")"
   ]
  },
  {
   "cell_type": "code",
   "execution_count": 47,
   "id": "0ed5e07b",
   "metadata": {},
   "outputs": [],
   "source": [
    "categorical.remove(\"TotalWorkingYears\")\n",
    "continuous.append(\"TotalWorkingYears\")"
   ]
  },
  {
   "cell_type": "code",
   "execution_count": 48,
   "id": "c3479ede",
   "metadata": {},
   "outputs": [
    {
     "name": "stdout",
     "output_type": "stream",
     "text": [
      "Unique values in WorkLifeBalance are: [1 3 2 4]\n",
      "Mode of WorkLifeBalance is 3\n",
      "Number of missing values in WorkLifeBalance is 0\n"
     ]
    }
   ],
   "source": [
    "info_of_cat(\"WorkLifeBalance\")"
   ]
  },
  {
   "cell_type": "code",
   "execution_count": 49,
   "id": "5333718d",
   "metadata": {},
   "outputs": [
    {
     "data": {
      "image/png": "[encoded data removed]",
      "text/plain": [
       "<Figure size 1080x504 with 1 Axes>"
      ]
     },
     "metadata": {},
     "output_type": "display_data"
    }
   ],
   "source": [
    "fig, ax = plt.subplots( figsize = (15, 7))\n",
    "ax.set_title(\"Work Life Balance\")                  # Set the title of the graph\n",
    "percentage = df[\"WorkLifeBalance\"].value_counts()         # value_counts: returns the count of values in series: return series\n",
    "labels = list(df[\"WorkLifeBalance\"].value_counts().index) # Converting the index of value counts into list\n",
    "\n",
    "plt.pie(percentage,labels = labels, autopct= \"%0.2f%%\")  # autopct: to print the percentage on pie wedge. 2 decimal points used \n",
    "\n",
    "plt.show()"
   ]
  },
  {
   "cell_type": "markdown",
   "id": "f7f7644e",
   "metadata": {},
   "source": [
    "Interpretation: Almost 70% of the employees seem to have a good work life balance.¶\n"
   ]
  },
  {
   "cell_type": "markdown",
   "id": "ebfa407e",
   "metadata": {},
   "source": [
    "# LEVEL 1 Analysis of Numerical Columns"
   ]
  },
  {
   "cell_type": "markdown",
   "id": "73a28ff8",
   "metadata": {},
   "source": [
    "13 User defined function for calculating mean, median, standard deviation, and count of all the null values¶"
   ]
  },
  {
   "cell_type": "code",
   "execution_count": 51,
   "id": "c17e0f24",
   "metadata": {},
   "outputs": [],
   "source": [
    "def info_of_numerical(col):\n",
    "    print(f\"The mean of the {col} is {df[col].mean()}\")\n",
    "    print(f\"The median of the {col} is {df[col].median()}\")\n",
    "    print(f\"The mode of the {col} is {df[col].mode()[0]}\")\n",
    "    print(f\"The standard deviation of the {col} is {df[col].std()}\")\n",
    "    print(f\"Number of missing values in the {col} is {df[col].isnull().sum()}\")"
   ]
  },
  {
   "cell_type": "code",
   "execution_count": 52,
   "id": "daa0c941",
   "metadata": {},
   "outputs": [
    {
     "data": {
      "text/plain": [
       "['Age', 'EmployeeNumber', 'HourlyRate', 'MonthlyIncome', 'TotalWorkingYears']"
      ]
     },
     "execution_count": 52,
     "metadata": {},
     "output_type": "execute_result"
    }
   ],
   "source": [
    "continuous"
   ]
  },
  {
   "cell_type": "code",
   "execution_count": 53,
   "id": "5d00dc1c",
   "metadata": {},
   "outputs": [
    {
     "name": "stdout",
     "output_type": "stream",
     "text": [
      "The mean of the Age is 36.93015214384509\n",
      "The median of the Age is 36.0\n",
      "The mode of the Age is 34.0\n",
      "The standard deviation of the Age is 9.16220404447615\n",
      "Number of missing values in the Age is 24\n"
     ]
    }
   ],
   "source": [
    "info_of_numerical(\"Age\")"
   ]
  },
  {
   "cell_type": "code",
   "execution_count": 56,
   "id": "555260f6",
   "metadata": {},
   "outputs": [
    {
     "data": {
      "image/png": "[encoded data removed]",
      "text/plain": [
       "<Figure size 1440x504 with 2 Axes>"
      ]
     },
     "metadata": {
      "needs_background": "light"
     },
     "output_type": "display_data"
    }
   ],
   "source": [
    "# Distribution of Customer_Age\n",
    "fig, ax = plt.subplots(1, 2, figsize= (20, 7))               # Creating the space for the 2 images, first argument in subplots is rows and second is columns and the figure size\n",
    "sb.histplot(x = df[\"Age\"], ax =ax[1], color = \"m\") # ax[1] means image will plot at the second space\n",
    "sb.boxplot(x = df[\"Age\"], ax = ax[0], color = \"g\") # ax[0] means image will plot at the second space\n",
    "plt.show()"
   ]
  },
  {
   "cell_type": "markdown",
   "id": "d89d0242",
   "metadata": {},
   "source": [
    "Employee's Age is a continuous datatype (Numerical)"
   ]
  },
  {
   "cell_type": "markdown",
   "id": "255ad8c5",
   "metadata": {},
   "source": [
    "This data is normally distributed"
   ]
  },
  {
   "cell_type": "code",
   "execution_count": 58,
   "id": "beaa8604",
   "metadata": {},
   "outputs": [],
   "source": [
    "mean = 36\n",
    "df[\"Age\"].fillna(mean, axis = 0, inplace = True)"
   ]
  },
  {
   "cell_type": "code",
   "execution_count": 59,
   "id": "0b0e0fb0",
   "metadata": {},
   "outputs": [
    {
     "name": "stdout",
     "output_type": "stream",
     "text": [
      "The mean of the Age is 36.914965986394556\n",
      "The median of the Age is 36.0\n",
      "The mode of the Age is 36.0\n",
      "The standard deviation of the Age is 9.087816436803726\n",
      "Number of missing values in the Age is 0\n"
     ]
    }
   ],
   "source": [
    "info_of_numerical(\"Age\")"
   ]
  },
  {
   "cell_type": "code",
   "execution_count": 62,
   "id": "f3b0cde5",
   "metadata": {},
   "outputs": [
    {
     "data": {
      "image/png": "[encoded data removed]",
      "text/plain": [
       "<Figure size 1440x504 with 2 Axes>"
      ]
     },
     "metadata": {
      "needs_background": "light"
     },
     "output_type": "display_data"
    }
   ],
   "source": [
    "# Distribution of Customer_Age\n",
    "fig, ax = plt.subplots(1, 2, figsize= (20, 7))               # Creating the space for the 2 images, first argument in subplots is rows and second is columns and the figure size\n",
    "sb.histplot(x = df[\"Age\"], ax =ax[1], color = \"m\") # ax[1] means image will plot at the second space\n",
    "sb.boxplot(x = df[\"Age\"], ax = ax[0], color = \"g\") # ax[0] means image will plot at the second space\n",
    "plt.show()"
   ]
  },
  {
   "cell_type": "markdown",
   "id": "8a72982a",
   "metadata": {},
   "source": [
    "# Interpretation: Usually employee's age follows the normal distribution. There are no employees above the age of 60."
   ]
  },
  {
   "cell_type": "code",
   "execution_count": 61,
   "id": "164e1dd0",
   "metadata": {},
   "outputs": [
    {
     "name": "stdout",
     "output_type": "stream",
     "text": [
      "The mean of the EmployeeNumber is 1024.865306122449\n",
      "The median of the EmployeeNumber is 1020.5\n",
      "The mode of the EmployeeNumber is 1\n",
      "The standard deviation of the EmployeeNumber is 602.024334847475\n",
      "Number of missing values in the EmployeeNumber is 0\n"
     ]
    }
   ],
   "source": [
    "info_of_numerical(\"EmployeeNumber\")"
   ]
  },
  {
   "cell_type": "markdown",
   "id": "1048d06a",
   "metadata": {},
   "source": [
    "# Interpretation: One is not supposed to perform measures of central tendency on the employee code column of the company."
   ]
  },
  {
   "cell_type": "markdown",
   "id": "2e9b226e",
   "metadata": {},
   "source": [
    "# 16. Analysis of HourlyRate:\n",
    "LEVEL 1 Analysis of Numerical Data (Univariate Analysis)"
   ]
  },
  {
   "cell_type": "code",
   "execution_count": 63,
   "id": "7baf2642",
   "metadata": {},
   "outputs": [
    {
     "name": "stdout",
     "output_type": "stream",
     "text": [
      "The mean of the HourlyRate is 65.89115646258503\n",
      "The median of the HourlyRate is 66.0\n",
      "The mode of the HourlyRate is 66\n",
      "The standard deviation of the HourlyRate is 20.329427593996158\n",
      "Number of missing values in the HourlyRate is 0\n"
     ]
    }
   ],
   "source": [
    "info_of_numerical(\"HourlyRate\")"
   ]
  },
  {
   "cell_type": "markdown",
   "id": "7060578f",
   "metadata": {},
   "source": [
    "Hourly Rate is a continuous datatype (Numerical)."
   ]
  },
  {
   "cell_type": "code",
   "execution_count": 64,
   "id": "39b6d047",
   "metadata": {},
   "outputs": [
    {
     "data": {
      "image/png": "[encoded data removed]",
      "text/plain": [
       "<Figure size 1440x504 with 2 Axes>"
      ]
     },
     "metadata": {
      "needs_background": "light"
     },
     "output_type": "display_data"
    }
   ],
   "source": [
    "fig, ax = plt.subplots(1, 2, figsize= (20, 7))               # Creating the space for the 2 images, first argument in subplots is rows and second is columns and the figure size\n",
    "sb.histplot(x = df[\"HourlyRate\"], ax =ax[1], color = \"m\") # ax[1] means image will plot at the second space\n",
    "sb.boxplot(x = df[\"HourlyRate\"], ax = ax[0], color = \"g\") # ax[0] means image will plot at the second space\n",
    "plt.show()"
   ]
  },
  {
   "cell_type": "markdown",
   "id": "d3ca3772",
   "metadata": {},
   "source": [
    "# Interpretation: Majority of employees have an hourly rate between $47 and $83."
   ]
  },
  {
   "cell_type": "markdown",
   "id": "b026dd8b",
   "metadata": {},
   "source": [
    "17. Analysis of the MonthlyIncome"
   ]
  },
  {
   "cell_type": "code",
   "execution_count": 66,
   "id": "ef2006d9",
   "metadata": {},
   "outputs": [
    {
     "name": "stdout",
     "output_type": "stream",
     "text": [
      "The mean of the MonthlyIncome is 6502.931292517007\n",
      "The median of the MonthlyIncome is 4919.0\n",
      "The mode of the MonthlyIncome is 2342\n",
      "The standard deviation of the MonthlyIncome is 4707.956783097995\n",
      "Number of missing values in the MonthlyIncome is 0\n"
     ]
    }
   ],
   "source": [
    "info_of_numerical(\"MonthlyIncome\")"
   ]
  },
  {
   "cell_type": "markdown",
   "id": "4bc66d50",
   "metadata": {},
   "source": [
    "# Monthly Income is a continuous datatype (Numerical)."
   ]
  },
  {
   "cell_type": "code",
   "execution_count": 68,
   "id": "203de6ec",
   "metadata": {},
   "outputs": [
    {
     "data": {
      "image/png": "[encoded data removed]",
      "text/plain": [
       "<Figure size 1440x504 with 2 Axes>"
      ]
     },
     "metadata": {
      "needs_background": "light"
     },
     "output_type": "display_data"
    }
   ],
   "source": [
    "fig, ax = plt.subplots(1, 2, figsize= (20, 7))               # Creating the space for the 2 images, first argument in subplots is rows and second is columns and the figure size\n",
    "sb.histplot(x = df[\"MonthlyIncome\"], ax =ax[1], color = \"m\") # ax[1] means image will plot at the second space\n",
    "sb.boxplot(x = df[\"MonthlyIncome\"], ax = ax[0], color = \"g\") # ax[0] means image will plot at the second space\n",
    "plt.show()"
   ]
  },
  {
   "cell_type": "markdown",
   "id": "0f482462",
   "metadata": {},
   "source": [
    "# This is a right skewed data.\n",
    "\n",
    "#Outliers Analysis and Interpretation:\n",
    "Majority of the employees are earning below $8K per month. There are a few employees who seem to earn more than $15K per month"
   ]
  },
  {
   "cell_type": "markdown",
   "id": "b32cb1c9",
   "metadata": {},
   "source": [
    "# Level 2 Analysis "
   ]
  },
  {
   "cell_type": "code",
   "execution_count": 69,
   "id": "add59065",
   "metadata": {},
   "outputs": [
    {
     "name": "stdout",
     "output_type": "stream",
     "text": [
      "categorical               continuous\n",
      "------------------------  -----------------\n",
      "Attrition                 Age\n",
      "BusinessTravel            EmployeeNumber\n",
      "Department                HourlyRate\n",
      "DistanceFromHome          MonthlyIncome\n",
      "EducationField            TotalWorkingYears\n",
      "EnvironmentSatisfaction\n",
      "Gender\n",
      "JobInvolvement\n",
      "JobRole\n",
      "JobSatisfaction\n",
      "MaritalStatus\n",
      "NumCompaniesWorked\n",
      "Over18\n",
      "OverTime\n",
      "PerformanceRating\n",
      "RelationshipSatisfaction\n",
      "TrainingTimesLastYear\n",
      "WorkLifeBalance\n",
      "YearsAtCompany\n",
      "YearsInCurrentRole\n",
      "YearsSinceLastPromotion\n",
      "YearsWithCurrManager\n"
     ]
    }
   ],
   "source": [
    "x = print(tabulate({\"Categorical\":categorical,\n",
    "                \"Continuous\": continuous}, headers = [\"categorical\", \"continuous\"]))"
   ]
  },
  {
   "cell_type": "markdown",
   "id": "ee3df66b",
   "metadata": {},
   "source": [
    "# CAT-CAT ANALYSIS (relationship between categorical data)"
   ]
  },
  {
   "cell_type": "markdown",
   "id": "85f1b1d5",
   "metadata": {},
   "source": [
    "# 1. Analysis of Business Travel on Attrition¶\n",
    "Level 2 Categorical to Categorical"
   ]
  },
  {
   "cell_type": "code",
   "execution_count": 70,
   "id": "77568c02",
   "metadata": {},
   "outputs": [
    {
     "data": {
      "image/png": "[encoded data removed]",
      "text/plain": [
       "<Figure size 720x504 with 1 Axes>"
      ]
     },
     "metadata": {
      "needs_background": "light"
     },
     "output_type": "display_data"
    }
   ],
   "source": [
    "fig, ax = plt.subplots(figsize = (10, 7))\n",
    "sb.countplot(x = \"BusinessTravel\", hue = \"Attrition\", data = df)\n",
    "plt.show()"
   ]
  },
  {
   "cell_type": "markdown",
   "id": "243fbd2c",
   "metadata": {},
   "source": [
    "# Interpretation: Rarely traveling employees are the ones who seem to quit the company."
   ]
  },
  {
   "cell_type": "markdown",
   "id": "0304eb73",
   "metadata": {},
   "source": [
    "Further Analysis (Level 3)"
   ]
  },
  {
   "cell_type": "code",
   "execution_count": 73,
   "id": "c666a211",
   "metadata": {},
   "outputs": [
    {
     "data": {
      "text/plain": [
       "Index(['Age', 'Attrition', 'BusinessTravel', 'Department', 'DistanceFromHome',\n",
       "       'EducationField', 'EmployeeNumber', 'EnvironmentSatisfaction', 'Gender',\n",
       "       'HourlyRate', 'JobInvolvement', 'JobRole', 'JobSatisfaction',\n",
       "       'MaritalStatus', 'MonthlyIncome', 'NumCompaniesWorked', 'Over18',\n",
       "       'OverTime', 'PerformanceRating', 'RelationshipSatisfaction',\n",
       "       'TotalWorkingYears', 'TrainingTimesLastYear', 'WorkLifeBalance',\n",
       "       'YearsAtCompany', 'YearsInCurrentRole', 'YearsSinceLastPromotion',\n",
       "       'YearsWithCurrManager'],\n",
       "      dtype='object')"
      ]
     },
     "execution_count": 73,
     "metadata": {},
     "output_type": "execute_result"
    }
   ],
   "source": [
    "df.columns"
   ]
  },
  {
   "cell_type": "markdown",
   "id": "32abd4f4",
   "metadata": {},
   "source": [
    "One could consider analyzing all the above columns for the employees who are travelling rarely. However, it could be a waste of time; hence, it is better to consult the domain expert to choose the appropriate columns for further analysis.\n",
    "Let's consider the following columns:\n",
    "\n",
    "JobRole\n",
    "Department\n",
    "JobInvolvement"
   ]
  },
  {
   "cell_type": "markdown",
   "id": "d187658e",
   "metadata": {},
   "source": [
    "# 2. Analysis of EducationField analysis with the Attrition¶\n",
    "Level 2 Categorical to Categorical"
   ]
  },
  {
   "cell_type": "code",
   "execution_count": 74,
   "id": "149dbded",
   "metadata": {},
   "outputs": [
    {
     "data": {
      "image/png": "[encoded data removed]",
      "text/plain": [
       "<Figure size 720x504 with 1 Axes>"
      ]
     },
     "metadata": {
      "needs_background": "light"
     },
     "output_type": "display_data"
    }
   ],
   "source": [
    "fig, ax = plt.subplots(figsize = (10, 7))\n",
    "sb.countplot(x = \"EducationField\", hue = \"Attrition\", data = df)\n",
    "plt.show()"
   ]
  },
  {
   "cell_type": "markdown",
   "id": "d0e063ae",
   "metadata": {},
   "source": [
    "Interpretation: The employees from Life Science and Medical fields seem to have higher attrition when compared to other educational majors. However, we noted that almost 70% of the employees in the company have a Life Science or Medical degree as education."
   ]
  },
  {
   "cell_type": "markdown",
   "id": "14f0ab4f",
   "metadata": {},
   "source": [
    "# One could consider analyzing all the above columns for the employees who are from Medical and Life Science backgrounds. However, it could be a waste of time, hence it is better to consult the domain expert to choose the appropriate columns for further analysis.\n",
    "Let's consider the following columns:\n",
    "\n",
    "Monthly Income\n",
    "Years in current role\n",
    "Years at company"
   ]
  },
  {
   "cell_type": "markdown",
   "id": "678084ac",
   "metadata": {},
   "source": [
    "# 3. Is there any relation between the Employee's Attrition and the Department?"
   ]
  },
  {
   "cell_type": "code",
   "execution_count": 75,
   "id": "a59350bc",
   "metadata": {},
   "outputs": [
    {
     "data": {
      "image/png": "[encoded data removed]",
      "text/plain": [
       "<Figure size 720x504 with 1 Axes>"
      ]
     },
     "metadata": {
      "needs_background": "light"
     },
     "output_type": "display_data"
    }
   ],
   "source": [
    "fig, ax = plt.subplots(figsize = (10, 7))\n",
    "sb.countplot(x = \"Department\", hue = \"Attrition\", data = df)\n",
    "plt.show()"
   ]
  },
  {
   "cell_type": "markdown",
   "id": "fac9b6e1",
   "metadata": {},
   "source": [
    "# Interpretation: The HR department seems to have the lowest attrition in terms of numbers."
   ]
  },
  {
   "cell_type": "code",
   "execution_count": 76,
   "id": "70098623",
   "metadata": {},
   "outputs": [
    {
     "data": {
      "text/plain": [
       "Attrition  Department            \n",
       "No         Research & Development    828\n",
       "           Sales                     354\n",
       "           Human Resources            51\n",
       "Yes        Research & Development    133\n",
       "           Sales                      92\n",
       "           Human Resources            12\n",
       "Name: Department, dtype: int64"
      ]
     },
     "execution_count": 76,
     "metadata": {},
     "output_type": "execute_result"
    }
   ],
   "source": [
    "df[\"Department\"].groupby(df[\"Attrition\"]).value_counts() "
   ]
  },
  {
   "cell_type": "code",
   "execution_count": 77,
   "id": "8f7f5aaf",
   "metadata": {},
   "outputs": [
    {
     "name": "stdout",
     "output_type": "stream",
     "text": [
      "R and D Attrition: 0.14%\n",
      "Sales Attrition Rate: 0.21%\n",
      "Human Resource: 0.19%\n"
     ]
    }
   ],
   "source": [
    "print(f\"R and D Attrition: {round(133/(133+828),2)}%\")\n",
    "print(f\"Sales Attrition Rate: {round(92/(92+354),2)}%\")\n",
    "print(f\"Human Resource: {round(12/(12+51),2)}%\")"
   ]
  },
  {
   "cell_type": "markdown",
   "id": "fa708dac",
   "metadata": {},
   "source": [
    "# Interpretation: Although the HR team's attrition seems to be on the lower side, the above figures do not verify the same."
   ]
  },
  {
   "cell_type": "markdown",
   "id": "a4561be5",
   "metadata": {},
   "source": [
    "# Further Analysis (Level 3):¶\n",
    "Let's look into the data to check if there is an additional information about the employees who are from the sales department."
   ]
  },
  {
   "cell_type": "markdown",
   "id": "63bb67a0",
   "metadata": {},
   "source": [
    "# One could consider analyzing all the above columns for the employees who are from the sales department. However, it could be a waste of time, hence it is better to consult the domain expert to choose the appropriate columns for further analysis.¶\n",
    "Let's consider the following columns:\n",
    "\n",
    "Attrition\n",
    "Gender\n",
    "Hourly Rate"
   ]
  },
  {
   "cell_type": "markdown",
   "id": "68edc8a7",
   "metadata": {},
   "source": [
    "# 4. Analysis of Environment Satisfaction with the Attrition¶\n",
    "Level 2 Categorical to Categorical"
   ]
  },
  {
   "cell_type": "code",
   "execution_count": 78,
   "id": "d20eabf6",
   "metadata": {},
   "outputs": [
    {
     "data": {
      "image/png": "[encoded data removed]",
      "text/plain": [
       "<Figure size 720x504 with 1 Axes>"
      ]
     },
     "metadata": {
      "needs_background": "light"
     },
     "output_type": "display_data"
    }
   ],
   "source": [
    "fig, ax = plt.subplots(figsize = (10, 7))\n",
    "sb.countplot(x = \"EnvironmentSatisfaction\", hue = \"Attrition\", data = df)\n",
    "plt.show()"
   ]
  },
  {
   "cell_type": "markdown",
   "id": "6f552bf3",
   "metadata": {},
   "source": [
    "# Interpretation: No clear patterns are visible in the employees who are attired with lower and higher environment satisfaction."
   ]
  },
  {
   "cell_type": "markdown",
   "id": "e5934689",
   "metadata": {},
   "source": [
    "# One could consider analyzing all the above columns for the employees who have lower environment satisfaction. However, it could be a waste of time, hence it is better to consult the domain expert to choose the appropriate columns for further analysis.\n",
    "Let's consider the following columns:\n",
    "\n",
    "JobRole\n",
    "Department\n",
    "HourlyRate"
   ]
  },
  {
   "cell_type": "markdown",
   "id": "d77579d0",
   "metadata": {},
   "source": [
    "# Gender analysis on Attrition who left the firm and who are still with it"
   ]
  },
  {
   "cell_type": "code",
   "execution_count": 81,
   "id": "17b4d876",
   "metadata": {},
   "outputs": [
    {
     "data": {
      "image/png": "[encoded data removed]",
      "text/plain": [
       "<Figure size 432x288 with 1 Axes>"
      ]
     },
     "metadata": {
      "needs_background": "light"
     },
     "output_type": "display_data"
    }
   ],
   "source": [
    "# fig, ax = plt.subplots(figsize = (10, 7))\n",
    "sb.countplot(x = \"Gender\", hue = \"Attrition\", data = df)\n",
    "plt.show()"
   ]
  },
  {
   "cell_type": "markdown",
   "id": "6efb7811",
   "metadata": {},
   "source": [
    "# Interpretation: Number of males who attired is more as compared to the females.¶\n",
    "But when the percentage is compared in the ratio of attiring with respect to their gender, the picture might be differen"
   ]
  },
  {
   "cell_type": "code",
   "execution_count": 82,
   "id": "0e3b25fb",
   "metadata": {},
   "outputs": [
    {
     "data": {
      "text/plain": [
       "Attrition  Gender   \n",
       "No         Male         704\n",
       "           Female       491\n",
       "           Not Known     38\n",
       "Yes        Male         145\n",
       "           Female        85\n",
       "           Not Known      7\n",
       "Name: Gender, dtype: int64"
      ]
     },
     "execution_count": 82,
     "metadata": {},
     "output_type": "execute_result"
    }
   ],
   "source": [
    "df[\"Gender\"].groupby(df[\"Attrition\"]).value_counts()"
   ]
  },
  {
   "cell_type": "code",
   "execution_count": 83,
   "id": "841b6f43",
   "metadata": {},
   "outputs": [
    {
     "name": "stdout",
     "output_type": "stream",
     "text": [
      "Male Attrition Rate: 0.17%\n",
      "Female Attrition Rate: 0.15%\n"
     ]
    }
   ],
   "source": [
    "print(f\"Male Attrition Rate: {round(152/(152+742),2)}%\")\n",
    "print(f\"Female Attrition Rate: {round(85/(85+491),2)}%\")"
   ]
  },
  {
   "cell_type": "markdown",
   "id": "77040743",
   "metadata": {},
   "source": [
    "# Interpretation: Males are having a higher number of Attrition but it is only a 2% of difference when compared to females."
   ]
  },
  {
   "cell_type": "markdown",
   "id": "7e072bc1",
   "metadata": {},
   "source": [
    "# One could consider analyzing all the above columns for the employees who are males and their attrition rate. However it could be a waste of time, hence it is better to consult the domain expert to choose the appropriate columns for further analysis.\n",
    "Let's consider the following columns:\n",
    "\n",
    "Age\n",
    "Department\n",
    "HourlyRate"
   ]
  },
  {
   "cell_type": "markdown",
   "id": "e3b21b3b",
   "metadata": {},
   "source": [
    "# 6. Marital Status analysis of the employees who have left the firm and who are still with it"
   ]
  },
  {
   "cell_type": "code",
   "execution_count": 85,
   "id": "be1f6cfb",
   "metadata": {},
   "outputs": [
    {
     "data": {
      "image/png": "[encoded data removed]",
      "text/plain": [
       "<Figure size 720x504 with 1 Axes>"
      ]
     },
     "metadata": {
      "needs_background": "light"
     },
     "output_type": "display_data"
    }
   ],
   "source": [
    "fig, ax = plt.subplots(figsize = (10, 7))\n",
    "sb.countplot(x = \"MaritalStatus\", hue = \"Attrition\", data = df)\n",
    "plt.show()"
   ]
  },
  {
   "cell_type": "markdown",
   "id": "6d06c19d",
   "metadata": {},
   "source": [
    "# Interpretation: Employees who are single have a higher rate of attrition as compared to those who are married.\n"
   ]
  },
  {
   "cell_type": "markdown",
   "id": "856ef1ca",
   "metadata": {},
   "source": [
    "# One could consider analyzing all the above columns for the employees who are single. However it could be a waste of time, hence it is better to consult the domain expert to choose the appropriate columns for further analysis.¶\n",
    "Let's consider the following columns:\n",
    "\n",
    "Age\n",
    "Monthly Income\n",
    "Job Satisfaction"
   ]
  },
  {
   "cell_type": "markdown",
   "id": "1aade86b",
   "metadata": {},
   "source": [
    "# 7. Effect of the Performance Rating with the Attrition"
   ]
  },
  {
   "cell_type": "code",
   "execution_count": 86,
   "id": "72c4567e",
   "metadata": {},
   "outputs": [
    {
     "data": {
      "image/png": "[encoded data removed]",
      "text/plain": [
       "<Figure size 720x504 with 1 Axes>"
      ]
     },
     "metadata": {
      "needs_background": "light"
     },
     "output_type": "display_data"
    }
   ],
   "source": [
    "fig, ax = plt.subplots(figsize = (10, 7))\n",
    "sb.countplot(x = \"PerformanceRating\", hue = \"Attrition\", data = df)\n",
    "plt.show()"
   ]
  },
  {
   "cell_type": "markdown",
   "id": "c3b9330e",
   "metadata": {},
   "source": [
    "# Interpretation: Employees who have higher performance ratings tend to continue with the company."
   ]
  },
  {
   "cell_type": "markdown",
   "id": "0ec78f5b",
   "metadata": {},
   "source": [
    "# One could consider analyzing all the above columns for the employees who are having lower performance ratings. However it could be a waste of time, hence it is better to consult the domain expert to choose the appropriate columns for further analysis.\n",
    "Let's consider the following columns:\n",
    "\n",
    "Age\n",
    "Years with current manager\n",
    "Job Role"
   ]
  },
  {
   "cell_type": "markdown",
   "id": "7e8a81b9",
   "metadata": {},
   "source": [
    "# 8. Job Satisfaction analysis of the employees who have left and those who are still with the firm.¶\n",
    "Level 2 Categorical to Categorical"
   ]
  },
  {
   "cell_type": "code",
   "execution_count": 87,
   "id": "0c14af00",
   "metadata": {},
   "outputs": [
    {
     "data": {
      "image/png": "[encoded data removed]",
      "text/plain": [
       "<Figure size 720x504 with 1 Axes>"
      ]
     },
     "metadata": {
      "needs_background": "light"
     },
     "output_type": "display_data"
    }
   ],
   "source": [
    "fig, ax = plt.subplots(figsize = (10, 7))\n",
    "sb.countplot(x = \"JobSatisfaction\", hue = \"Attrition\", data = df)\n",
    "plt.show()"
   ]
  },
  {
   "cell_type": "markdown",
   "id": "d2078bdd",
   "metadata": {},
   "source": [
    "# Interpretation: No clear pattern is visible in the people who are attired with lower and higher job satisfaction.\n"
   ]
  },
  {
   "cell_type": "markdown",
   "id": "ebc10eac",
   "metadata": {},
   "source": [
    "# One could consider analyzing all the above columns for the employees who have lower job satisfaction. However it could be a waste of time, hence it is better to consult the domain expert to choose the appropriate columns for further analysis.¶\n",
    "Let's consider the following columns:\n",
    "\n",
    "Job Role\n",
    "Department\n",
    "HourlyRate"
   ]
  },
  {
   "cell_type": "markdown",
   "id": "db7a6fb6",
   "metadata": {},
   "source": [
    "# CAT-NUM ANALYSIS (relationship between categorical and numerical data)"
   ]
  },
  {
   "cell_type": "markdown",
   "id": "b957a9fe",
   "metadata": {},
   "source": [
    "# 1. Employee's Age analysis with their customers who have left and with those who are still with the firm"
   ]
  },
  {
   "cell_type": "code",
   "execution_count": 88,
   "id": "ce314b30",
   "metadata": {},
   "outputs": [
    {
     "data": {
      "image/png": "[encoded data removed]",
      "text/plain": [
       "<Figure size 1080x504 with 2 Axes>"
      ]
     },
     "metadata": {
      "needs_background": "light"
     },
     "output_type": "display_data"
    }
   ],
   "source": [
    "fig, ax = plt.subplots(1, 2, figsize = (15, 7))\n",
    "sb.histplot(x = df[\"Age\"], hue = df[\"Attrition\"], ax = ax[0])\n",
    "sb.boxplot(y = df[\"Age\"], x = df[\"Attrition\"], ax = ax[1])\n",
    "plt.show()"
   ]
  },
  {
   "cell_type": "markdown",
   "id": "e13415d4",
   "metadata": {},
   "source": [
    "# Interpretation: People who are attired are usually in the age range of 28 to 40 years whereas the people who are still working have a higher range of age from 33 to 43 years approx."
   ]
  },
  {
   "cell_type": "markdown",
   "id": "6737eb06",
   "metadata": {},
   "source": [
    "# One could consider analyzing all the above columns for the employees who are in the age range of 28 to 40 years. However it could be a waste of time, hence it is better to consult the domain expert to choose the appropriate columns for further analysis.¶\n",
    "Let's consider the following columns:\n",
    "\n",
    "Job Role\n",
    "Monthly Income\n",
    "Year at company"
   ]
  },
  {
   "cell_type": "markdown",
   "id": "bbafe0db",
   "metadata": {},
   "source": [
    "# 2. Is there any relation between the hourly rate of the employees and the employees who have left?"
   ]
  },
  {
   "cell_type": "code",
   "execution_count": 89,
   "id": "8e689753",
   "metadata": {},
   "outputs": [
    {
     "data": {
      "image/png": "[encoded data removed]",
      "text/plain": [
       "<Figure size 1080x504 with 2 Axes>"
      ]
     },
     "metadata": {
      "needs_background": "light"
     },
     "output_type": "display_data"
    }
   ],
   "source": [
    "fig, ax = plt.subplots(1, 2, figsize = (15, 7))\n",
    "sb.histplot(x = df[\"HourlyRate\"], hue = df[\"Attrition\"], ax = ax[0])\n",
    "sb.boxplot(x = df[\"Attrition\"] ,y = df[\"HourlyRate\"] , ax = ax[1])\n",
    "plt.show()"
   ]
  },
  {
   "cell_type": "markdown",
   "id": "d9ba19a9",
   "metadata": {},
   "source": [
    "# Interpretation: Both of the employees' categories who are attired and who are still working with the firm have a common hourly rate."
   ]
  },
  {
   "cell_type": "markdown",
   "id": "65e82d99",
   "metadata": {},
   "source": [
    "# One could consider analyzing all the above columns for the employees' hourly rate who are still working for the firm. However it could be a waste of time, hence it is better to consult the domain expert to choose the appropriate columns for further analysis.¶\n",
    "Let's consider the following columns:\n",
    "\n",
    "Age\n",
    "Job Role\n",
    "Total Working Years"
   ]
  },
  {
   "cell_type": "markdown",
   "id": "5cd0b8ca",
   "metadata": {},
   "source": [
    "# 3. Monthly Income analysis of the employees who have left and who are still with the firm"
   ]
  },
  {
   "cell_type": "code",
   "execution_count": 90,
   "id": "55e7f4f9",
   "metadata": {},
   "outputs": [
    {
     "data": {
      "image/png": "[encoded data removed]",
      "text/plain": [
       "<Figure size 1080x504 with 2 Axes>"
      ]
     },
     "metadata": {
      "needs_background": "light"
     },
     "output_type": "display_data"
    }
   ],
   "source": [
    "fig, ax = plt.subplots(1, 2, figsize = (15, 7))\n",
    "sb.histplot(x = df[\"MonthlyIncome\"], hue = df[\"Attrition\"], ax = ax[0])\n",
    "sb.boxplot(y = df[\"Attrition\"], x = df[\"MonthlyIncome\"], ax = ax[1])\n",
    "plt.show()"
   ]
  },
  {
   "cell_type": "markdown",
   "id": "74fef5cf",
   "metadata": {},
   "source": [
    "# Interpretation: 75% of the employees who quit have an income slightly greater than the 50% of the employees who are still working with the firm.\n"
   ]
  },
  {
   "cell_type": "markdown",
   "id": "3cfb244f",
   "metadata": {},
   "source": [
    "# Further Analysis (Level 3):\n",
    "Let's look into the data to check if there is an additional information about the employees who have left out the earning less than $6,000.\n",
    "\n",
    "One could consider analyzing all the above columns for the employees who are earning less than 6000$. However it could be a waste of time, hence it is better to consult the domain expert to choose the appropriate columns for further analysis.\n",
    "Let's consider the following columns:\n",
    "\n",
    "Job Role\n",
    "Age\n",
    "Total working years"
   ]
  },
  {
   "cell_type": "markdown",
   "id": "b2ca2dc7",
   "metadata": {},
   "source": [
    "# 4. How distance from home is impacting the attrition of employees?"
   ]
  },
  {
   "cell_type": "code",
   "execution_count": 91,
   "id": "2986b04c",
   "metadata": {},
   "outputs": [
    {
     "data": {
      "image/png": "[encoded data removed]",
      "text/plain": [
       "<Figure size 1080x504 with 2 Axes>"
      ]
     },
     "metadata": {
      "needs_background": "light"
     },
     "output_type": "display_data"
    }
   ],
   "source": [
    "fig, ax = plt.subplots(1, 2, figsize = (15, 7))\n",
    "sb.histplot(x = df[\"DistanceFromHome\"], hue = df[\"Attrition\"], ax = ax[0])\n",
    "sb.boxplot(y = df[\"Attrition\"], x = df[\"DistanceFromHome\"], ax = ax[1])\n",
    "plt.show()"
   ]
  },
  {
   "cell_type": "markdown",
   "id": "26b7af1e",
   "metadata": {},
   "source": [
    "# Interpretation: Employees who seem to travel long distances to reach the office seem to have a higher attrition rate."
   ]
  },
  {
   "cell_type": "markdown",
   "id": "43e64fea",
   "metadata": {},
   "source": [
    "# One could consider analyzing all the above columns for the employees who are having a distance larger than 7km. However it could be a waste of time, hence it is better to consult the domain expert to choose the appropriate columns for further analysis.\n",
    "Let's consider the following columns:\n",
    "\n",
    "Job role\n",
    "Monthly Income\n",
    "Job Involvement"
   ]
  },
  {
   "cell_type": "markdown",
   "id": "6175d5b2",
   "metadata": {},
   "source": [
    "5. Is there any relation between the total working years of the employees with attrition?"
   ]
  },
  {
   "cell_type": "code",
   "execution_count": 92,
   "id": "43e76677",
   "metadata": {},
   "outputs": [
    {
     "data": {
      "image/png": "[encoded data removed]",
      "text/plain": [
       "<Figure size 1080x504 with 2 Axes>"
      ]
     },
     "metadata": {
      "needs_background": "light"
     },
     "output_type": "display_data"
    }
   ],
   "source": [
    "fig, ax = plt.subplots(1, 2, figsize = (15, 7))\n",
    "sb.histplot(x = df[\"TotalWorkingYears\"], hue = df[\"Attrition\"], ax = ax[0])\n",
    "sb.boxplot(y = df[\"Attrition\"], x = df[\"TotalWorkingYears\"], ax = ax[1])\n",
    "plt.show()"
   ]
  },
  {
   "cell_type": "markdown",
   "id": "303e0793",
   "metadata": {},
   "source": [
    "# Interpretation: Employees with lower work experience seem to quit the job more often.¶\n",
    "Further Analysis (Level 3):\n",
    "Let's look into the data to check if there is an additional information about the employees who are having higher working experience.\n",
    "\n",
    "df.columns"
   ]
  },
  {
   "cell_type": "markdown",
   "id": "5b5fe809",
   "metadata": {},
   "source": [
    "# One could consider analyzing all the above columns for the employees who are having higher working experience. However it could be a waste of time, hence it is better to consult the domain expert to choose the appropriate columns for further analysis.\n",
    "Let's consider the following columns:\n",
    "\n",
    "Job Role\n",
    "Monthly Income\n",
    "Age"
   ]
  },
  {
   "cell_type": "code",
   "execution_count": null,
   "id": "0d4613d4",
   "metadata": {},
   "outputs": [],
   "source": []
  }
 ],
 "metadata": {
  "kernelspec": {
   "display_name": "Python 3 (ipykernel)",
   "language": "python",
   "name": "python3"
  },
  "language_info": {
   "codemirror_mode": {
    "name": "ipython",
    "version": 3
   },
   "file_extension": ".py",
   "mimetype": "text/x-python",
   "name": "python",
   "nbconvert_exporter": "python",
   "pygments_lexer": "ipython3",
   "version": "3.9.12"
  }
 },
 "nbformat": 4,
 "nbformat_minor": 5
}
