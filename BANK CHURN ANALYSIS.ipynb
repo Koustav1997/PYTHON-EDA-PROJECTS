{
 "cells": [
  {
   "cell_type": "code",
   "execution_count": 1,
   "id": "b4781085",
   "metadata": {},
   "outputs": [],
   "source": [
    "import numpy as np\n",
    "import matplotlib.pyplot as plt\n",
    "import seaborn as sb\n",
    "import statistics as st\n",
    "from scipy.stats import f\n",
    "import math\n",
    "import pandas as pd"
   ]
  },
  {
   "cell_type": "code",
   "execution_count": 2,
   "id": "950dc79c",
   "metadata": {},
   "outputs": [],
   "source": [
    "from  tabulate import tabulate"
   ]
  },
  {
   "cell_type": "code",
   "execution_count": 3,
   "id": "d0b36d37",
   "metadata": {},
   "outputs": [],
   "source": [
    "bank=pd.read_csv('C:\\\\Users\\\\Koustav\\\\Downloads\\\\bankdata.csv')  "
   ]
  },
  {
   "cell_type": "code",
   "execution_count": 4,
   "id": "bce283dd",
   "metadata": {},
   "outputs": [],
   "source": [
    "df=bank"
   ]
  },
  {
   "cell_type": "code",
   "execution_count": 130,
   "id": "b47fdc47",
   "metadata": {},
   "outputs": [
    {
     "data": {
      "text/html": [
       "<div>\n",
       "<style scoped>\n",
       "    .dataframe tbody tr th:only-of-type {\n",
       "        vertical-align: middle;\n",
       "    }\n",
       "\n",
       "    .dataframe tbody tr th {\n",
       "        vertical-align: top;\n",
       "    }\n",
       "\n",
       "    .dataframe thead th {\n",
       "        text-align: right;\n",
       "    }\n",
       "</style>\n",
       "<table border=\"1\" class=\"dataframe\">\n",
       "  <thead>\n",
       "    <tr style=\"text-align: right;\">\n",
       "      <th></th>\n",
       "      <th>CLIENTNUM</th>\n",
       "      <th>Attrition_Flag</th>\n",
       "      <th>Customer_Age</th>\n",
       "      <th>Gender</th>\n",
       "      <th>Dependent_count</th>\n",
       "      <th>Education_Level</th>\n",
       "      <th>Marital_Status</th>\n",
       "      <th>Income_Category</th>\n",
       "      <th>Card_Category</th>\n",
       "      <th>Months_on_book</th>\n",
       "      <th>Total_Relationship_Count</th>\n",
       "      <th>Months_Inactive_12_mon</th>\n",
       "      <th>Contacts_Count_12_mon</th>\n",
       "      <th>Credit_Limit</th>\n",
       "      <th>Total_Revolving_Bal</th>\n",
       "      <th>Avg_Open_To_Buy</th>\n",
       "      <th>Total_Trans_Amt</th>\n",
       "      <th>Total_Trans_Ct</th>\n",
       "      <th>Avg_Utilization_Ratio</th>\n",
       "    </tr>\n",
       "  </thead>\n",
       "  <tbody>\n",
       "    <tr>\n",
       "      <th>0</th>\n",
       "      <td>768805383</td>\n",
       "      <td>Existing Customer</td>\n",
       "      <td>45</td>\n",
       "      <td>M</td>\n",
       "      <td>3</td>\n",
       "      <td>High School</td>\n",
       "      <td>Married</td>\n",
       "      <td>$60K - $80K</td>\n",
       "      <td>Blue</td>\n",
       "      <td>39</td>\n",
       "      <td>5</td>\n",
       "      <td>1</td>\n",
       "      <td>3</td>\n",
       "      <td>12691.0</td>\n",
       "      <td>777</td>\n",
       "      <td>11914.0</td>\n",
       "      <td>1144</td>\n",
       "      <td>42</td>\n",
       "      <td>0.061</td>\n",
       "    </tr>\n",
       "    <tr>\n",
       "      <th>1</th>\n",
       "      <td>818770008</td>\n",
       "      <td>Existing Customer</td>\n",
       "      <td>49</td>\n",
       "      <td>F</td>\n",
       "      <td>5</td>\n",
       "      <td>Graduate</td>\n",
       "      <td>Single</td>\n",
       "      <td>Less than $40K</td>\n",
       "      <td>Blue</td>\n",
       "      <td>44</td>\n",
       "      <td>6</td>\n",
       "      <td>1</td>\n",
       "      <td>2</td>\n",
       "      <td>8256.0</td>\n",
       "      <td>864</td>\n",
       "      <td>7392.0</td>\n",
       "      <td>1291</td>\n",
       "      <td>33</td>\n",
       "      <td>0.105</td>\n",
       "    </tr>\n",
       "    <tr>\n",
       "      <th>2</th>\n",
       "      <td>713982108</td>\n",
       "      <td>Existing Customer</td>\n",
       "      <td>51</td>\n",
       "      <td>M</td>\n",
       "      <td>3</td>\n",
       "      <td>Graduate</td>\n",
       "      <td>Married</td>\n",
       "      <td>$80K - $120K</td>\n",
       "      <td>Blue</td>\n",
       "      <td>36</td>\n",
       "      <td>4</td>\n",
       "      <td>1</td>\n",
       "      <td>0</td>\n",
       "      <td>3418.0</td>\n",
       "      <td>0</td>\n",
       "      <td>3418.0</td>\n",
       "      <td>1887</td>\n",
       "      <td>20</td>\n",
       "      <td>0.000</td>\n",
       "    </tr>\n",
       "    <tr>\n",
       "      <th>3</th>\n",
       "      <td>769911858</td>\n",
       "      <td>Existing Customer</td>\n",
       "      <td>40</td>\n",
       "      <td>F</td>\n",
       "      <td>4</td>\n",
       "      <td>High School</td>\n",
       "      <td>Unknown</td>\n",
       "      <td>Less than $40K</td>\n",
       "      <td>Blue</td>\n",
       "      <td>34</td>\n",
       "      <td>3</td>\n",
       "      <td>4</td>\n",
       "      <td>1</td>\n",
       "      <td>3313.0</td>\n",
       "      <td>2517</td>\n",
       "      <td>796.0</td>\n",
       "      <td>1171</td>\n",
       "      <td>20</td>\n",
       "      <td>0.760</td>\n",
       "    </tr>\n",
       "    <tr>\n",
       "      <th>4</th>\n",
       "      <td>709106358</td>\n",
       "      <td>Existing Customer</td>\n",
       "      <td>40</td>\n",
       "      <td>M</td>\n",
       "      <td>3</td>\n",
       "      <td>Uneducated</td>\n",
       "      <td>Married</td>\n",
       "      <td>$60K - $80K</td>\n",
       "      <td>Blue</td>\n",
       "      <td>21</td>\n",
       "      <td>5</td>\n",
       "      <td>1</td>\n",
       "      <td>0</td>\n",
       "      <td>4716.0</td>\n",
       "      <td>0</td>\n",
       "      <td>4716.0</td>\n",
       "      <td>816</td>\n",
       "      <td>28</td>\n",
       "      <td>0.000</td>\n",
       "    </tr>\n",
       "    <tr>\n",
       "      <th>...</th>\n",
       "      <td>...</td>\n",
       "      <td>...</td>\n",
       "      <td>...</td>\n",
       "      <td>...</td>\n",
       "      <td>...</td>\n",
       "      <td>...</td>\n",
       "      <td>...</td>\n",
       "      <td>...</td>\n",
       "      <td>...</td>\n",
       "      <td>...</td>\n",
       "      <td>...</td>\n",
       "      <td>...</td>\n",
       "      <td>...</td>\n",
       "      <td>...</td>\n",
       "      <td>...</td>\n",
       "      <td>...</td>\n",
       "      <td>...</td>\n",
       "      <td>...</td>\n",
       "      <td>...</td>\n",
       "    </tr>\n",
       "    <tr>\n",
       "      <th>10122</th>\n",
       "      <td>772366833</td>\n",
       "      <td>Existing Customer</td>\n",
       "      <td>50</td>\n",
       "      <td>M</td>\n",
       "      <td>2</td>\n",
       "      <td>Graduate</td>\n",
       "      <td>Single</td>\n",
       "      <td>$40K - $60K</td>\n",
       "      <td>Blue</td>\n",
       "      <td>40</td>\n",
       "      <td>3</td>\n",
       "      <td>2</td>\n",
       "      <td>3</td>\n",
       "      <td>4003.0</td>\n",
       "      <td>1851</td>\n",
       "      <td>2152.0</td>\n",
       "      <td>15476</td>\n",
       "      <td>117</td>\n",
       "      <td>0.462</td>\n",
       "    </tr>\n",
       "    <tr>\n",
       "      <th>10123</th>\n",
       "      <td>710638233</td>\n",
       "      <td>Attrited Customer</td>\n",
       "      <td>41</td>\n",
       "      <td>M</td>\n",
       "      <td>2</td>\n",
       "      <td>Unknown</td>\n",
       "      <td>Divorced</td>\n",
       "      <td>$40K - $60K</td>\n",
       "      <td>Blue</td>\n",
       "      <td>25</td>\n",
       "      <td>4</td>\n",
       "      <td>2</td>\n",
       "      <td>3</td>\n",
       "      <td>4277.0</td>\n",
       "      <td>2186</td>\n",
       "      <td>2091.0</td>\n",
       "      <td>8764</td>\n",
       "      <td>69</td>\n",
       "      <td>0.511</td>\n",
       "    </tr>\n",
       "    <tr>\n",
       "      <th>10124</th>\n",
       "      <td>716506083</td>\n",
       "      <td>Attrited Customer</td>\n",
       "      <td>44</td>\n",
       "      <td>F</td>\n",
       "      <td>1</td>\n",
       "      <td>High School</td>\n",
       "      <td>Married</td>\n",
       "      <td>Less than $40K</td>\n",
       "      <td>Blue</td>\n",
       "      <td>36</td>\n",
       "      <td>5</td>\n",
       "      <td>3</td>\n",
       "      <td>4</td>\n",
       "      <td>5409.0</td>\n",
       "      <td>0</td>\n",
       "      <td>5409.0</td>\n",
       "      <td>10291</td>\n",
       "      <td>60</td>\n",
       "      <td>0.000</td>\n",
       "    </tr>\n",
       "    <tr>\n",
       "      <th>10125</th>\n",
       "      <td>717406983</td>\n",
       "      <td>Attrited Customer</td>\n",
       "      <td>30</td>\n",
       "      <td>M</td>\n",
       "      <td>2</td>\n",
       "      <td>Graduate</td>\n",
       "      <td>Unknown</td>\n",
       "      <td>$40K - $60K</td>\n",
       "      <td>Blue</td>\n",
       "      <td>36</td>\n",
       "      <td>4</td>\n",
       "      <td>3</td>\n",
       "      <td>3</td>\n",
       "      <td>5281.0</td>\n",
       "      <td>0</td>\n",
       "      <td>5281.0</td>\n",
       "      <td>8395</td>\n",
       "      <td>62</td>\n",
       "      <td>0.000</td>\n",
       "    </tr>\n",
       "    <tr>\n",
       "      <th>10126</th>\n",
       "      <td>714337233</td>\n",
       "      <td>Attrited Customer</td>\n",
       "      <td>43</td>\n",
       "      <td>F</td>\n",
       "      <td>2</td>\n",
       "      <td>Graduate</td>\n",
       "      <td>Married</td>\n",
       "      <td>Less than $40K</td>\n",
       "      <td>Silver</td>\n",
       "      <td>25</td>\n",
       "      <td>6</td>\n",
       "      <td>2</td>\n",
       "      <td>4</td>\n",
       "      <td>10388.0</td>\n",
       "      <td>1961</td>\n",
       "      <td>8427.0</td>\n",
       "      <td>10294</td>\n",
       "      <td>61</td>\n",
       "      <td>0.189</td>\n",
       "    </tr>\n",
       "  </tbody>\n",
       "</table>\n",
       "<p>10127 rows × 19 columns</p>\n",
       "</div>"
      ],
      "text/plain": [
       "       CLIENTNUM     Attrition_Flag  Customer_Age Gender  Dependent_count  \\\n",
       "0      768805383  Existing Customer            45      M                3   \n",
       "1      818770008  Existing Customer            49      F                5   \n",
       "2      713982108  Existing Customer            51      M                3   \n",
       "3      769911858  Existing Customer            40      F                4   \n",
       "4      709106358  Existing Customer            40      M                3   \n",
       "...          ...                ...           ...    ...              ...   \n",
       "10122  772366833  Existing Customer            50      M                2   \n",
       "10123  710638233  Attrited Customer            41      M                2   \n",
       "10124  716506083  Attrited Customer            44      F                1   \n",
       "10125  717406983  Attrited Customer            30      M                2   \n",
       "10126  714337233  Attrited Customer            43      F                2   \n",
       "\n",
       "      Education_Level Marital_Status Income_Category Card_Category  \\\n",
       "0         High School        Married     $60K - $80K          Blue   \n",
       "1            Graduate         Single  Less than $40K          Blue   \n",
       "2            Graduate        Married    $80K - $120K          Blue   \n",
       "3         High School        Unknown  Less than $40K          Blue   \n",
       "4          Uneducated        Married     $60K - $80K          Blue   \n",
       "...               ...            ...             ...           ...   \n",
       "10122        Graduate         Single     $40K - $60K          Blue   \n",
       "10123         Unknown       Divorced     $40K - $60K          Blue   \n",
       "10124     High School        Married  Less than $40K          Blue   \n",
       "10125        Graduate        Unknown     $40K - $60K          Blue   \n",
       "10126        Graduate        Married  Less than $40K        Silver   \n",
       "\n",
       "       Months_on_book  Total_Relationship_Count  Months_Inactive_12_mon  \\\n",
       "0                  39                         5                       1   \n",
       "1                  44                         6                       1   \n",
       "2                  36                         4                       1   \n",
       "3                  34                         3                       4   \n",
       "4                  21                         5                       1   \n",
       "...               ...                       ...                     ...   \n",
       "10122              40                         3                       2   \n",
       "10123              25                         4                       2   \n",
       "10124              36                         5                       3   \n",
       "10125              36                         4                       3   \n",
       "10126              25                         6                       2   \n",
       "\n",
       "       Contacts_Count_12_mon  Credit_Limit  Total_Revolving_Bal  \\\n",
       "0                          3       12691.0                  777   \n",
       "1                          2        8256.0                  864   \n",
       "2                          0        3418.0                    0   \n",
       "3                          1        3313.0                 2517   \n",
       "4                          0        4716.0                    0   \n",
       "...                      ...           ...                  ...   \n",
       "10122                      3        4003.0                 1851   \n",
       "10123                      3        4277.0                 2186   \n",
       "10124                      4        5409.0                    0   \n",
       "10125                      3        5281.0                    0   \n",
       "10126                      4       10388.0                 1961   \n",
       "\n",
       "       Avg_Open_To_Buy  Total_Trans_Amt  Total_Trans_Ct  Avg_Utilization_Ratio  \n",
       "0              11914.0             1144              42                  0.061  \n",
       "1               7392.0             1291              33                  0.105  \n",
       "2               3418.0             1887              20                  0.000  \n",
       "3                796.0             1171              20                  0.760  \n",
       "4               4716.0              816              28                  0.000  \n",
       "...                ...              ...             ...                    ...  \n",
       "10122           2152.0            15476             117                  0.462  \n",
       "10123           2091.0             8764              69                  0.511  \n",
       "10124           5409.0            10291              60                  0.000  \n",
       "10125           5281.0             8395              62                  0.000  \n",
       "10126           8427.0            10294              61                  0.189  \n",
       "\n",
       "[10127 rows x 19 columns]"
      ]
     },
     "execution_count": 130,
     "metadata": {},
     "output_type": "execute_result"
    }
   ],
   "source": [
    "df"
   ]
  },
  {
   "cell_type": "code",
   "execution_count": 10,
   "id": "d942f4ef",
   "metadata": {},
   "outputs": [],
   "source": [
    "#4 analysis of education of customers who are with bank and left bank"
   ]
  },
  {
   "cell_type": "code",
   "execution_count": 14,
   "id": "25960193",
   "metadata": {},
   "outputs": [],
   "source": [
    "a=df.groupby('Education_Level')['Attrition_Flag'].count()"
   ]
  },
  {
   "cell_type": "code",
   "execution_count": 15,
   "id": "e3ffa8c2",
   "metadata": {},
   "outputs": [
    {
     "data": {
      "text/plain": [
       "Education_Level\n",
       "College          1013\n",
       "Doctorate         451\n",
       "Graduate         3128\n",
       "High School      2013\n",
       "Post-Graduate     516\n",
       "Uneducated       1487\n",
       "Unknown          1519\n",
       "Name: Attrition_Flag, dtype: int64"
      ]
     },
     "execution_count": 15,
     "metadata": {},
     "output_type": "execute_result"
    }
   ],
   "source": [
    "a"
   ]
  },
  {
   "cell_type": "code",
   "execution_count": 22,
   "id": "b1c4005d",
   "metadata": {},
   "outputs": [
    {
     "data": {
      "text/plain": [
       "0"
      ]
     },
     "execution_count": 22,
     "metadata": {},
     "output_type": "execute_result"
    }
   ],
   "source": [
    "df['Attrition_Flag'].isnull().sum()"
   ]
  },
  {
   "cell_type": "code",
   "execution_count": 23,
   "id": "04567e1b",
   "metadata": {},
   "outputs": [
    {
     "data": {
      "text/plain": [
       "0"
      ]
     },
     "execution_count": 23,
     "metadata": {},
     "output_type": "execute_result"
    }
   ],
   "source": [
    "df['Education_Level'].isnull().sum()"
   ]
  },
  {
   "cell_type": "code",
   "execution_count": 31,
   "id": "e8570208",
   "metadata": {},
   "outputs": [],
   "source": [
    "A=pd.crosstab(df.Education_Level,df.Attrition_Flag)"
   ]
  },
  {
   "cell_type": "code",
   "execution_count": 32,
   "id": "37cf3c0b",
   "metadata": {},
   "outputs": [
    {
     "data": {
      "text/html": [
       "<div>\n",
       "<style scoped>\n",
       "    .dataframe tbody tr th:only-of-type {\n",
       "        vertical-align: middle;\n",
       "    }\n",
       "\n",
       "    .dataframe tbody tr th {\n",
       "        vertical-align: top;\n",
       "    }\n",
       "\n",
       "    .dataframe thead th {\n",
       "        text-align: right;\n",
       "    }\n",
       "</style>\n",
       "<table border=\"1\" class=\"dataframe\">\n",
       "  <thead>\n",
       "    <tr style=\"text-align: right;\">\n",
       "      <th>Attrition_Flag</th>\n",
       "      <th>Attrited Customer</th>\n",
       "      <th>Existing Customer</th>\n",
       "    </tr>\n",
       "    <tr>\n",
       "      <th>Education_Level</th>\n",
       "      <th></th>\n",
       "      <th></th>\n",
       "    </tr>\n",
       "  </thead>\n",
       "  <tbody>\n",
       "    <tr>\n",
       "      <th>College</th>\n",
       "      <td>154</td>\n",
       "      <td>859</td>\n",
       "    </tr>\n",
       "    <tr>\n",
       "      <th>Doctorate</th>\n",
       "      <td>95</td>\n",
       "      <td>356</td>\n",
       "    </tr>\n",
       "    <tr>\n",
       "      <th>Graduate</th>\n",
       "      <td>487</td>\n",
       "      <td>2641</td>\n",
       "    </tr>\n",
       "    <tr>\n",
       "      <th>High School</th>\n",
       "      <td>306</td>\n",
       "      <td>1707</td>\n",
       "    </tr>\n",
       "    <tr>\n",
       "      <th>Post-Graduate</th>\n",
       "      <td>92</td>\n",
       "      <td>424</td>\n",
       "    </tr>\n",
       "    <tr>\n",
       "      <th>Uneducated</th>\n",
       "      <td>237</td>\n",
       "      <td>1250</td>\n",
       "    </tr>\n",
       "    <tr>\n",
       "      <th>Unknown</th>\n",
       "      <td>256</td>\n",
       "      <td>1263</td>\n",
       "    </tr>\n",
       "  </tbody>\n",
       "</table>\n",
       "</div>"
      ],
      "text/plain": [
       "Attrition_Flag   Attrited Customer  Existing Customer\n",
       "Education_Level                                      \n",
       "College                        154                859\n",
       "Doctorate                       95                356\n",
       "Graduate                       487               2641\n",
       "High School                    306               1707\n",
       "Post-Graduate                   92                424\n",
       "Uneducated                     237               1250\n",
       "Unknown                        256               1263"
      ]
     },
     "execution_count": 32,
     "metadata": {},
     "output_type": "execute_result"
    }
   ],
   "source": [
    "A"
   ]
  },
  {
   "cell_type": "code",
   "execution_count": 33,
   "id": "2ea16177",
   "metadata": {},
   "outputs": [
    {
     "data": {
      "text/plain": [
       "<AxesSubplot:xlabel='Education_Level'>"
      ]
     },
     "execution_count": 33,
     "metadata": {},
     "output_type": "execute_result"
    },
    {
     "data": {
      "image/png": "[encoded data removed]",
      "text/plain": [
       "<Figure size 432x288 with 1 Axes>"
      ]
     },
     "metadata": {
      "needs_background": "light"
     },
     "output_type": "display_data"
    }
   ],
   "source": [
    "A.plot.bar()"
   ]
  },
  {
   "cell_type": "code",
   "execution_count": 29,
   "id": "9daed700",
   "metadata": {},
   "outputs": [
    {
     "data": {
      "text/plain": [
       "<AxesSubplot:xlabel='Education_Level', ylabel='count'>"
      ]
     },
     "execution_count": 29,
     "metadata": {},
     "output_type": "execute_result"
    },
    {
     "data": {
      "image/png": "[encoded data removed]",
      "text/plain": [
       "<Figure size 576x432 with 1 Axes>"
      ]
     },
     "metadata": {
      "needs_background": "light"
     },
     "output_type": "display_data"
    }
   ],
   "source": [
    "plt.figure(figsize=(8,6))\n",
    "sb.countplot(x='Education_Level',hue='Attrition_Flag',data=df)"
   ]
  },
  {
   "cell_type": "markdown",
   "id": "2505bcad",
   "metadata": {},
   "source": [
    "# Most of the existing customers are graduate and most customers who have left are also graduate \n",
    "#Most customers who are with the bank are either graduate or stdied till high school level"
   ]
  },
  {
   "cell_type": "code",
   "execution_count": 40,
   "id": "0d43bf0e",
   "metadata": {},
   "outputs": [],
   "source": [
    "#5Analysis of transaction amount(Mean,median,mode) of customers who are existing and not existing"
   ]
  },
  {
   "cell_type": "code",
   "execution_count": null,
   "id": "c9c06529",
   "metadata": {},
   "outputs": [],
   "source": []
  },
  {
   "cell_type": "code",
   "execution_count": 47,
   "id": "daf0247d",
   "metadata": {},
   "outputs": [
    {
     "data": {
      "text/html": [
       "<div>\n",
       "<style scoped>\n",
       "    .dataframe tbody tr th:only-of-type {\n",
       "        vertical-align: middle;\n",
       "    }\n",
       "\n",
       "    .dataframe tbody tr th {\n",
       "        vertical-align: top;\n",
       "    }\n",
       "\n",
       "    .dataframe thead th {\n",
       "        text-align: right;\n",
       "    }\n",
       "</style>\n",
       "<table border=\"1\" class=\"dataframe\">\n",
       "  <thead>\n",
       "    <tr style=\"text-align: right;\">\n",
       "      <th></th>\n",
       "      <th>Total_Trans_Amt</th>\n",
       "      <th>Attrition_Flag</th>\n",
       "    </tr>\n",
       "  </thead>\n",
       "  <tbody>\n",
       "    <tr>\n",
       "      <th>0</th>\n",
       "      <td>1144</td>\n",
       "      <td>Existing Customer</td>\n",
       "    </tr>\n",
       "    <tr>\n",
       "      <th>1</th>\n",
       "      <td>1291</td>\n",
       "      <td>Existing Customer</td>\n",
       "    </tr>\n",
       "    <tr>\n",
       "      <th>2</th>\n",
       "      <td>1887</td>\n",
       "      <td>Existing Customer</td>\n",
       "    </tr>\n",
       "    <tr>\n",
       "      <th>3</th>\n",
       "      <td>1171</td>\n",
       "      <td>Existing Customer</td>\n",
       "    </tr>\n",
       "    <tr>\n",
       "      <th>4</th>\n",
       "      <td>816</td>\n",
       "      <td>Existing Customer</td>\n",
       "    </tr>\n",
       "    <tr>\n",
       "      <th>...</th>\n",
       "      <td>...</td>\n",
       "      <td>...</td>\n",
       "    </tr>\n",
       "    <tr>\n",
       "      <th>10122</th>\n",
       "      <td>15476</td>\n",
       "      <td>Existing Customer</td>\n",
       "    </tr>\n",
       "    <tr>\n",
       "      <th>10123</th>\n",
       "      <td>8764</td>\n",
       "      <td>Attrited Customer</td>\n",
       "    </tr>\n",
       "    <tr>\n",
       "      <th>10124</th>\n",
       "      <td>10291</td>\n",
       "      <td>Attrited Customer</td>\n",
       "    </tr>\n",
       "    <tr>\n",
       "      <th>10125</th>\n",
       "      <td>8395</td>\n",
       "      <td>Attrited Customer</td>\n",
       "    </tr>\n",
       "    <tr>\n",
       "      <th>10126</th>\n",
       "      <td>10294</td>\n",
       "      <td>Attrited Customer</td>\n",
       "    </tr>\n",
       "  </tbody>\n",
       "</table>\n",
       "<p>10127 rows × 2 columns</p>\n",
       "</div>"
      ],
      "text/plain": [
       "       Total_Trans_Amt     Attrition_Flag\n",
       "0                 1144  Existing Customer\n",
       "1                 1291  Existing Customer\n",
       "2                 1887  Existing Customer\n",
       "3                 1171  Existing Customer\n",
       "4                  816  Existing Customer\n",
       "...                ...                ...\n",
       "10122            15476  Existing Customer\n",
       "10123             8764  Attrited Customer\n",
       "10124            10291  Attrited Customer\n",
       "10125             8395  Attrited Customer\n",
       "10126            10294  Attrited Customer\n",
       "\n",
       "[10127 rows x 2 columns]"
      ]
     },
     "execution_count": 47,
     "metadata": {},
     "output_type": "execute_result"
    }
   ],
   "source": [
    "a=df[['Total_Trans_Amt','Attrition_Flag']] \n",
    "a"
   ]
  },
  {
   "cell_type": "code",
   "execution_count": 83,
   "id": "c6f55b48",
   "metadata": {},
   "outputs": [
    {
     "data": {
      "text/html": [
       "<div>\n",
       "<style scoped>\n",
       "    .dataframe tbody tr th:only-of-type {\n",
       "        vertical-align: middle;\n",
       "    }\n",
       "\n",
       "    .dataframe tbody tr th {\n",
       "        vertical-align: top;\n",
       "    }\n",
       "\n",
       "    .dataframe thead th {\n",
       "        text-align: right;\n",
       "    }\n",
       "</style>\n",
       "<table border=\"1\" class=\"dataframe\">\n",
       "  <thead>\n",
       "    <tr style=\"text-align: right;\">\n",
       "      <th></th>\n",
       "      <th>Total_Trans_Amt</th>\n",
       "    </tr>\n",
       "    <tr>\n",
       "      <th>Attrition_Flag</th>\n",
       "      <th></th>\n",
       "    </tr>\n",
       "  </thead>\n",
       "  <tbody>\n",
       "    <tr>\n",
       "      <th>Attrited Customer</th>\n",
       "      <td>3095.025814</td>\n",
       "    </tr>\n",
       "    <tr>\n",
       "      <th>Existing Customer</th>\n",
       "      <td>4654.655882</td>\n",
       "    </tr>\n",
       "  </tbody>\n",
       "</table>\n",
       "</div>"
      ],
      "text/plain": [
       "                   Total_Trans_Amt\n",
       "Attrition_Flag                    \n",
       "Attrited Customer      3095.025814\n",
       "Existing Customer      4654.655882"
      ]
     },
     "execution_count": 83,
     "metadata": {},
     "output_type": "execute_result"
    }
   ],
   "source": [
    "k1=pd.pivot_table(a,index='Attrition_Flag',values='Total_Trans_Amt',aggfunc='mean')\n",
    "k1"
   ]
  },
  {
   "cell_type": "code",
   "execution_count": 84,
   "id": "baad238b",
   "metadata": {},
   "outputs": [
    {
     "data": {
      "text/plain": [
       "<AxesSubplot:xlabel='Attrition_Flag'>"
      ]
     },
     "execution_count": 84,
     "metadata": {},
     "output_type": "execute_result"
    },
    {
     "data": {
      "image/png": "[encoded data removed]",
      "text/plain": [
       "<Figure size 432x288 with 1 Axes>"
      ]
     },
     "metadata": {
      "needs_background": "light"
     },
     "output_type": "display_data"
    }
   ],
   "source": [
    "k1.plot.bar()"
   ]
  },
  {
   "cell_type": "code",
   "execution_count": 85,
   "id": "ad6ce5aa",
   "metadata": {},
   "outputs": [
    {
     "data": {
      "text/html": [
       "<div>\n",
       "<style scoped>\n",
       "    .dataframe tbody tr th:only-of-type {\n",
       "        vertical-align: middle;\n",
       "    }\n",
       "\n",
       "    .dataframe tbody tr th {\n",
       "        vertical-align: top;\n",
       "    }\n",
       "\n",
       "    .dataframe thead th {\n",
       "        text-align: right;\n",
       "    }\n",
       "</style>\n",
       "<table border=\"1\" class=\"dataframe\">\n",
       "  <thead>\n",
       "    <tr style=\"text-align: right;\">\n",
       "      <th></th>\n",
       "      <th>Total_Trans_Amt</th>\n",
       "    </tr>\n",
       "    <tr>\n",
       "      <th>Attrition_Flag</th>\n",
       "      <th></th>\n",
       "    </tr>\n",
       "  </thead>\n",
       "  <tbody>\n",
       "    <tr>\n",
       "      <th>Attrited Customer</th>\n",
       "      <td>2329</td>\n",
       "    </tr>\n",
       "    <tr>\n",
       "      <th>Existing Customer</th>\n",
       "      <td>4100</td>\n",
       "    </tr>\n",
       "  </tbody>\n",
       "</table>\n",
       "</div>"
      ],
      "text/plain": [
       "                   Total_Trans_Amt\n",
       "Attrition_Flag                    \n",
       "Attrited Customer             2329\n",
       "Existing Customer             4100"
      ]
     },
     "execution_count": 85,
     "metadata": {},
     "output_type": "execute_result"
    }
   ],
   "source": [
    "k2=pd.pivot_table(a,index='Attrition_Flag',values='Total_Trans_Amt',aggfunc='quantile')\n",
    "k2"
   ]
  },
  {
   "cell_type": "code",
   "execution_count": 86,
   "id": "f052c03f",
   "metadata": {},
   "outputs": [
    {
     "data": {
      "text/plain": [
       "<AxesSubplot:xlabel='Attrition_Flag'>"
      ]
     },
     "execution_count": 86,
     "metadata": {},
     "output_type": "execute_result"
    },
    {
     "data": {
      "image/png": "[encoded data removed]",
      "text/plain": [
       "<Figure size 432x288 with 1 Axes>"
      ]
     },
     "metadata": {
      "needs_background": "light"
     },
     "output_type": "display_data"
    }
   ],
   "source": [
    "k2.plot.bar()"
   ]
  },
  {
   "cell_type": "code",
   "execution_count": 70,
   "id": "8a7b6067",
   "metadata": {},
   "outputs": [
    {
     "data": {
      "text/html": [
       "<div>\n",
       "<style scoped>\n",
       "    .dataframe tbody tr th:only-of-type {\n",
       "        vertical-align: middle;\n",
       "    }\n",
       "\n",
       "    .dataframe tbody tr th {\n",
       "        vertical-align: top;\n",
       "    }\n",
       "\n",
       "    .dataframe thead th {\n",
       "        text-align: right;\n",
       "    }\n",
       "</style>\n",
       "<table border=\"1\" class=\"dataframe\">\n",
       "  <thead>\n",
       "    <tr style=\"text-align: right;\">\n",
       "      <th></th>\n",
       "      <th>Total_Trans_Amt</th>\n",
       "      <th>Attrition_Flag</th>\n",
       "    </tr>\n",
       "  </thead>\n",
       "  <tbody>\n",
       "    <tr>\n",
       "      <th>0</th>\n",
       "      <td>1144</td>\n",
       "      <td>Existing Customer</td>\n",
       "    </tr>\n",
       "    <tr>\n",
       "      <th>1</th>\n",
       "      <td>1291</td>\n",
       "      <td>Existing Customer</td>\n",
       "    </tr>\n",
       "    <tr>\n",
       "      <th>2</th>\n",
       "      <td>1887</td>\n",
       "      <td>Existing Customer</td>\n",
       "    </tr>\n",
       "    <tr>\n",
       "      <th>3</th>\n",
       "      <td>1171</td>\n",
       "      <td>Existing Customer</td>\n",
       "    </tr>\n",
       "    <tr>\n",
       "      <th>4</th>\n",
       "      <td>816</td>\n",
       "      <td>Existing Customer</td>\n",
       "    </tr>\n",
       "    <tr>\n",
       "      <th>...</th>\n",
       "      <td>...</td>\n",
       "      <td>...</td>\n",
       "    </tr>\n",
       "    <tr>\n",
       "      <th>10116</th>\n",
       "      <td>15354</td>\n",
       "      <td>Existing Customer</td>\n",
       "    </tr>\n",
       "    <tr>\n",
       "      <th>10117</th>\n",
       "      <td>17498</td>\n",
       "      <td>Existing Customer</td>\n",
       "    </tr>\n",
       "    <tr>\n",
       "      <th>10120</th>\n",
       "      <td>15577</td>\n",
       "      <td>Existing Customer</td>\n",
       "    </tr>\n",
       "    <tr>\n",
       "      <th>10121</th>\n",
       "      <td>14596</td>\n",
       "      <td>Existing Customer</td>\n",
       "    </tr>\n",
       "    <tr>\n",
       "      <th>10122</th>\n",
       "      <td>15476</td>\n",
       "      <td>Existing Customer</td>\n",
       "    </tr>\n",
       "  </tbody>\n",
       "</table>\n",
       "<p>8500 rows × 2 columns</p>\n",
       "</div>"
      ],
      "text/plain": [
       "       Total_Trans_Amt     Attrition_Flag\n",
       "0                 1144  Existing Customer\n",
       "1                 1291  Existing Customer\n",
       "2                 1887  Existing Customer\n",
       "3                 1171  Existing Customer\n",
       "4                  816  Existing Customer\n",
       "...                ...                ...\n",
       "10116            15354  Existing Customer\n",
       "10117            17498  Existing Customer\n",
       "10120            15577  Existing Customer\n",
       "10121            14596  Existing Customer\n",
       "10122            15476  Existing Customer\n",
       "\n",
       "[8500 rows x 2 columns]"
      ]
     },
     "execution_count": 70,
     "metadata": {},
     "output_type": "execute_result"
    }
   ],
   "source": [
    "a1=a[(a.Attrition_Flag=='Existing Customer')] \n",
    "a1"
   ]
  },
  {
   "cell_type": "code",
   "execution_count": 76,
   "id": "e2ddc693",
   "metadata": {},
   "outputs": [],
   "source": [
    "m1=st.mode(a1['Total_Trans_Amt']) "
   ]
  },
  {
   "cell_type": "code",
   "execution_count": 73,
   "id": "7011502c",
   "metadata": {},
   "outputs": [
    {
     "data": {
      "text/html": [
       "<div>\n",
       "<style scoped>\n",
       "    .dataframe tbody tr th:only-of-type {\n",
       "        vertical-align: middle;\n",
       "    }\n",
       "\n",
       "    .dataframe tbody tr th {\n",
       "        vertical-align: top;\n",
       "    }\n",
       "\n",
       "    .dataframe thead th {\n",
       "        text-align: right;\n",
       "    }\n",
       "</style>\n",
       "<table border=\"1\" class=\"dataframe\">\n",
       "  <thead>\n",
       "    <tr style=\"text-align: right;\">\n",
       "      <th></th>\n",
       "      <th>Total_Trans_Amt</th>\n",
       "      <th>Attrition_Flag</th>\n",
       "    </tr>\n",
       "  </thead>\n",
       "  <tbody>\n",
       "    <tr>\n",
       "      <th>21</th>\n",
       "      <td>692</td>\n",
       "      <td>Attrited Customer</td>\n",
       "    </tr>\n",
       "    <tr>\n",
       "      <th>39</th>\n",
       "      <td>704</td>\n",
       "      <td>Attrited Customer</td>\n",
       "    </tr>\n",
       "    <tr>\n",
       "      <th>51</th>\n",
       "      <td>705</td>\n",
       "      <td>Attrited Customer</td>\n",
       "    </tr>\n",
       "    <tr>\n",
       "      <th>54</th>\n",
       "      <td>602</td>\n",
       "      <td>Attrited Customer</td>\n",
       "    </tr>\n",
       "    <tr>\n",
       "      <th>61</th>\n",
       "      <td>691</td>\n",
       "      <td>Attrited Customer</td>\n",
       "    </tr>\n",
       "    <tr>\n",
       "      <th>...</th>\n",
       "      <td>...</td>\n",
       "      <td>...</td>\n",
       "    </tr>\n",
       "    <tr>\n",
       "      <th>10119</th>\n",
       "      <td>6009</td>\n",
       "      <td>Attrited Customer</td>\n",
       "    </tr>\n",
       "    <tr>\n",
       "      <th>10123</th>\n",
       "      <td>8764</td>\n",
       "      <td>Attrited Customer</td>\n",
       "    </tr>\n",
       "    <tr>\n",
       "      <th>10124</th>\n",
       "      <td>10291</td>\n",
       "      <td>Attrited Customer</td>\n",
       "    </tr>\n",
       "    <tr>\n",
       "      <th>10125</th>\n",
       "      <td>8395</td>\n",
       "      <td>Attrited Customer</td>\n",
       "    </tr>\n",
       "    <tr>\n",
       "      <th>10126</th>\n",
       "      <td>10294</td>\n",
       "      <td>Attrited Customer</td>\n",
       "    </tr>\n",
       "  </tbody>\n",
       "</table>\n",
       "<p>1627 rows × 2 columns</p>\n",
       "</div>"
      ],
      "text/plain": [
       "       Total_Trans_Amt     Attrition_Flag\n",
       "21                 692  Attrited Customer\n",
       "39                 704  Attrited Customer\n",
       "51                 705  Attrited Customer\n",
       "54                 602  Attrited Customer\n",
       "61                 691  Attrited Customer\n",
       "...                ...                ...\n",
       "10119             6009  Attrited Customer\n",
       "10123             8764  Attrited Customer\n",
       "10124            10291  Attrited Customer\n",
       "10125             8395  Attrited Customer\n",
       "10126            10294  Attrited Customer\n",
       "\n",
       "[1627 rows x 2 columns]"
      ]
     },
     "execution_count": 73,
     "metadata": {},
     "output_type": "execute_result"
    }
   ],
   "source": [
    "a2=a[(a.Attrition_Flag=='Attrited Customer')] \n",
    "a2"
   ]
  },
  {
   "cell_type": "code",
   "execution_count": 81,
   "id": "4a96610d",
   "metadata": {},
   "outputs": [
    {
     "data": {
      "text/plain": [
       "2108"
      ]
     },
     "execution_count": 81,
     "metadata": {},
     "output_type": "execute_result"
    }
   ],
   "source": [
    "m2=st.mode(a2['Total_Trans_Amt']) \n"
   ]
  },
  {
   "cell_type": "code",
   "execution_count": 82,
   "id": "893ca5e3",
   "metadata": {},
   "outputs": [
    {
     "name": "stdout",
     "output_type": "stream",
     "text": [
      "mode transaction amount Exiting customers :  4253\n",
      "mode transaction amount attired customers :  2108\n"
     ]
    }
   ],
   "source": [
    "print('mode transaction amount Exiting customers : ',m1)\n",
    "print('mode transaction amount attired customers : ',m2)"
   ]
  },
  {
   "cell_type": "code",
   "execution_count": 96,
   "id": "bc36705b",
   "metadata": {},
   "outputs": [
    {
     "data": {
      "text/plain": [
       "<BarContainer object of 2 artists>"
      ]
     },
     "execution_count": 96,
     "metadata": {},
     "output_type": "execute_result"
    },
    {
     "data": {
      "image/png": "[encoded data removed]",
      "text/plain": [
       "<Figure size 432x288 with 1 Axes>"
      ]
     },
     "metadata": {
      "needs_background": "light"
     },
     "output_type": "display_data"
    }
   ],
   "source": [
    "data={'Attired Customer':m2,'Existing Customer':m1}\n",
    "c1=list(data.keys())\n",
    "c2=list(data.values())\n",
    "plt.bar(c1,c2,color='green',width=0.5)"
   ]
  },
  {
   "cell_type": "markdown",
   "id": "846e3241",
   "metadata": {},
   "source": [
    "# transaction amount for existing customer is greater than attiring customers\n",
    "#mean,median,mode transaction amount for existing customer is greater than \n",
    "#that of mean,median,mode of customers who left the bank\n",
    "#from this we can say those customers who have less transaction amount ie less transaction activity have higher chances of laving the bank"
   ]
  },
  {
   "cell_type": "code",
   "execution_count": 97,
   "id": "ff6ae899",
   "metadata": {},
   "outputs": [],
   "source": [
    "#6 average utilization ratio of existing customers"
   ]
  },
  {
   "cell_type": "code",
   "execution_count": 103,
   "id": "f08e3b55",
   "metadata": {},
   "outputs": [],
   "source": [
    "r=df[['Avg_Utilization_Ratio','Attrition_Flag']] "
   ]
  },
  {
   "cell_type": "code",
   "execution_count": 106,
   "id": "a3f4ba91",
   "metadata": {},
   "outputs": [
    {
     "data": {
      "text/html": [
       "<div>\n",
       "<style scoped>\n",
       "    .dataframe tbody tr th:only-of-type {\n",
       "        vertical-align: middle;\n",
       "    }\n",
       "\n",
       "    .dataframe tbody tr th {\n",
       "        vertical-align: top;\n",
       "    }\n",
       "\n",
       "    .dataframe thead th {\n",
       "        text-align: right;\n",
       "    }\n",
       "</style>\n",
       "<table border=\"1\" class=\"dataframe\">\n",
       "  <thead>\n",
       "    <tr style=\"text-align: right;\">\n",
       "      <th></th>\n",
       "      <th>Avg_Utilization_Ratio</th>\n",
       "    </tr>\n",
       "    <tr>\n",
       "      <th>Attrition_Flag</th>\n",
       "      <th></th>\n",
       "    </tr>\n",
       "  </thead>\n",
       "  <tbody>\n",
       "    <tr>\n",
       "      <th>Attrited Customer</th>\n",
       "      <td>0.162475</td>\n",
       "    </tr>\n",
       "    <tr>\n",
       "      <th>Existing Customer</th>\n",
       "      <td>0.296412</td>\n",
       "    </tr>\n",
       "  </tbody>\n",
       "</table>\n",
       "</div>"
      ],
      "text/plain": [
       "                   Avg_Utilization_Ratio\n",
       "Attrition_Flag                          \n",
       "Attrited Customer               0.162475\n",
       "Existing Customer               0.296412"
      ]
     },
     "execution_count": 106,
     "metadata": {},
     "output_type": "execute_result"
    }
   ],
   "source": [
    "r1=pd.pivot_table(r,index='Attrition_Flag',values='Avg_Utilization_Ratio',aggfunc='mean')\n",
    "r1"
   ]
  },
  {
   "cell_type": "code",
   "execution_count": 110,
   "id": "bf990b3a",
   "metadata": {},
   "outputs": [
    {
     "data": {
      "text/html": [
       "<div>\n",
       "<style scoped>\n",
       "    .dataframe tbody tr th:only-of-type {\n",
       "        vertical-align: middle;\n",
       "    }\n",
       "\n",
       "    .dataframe tbody tr th {\n",
       "        vertical-align: top;\n",
       "    }\n",
       "\n",
       "    .dataframe thead th {\n",
       "        text-align: right;\n",
       "    }\n",
       "</style>\n",
       "<table border=\"1\" class=\"dataframe\">\n",
       "  <thead>\n",
       "    <tr style=\"text-align: right;\">\n",
       "      <th></th>\n",
       "      <th>Avg_Utilization_Ratio</th>\n",
       "    </tr>\n",
       "    <tr>\n",
       "      <th>Attrition_Flag</th>\n",
       "      <th></th>\n",
       "    </tr>\n",
       "  </thead>\n",
       "  <tbody>\n",
       "    <tr>\n",
       "      <th>Attrited Customer</th>\n",
       "      <td>0.000</td>\n",
       "    </tr>\n",
       "    <tr>\n",
       "      <th>Existing Customer</th>\n",
       "      <td>0.211</td>\n",
       "    </tr>\n",
       "  </tbody>\n",
       "</table>\n",
       "</div>"
      ],
      "text/plain": [
       "                   Avg_Utilization_Ratio\n",
       "Attrition_Flag                          \n",
       "Attrited Customer                  0.000\n",
       "Existing Customer                  0.211"
      ]
     },
     "execution_count": 110,
     "metadata": {},
     "output_type": "execute_result"
    }
   ],
   "source": [
    "r2=pd.pivot_table(r,index='Attrition_Flag',values='Avg_Utilization_Ratio',aggfunc='quantile')\n",
    "r2\n"
   ]
  },
  {
   "cell_type": "code",
   "execution_count": 112,
   "id": "82894524",
   "metadata": {},
   "outputs": [
    {
     "data": {
      "text/html": [
       "<div>\n",
       "<style scoped>\n",
       "    .dataframe tbody tr th:only-of-type {\n",
       "        vertical-align: middle;\n",
       "    }\n",
       "\n",
       "    .dataframe tbody tr th {\n",
       "        vertical-align: top;\n",
       "    }\n",
       "\n",
       "    .dataframe thead tr th {\n",
       "        text-align: left;\n",
       "    }\n",
       "\n",
       "    .dataframe thead tr:last-of-type th {\n",
       "        text-align: right;\n",
       "    }\n",
       "</style>\n",
       "<table border=\"1\" class=\"dataframe\">\n",
       "  <thead>\n",
       "    <tr>\n",
       "      <th></th>\n",
       "      <th colspan=\"8\" halign=\"left\">Avg_Utilization_Ratio</th>\n",
       "    </tr>\n",
       "    <tr>\n",
       "      <th></th>\n",
       "      <th>count</th>\n",
       "      <th>mean</th>\n",
       "      <th>std</th>\n",
       "      <th>min</th>\n",
       "      <th>25%</th>\n",
       "      <th>50%</th>\n",
       "      <th>75%</th>\n",
       "      <th>max</th>\n",
       "    </tr>\n",
       "    <tr>\n",
       "      <th>Attrition_Flag</th>\n",
       "      <th></th>\n",
       "      <th></th>\n",
       "      <th></th>\n",
       "      <th></th>\n",
       "      <th></th>\n",
       "      <th></th>\n",
       "      <th></th>\n",
       "      <th></th>\n",
       "    </tr>\n",
       "  </thead>\n",
       "  <tbody>\n",
       "    <tr>\n",
       "      <th>Attrited Customer</th>\n",
       "      <td>1627.0</td>\n",
       "      <td>0.162475</td>\n",
       "      <td>0.264458</td>\n",
       "      <td>0.0</td>\n",
       "      <td>0.000</td>\n",
       "      <td>0.000</td>\n",
       "      <td>0.23100</td>\n",
       "      <td>0.999</td>\n",
       "    </tr>\n",
       "    <tr>\n",
       "      <th>Existing Customer</th>\n",
       "      <td>8500.0</td>\n",
       "      <td>0.296412</td>\n",
       "      <td>0.272568</td>\n",
       "      <td>0.0</td>\n",
       "      <td>0.055</td>\n",
       "      <td>0.211</td>\n",
       "      <td>0.52925</td>\n",
       "      <td>0.994</td>\n",
       "    </tr>\n",
       "  </tbody>\n",
       "</table>\n",
       "</div>"
      ],
      "text/plain": [
       "                  Avg_Utilization_Ratio                                  \\\n",
       "                                  count      mean       std  min    25%   \n",
       "Attrition_Flag                                                            \n",
       "Attrited Customer                1627.0  0.162475  0.264458  0.0  0.000   \n",
       "Existing Customer                8500.0  0.296412  0.272568  0.0  0.055   \n",
       "\n",
       "                                          \n",
       "                     50%      75%    max  \n",
       "Attrition_Flag                            \n",
       "Attrited Customer  0.000  0.23100  0.999  \n",
       "Existing Customer  0.211  0.52925  0.994  "
      ]
     },
     "execution_count": 112,
     "metadata": {},
     "output_type": "execute_result"
    }
   ],
   "source": [
    "r.groupby('Attrition_Flag').describe()"
   ]
  },
  {
   "cell_type": "code",
   "execution_count": 137,
   "id": "e2079560",
   "metadata": {},
   "outputs": [
    {
     "data": {
      "text/plain": [
       "<AxesSubplot:xlabel='Avg_Utilization_Ratio'>"
      ]
     },
     "execution_count": 137,
     "metadata": {},
     "output_type": "execute_result"
    },
    {
     "data": {
      "image/png": "[encoded data removed]",
      "text/plain": [
       "<Figure size 1296x432 with 2 Axes>"
      ]
     },
     "metadata": {
      "needs_background": "light"
     },
     "output_type": "display_data"
    }
   ],
   "source": [
    "df1=df[(df['Attrition_Flag']=='Existing Customer')]\n",
    "fig,ax=plt.subplots(1,2,figsize=(18,6))\n",
    "sb.histplot(x=df1['Avg_Utilization_Ratio'],ax=ax[0],kde=True)\n",
    "sb.boxplot(x=df1['Avg_Utilization_Ratio'],color='y',ax=ax[1])\n",
    "\n",
    "#from the plots we can see  the spread and distribution avg utilization ratio of existing customers\n",
    "\n",
    "# it lies between the range of 0 to 1 and most of them are between 0-0.2"
   ]
  },
  {
   "cell_type": "code",
   "execution_count": null,
   "id": "d401300b",
   "metadata": {},
   "outputs": [],
   "source": [
    "#mean,median avg_utiization_ratio for existing customers is more than that for customers who have left the bank\n",
    "#this shows that avg_utilization_ratio is more for existing customers "
   ]
  },
  {
   "cell_type": "code",
   "execution_count": 117,
   "id": "c06c6352",
   "metadata": {},
   "outputs": [],
   "source": [
    "#3-total transaction amount of existing customers who are high school passouts "
   ]
  },
  {
   "cell_type": "code",
   "execution_count": 126,
   "id": "a2557759",
   "metadata": {},
   "outputs": [
    {
     "data": {
      "text/plain": [
       "array(['High School', 'Graduate', 'Uneducated', 'Unknown', 'College',\n",
       "       'Post-Graduate', 'Doctorate'], dtype=object)"
      ]
     },
     "execution_count": 126,
     "metadata": {},
     "output_type": "execute_result"
    }
   ],
   "source": [
    "df['Education_Level'].unique()"
   ]
  },
  {
   "cell_type": "code",
   "execution_count": 131,
   "id": "1b312683",
   "metadata": {},
   "outputs": [],
   "source": [
    "a=df[['Total_Trans_Amt','Attrition_Flag','Education_Level']] \n",
    "a1=a[(a.Education_Level=='High School') & (a.Attrition_Flag=='Existing Customer')] "
   ]
  },
  {
   "cell_type": "code",
   "execution_count": 133,
   "id": "7b74c4a4",
   "metadata": {},
   "outputs": [
    {
     "data": {
      "text/plain": [
       "<AxesSubplot:xlabel='Total_Trans_Amt', ylabel='Count'>"
      ]
     },
     "execution_count": 133,
     "metadata": {},
     "output_type": "execute_result"
    },
    {
     "data": {
      "image/png": "[encoded data removed]",
      "text/plain": [
       "<Figure size 432x288 with 1 Axes>"
      ]
     },
     "metadata": {
      "needs_background": "light"
     },
     "output_type": "display_data"
    }
   ],
   "source": [
    "sb.histplot(x=a1['Total_Trans_Amt'],bins=120,color='m')"
   ]
  },
  {
   "cell_type": "code",
   "execution_count": null,
   "id": "1eec8b37",
   "metadata": {},
   "outputs": [],
   "source": [
    "sb.histplot(x=a1['Total_Trans_Amt'],bins=120,color='m')"
   ]
  },
  {
   "cell_type": "markdown",
   "id": "7dec7025",
   "metadata": {},
   "source": [
    "# From the graph we can see total transaction amount of high school customers who are existing customers more customers have\n",
    "#transaction amount less than 5000 as compared to rest ofthe customers"
   ]
  },
  {
   "cell_type": "code",
   "execution_count": 133,
   "id": "dea07700",
   "metadata": {},
   "outputs": [],
   "source": [
    "#2-Income_Category of breakdown of customers who are in high school and left in the bank"
   ]
  },
  {
   "cell_type": "code",
   "execution_count": 138,
   "id": "12b305de",
   "metadata": {},
   "outputs": [
    {
     "data": {
      "text/html": [
       "<div>\n",
       "<style scoped>\n",
       "    .dataframe tbody tr th:only-of-type {\n",
       "        vertical-align: middle;\n",
       "    }\n",
       "\n",
       "    .dataframe tbody tr th {\n",
       "        vertical-align: top;\n",
       "    }\n",
       "\n",
       "    .dataframe thead th {\n",
       "        text-align: right;\n",
       "    }\n",
       "</style>\n",
       "<table border=\"1\" class=\"dataframe\">\n",
       "  <thead>\n",
       "    <tr style=\"text-align: right;\">\n",
       "      <th></th>\n",
       "      <th>Income_Category</th>\n",
       "      <th>Attrition_Flag</th>\n",
       "      <th>Education_Level</th>\n",
       "    </tr>\n",
       "  </thead>\n",
       "  <tbody>\n",
       "    <tr>\n",
       "      <th>0</th>\n",
       "      <td>$60K - $80K</td>\n",
       "      <td>Existing Customer</td>\n",
       "      <td>High School</td>\n",
       "    </tr>\n",
       "    <tr>\n",
       "      <th>3</th>\n",
       "      <td>Less than $40K</td>\n",
       "      <td>Existing Customer</td>\n",
       "      <td>High School</td>\n",
       "    </tr>\n",
       "    <tr>\n",
       "      <th>7</th>\n",
       "      <td>$60K - $80K</td>\n",
       "      <td>Existing Customer</td>\n",
       "      <td>High School</td>\n",
       "    </tr>\n",
       "    <tr>\n",
       "      <th>18</th>\n",
       "      <td>$40K - $60K</td>\n",
       "      <td>Existing Customer</td>\n",
       "      <td>High School</td>\n",
       "    </tr>\n",
       "    <tr>\n",
       "      <th>22</th>\n",
       "      <td>$40K - $60K</td>\n",
       "      <td>Existing Customer</td>\n",
       "      <td>High School</td>\n",
       "    </tr>\n",
       "    <tr>\n",
       "      <th>...</th>\n",
       "      <td>...</td>\n",
       "      <td>...</td>\n",
       "      <td>...</td>\n",
       "    </tr>\n",
       "    <tr>\n",
       "      <th>10105</th>\n",
       "      <td>Less than $40K</td>\n",
       "      <td>Attrited Customer</td>\n",
       "      <td>High School</td>\n",
       "    </tr>\n",
       "    <tr>\n",
       "      <th>10109</th>\n",
       "      <td>Less than $40K</td>\n",
       "      <td>Existing Customer</td>\n",
       "      <td>High School</td>\n",
       "    </tr>\n",
       "    <tr>\n",
       "      <th>10113</th>\n",
       "      <td>$60K - $80K</td>\n",
       "      <td>Attrited Customer</td>\n",
       "      <td>High School</td>\n",
       "    </tr>\n",
       "    <tr>\n",
       "      <th>10120</th>\n",
       "      <td>$60K - $80K</td>\n",
       "      <td>Existing Customer</td>\n",
       "      <td>High School</td>\n",
       "    </tr>\n",
       "    <tr>\n",
       "      <th>10124</th>\n",
       "      <td>Less than $40K</td>\n",
       "      <td>Attrited Customer</td>\n",
       "      <td>High School</td>\n",
       "    </tr>\n",
       "  </tbody>\n",
       "</table>\n",
       "<p>2013 rows × 3 columns</p>\n",
       "</div>"
      ],
      "text/plain": [
       "      Income_Category     Attrition_Flag Education_Level\n",
       "0         $60K - $80K  Existing Customer     High School\n",
       "3      Less than $40K  Existing Customer     High School\n",
       "7         $60K - $80K  Existing Customer     High School\n",
       "18        $40K - $60K  Existing Customer     High School\n",
       "22        $40K - $60K  Existing Customer     High School\n",
       "...               ...                ...             ...\n",
       "10105  Less than $40K  Attrited Customer     High School\n",
       "10109  Less than $40K  Existing Customer     High School\n",
       "10113     $60K - $80K  Attrited Customer     High School\n",
       "10120     $60K - $80K  Existing Customer     High School\n",
       "10124  Less than $40K  Attrited Customer     High School\n",
       "\n",
       "[2013 rows x 3 columns]"
      ]
     },
     "execution_count": 138,
     "metadata": {},
     "output_type": "execute_result"
    }
   ],
   "source": [
    "p=df[['Income_Category','Attrition_Flag','Education_Level']] \n",
    "p1=p[(p.Education_Level=='High School')]\n",
    "p1"
   ]
  },
  {
   "cell_type": "code",
   "execution_count": 143,
   "id": "df2c66a6",
   "metadata": {},
   "outputs": [
    {
     "data": {
      "text/html": [
       "<div>\n",
       "<style scoped>\n",
       "    .dataframe tbody tr th:only-of-type {\n",
       "        vertical-align: middle;\n",
       "    }\n",
       "\n",
       "    .dataframe tbody tr th {\n",
       "        vertical-align: top;\n",
       "    }\n",
       "\n",
       "    .dataframe thead th {\n",
       "        text-align: right;\n",
       "    }\n",
       "</style>\n",
       "<table border=\"1\" class=\"dataframe\">\n",
       "  <thead>\n",
       "    <tr style=\"text-align: right;\">\n",
       "      <th>Attrition_Flag</th>\n",
       "      <th>Attrited Customer</th>\n",
       "      <th>Existing Customer</th>\n",
       "    </tr>\n",
       "    <tr>\n",
       "      <th>Income_Category</th>\n",
       "      <th></th>\n",
       "      <th></th>\n",
       "    </tr>\n",
       "  </thead>\n",
       "  <tbody>\n",
       "    <tr>\n",
       "      <th>$120K +</th>\n",
       "      <td>28</td>\n",
       "      <td>119</td>\n",
       "    </tr>\n",
       "    <tr>\n",
       "      <th>$40K - $60K</th>\n",
       "      <td>51</td>\n",
       "      <td>304</td>\n",
       "    </tr>\n",
       "    <tr>\n",
       "      <th>$60K - $80K</th>\n",
       "      <td>42</td>\n",
       "      <td>265</td>\n",
       "    </tr>\n",
       "    <tr>\n",
       "      <th>$80K - $120K</th>\n",
       "      <td>41</td>\n",
       "      <td>267</td>\n",
       "    </tr>\n",
       "    <tr>\n",
       "      <th>Less than $40K</th>\n",
       "      <td>101</td>\n",
       "      <td>570</td>\n",
       "    </tr>\n",
       "    <tr>\n",
       "      <th>Unknown</th>\n",
       "      <td>43</td>\n",
       "      <td>182</td>\n",
       "    </tr>\n",
       "  </tbody>\n",
       "</table>\n",
       "</div>"
      ],
      "text/plain": [
       "Attrition_Flag   Attrited Customer  Existing Customer\n",
       "Income_Category                                      \n",
       "$120K +                         28                119\n",
       "$40K - $60K                     51                304\n",
       "$60K - $80K                     42                265\n",
       "$80K - $120K                    41                267\n",
       "Less than $40K                 101                570\n",
       "Unknown                         43                182"
      ]
     },
     "execution_count": 143,
     "metadata": {},
     "output_type": "execute_result"
    }
   ],
   "source": [
    "p2=pd.crosstab(p1.Income_Category,p1.Attrition_Flag)\n",
    "p2"
   ]
  },
  {
   "cell_type": "code",
   "execution_count": 147,
   "id": "d6feea4a",
   "metadata": {},
   "outputs": [
    {
     "data": {
      "text/plain": [
       "<AxesSubplot:xlabel='Income_Category', ylabel='count'>"
      ]
     },
     "execution_count": 147,
     "metadata": {},
     "output_type": "execute_result"
    },
    {
     "data": {
      "image/png": "[encoded data removed]",
      "text/plain": [
       "<Figure size 576x432 with 1 Axes>"
      ]
     },
     "metadata": {
      "needs_background": "light"
     },
     "output_type": "display_data"
    }
   ],
   "source": [
    "\n",
    "plt.figure(figsize=(8,6))\n",
    "sb.countplot(x='Income_Category',hue='Attrition_Flag',data=p1,palette='hot_r')"
   ]
  },
  {
   "cell_type": "markdown",
   "id": "fcb13337",
   "metadata": {},
   "source": [
    "# This graph shows income wise category breakdown of customers who have are high school passouts and are \n",
    "#with the bank and those who have left the bank \n",
    "#those who have left the bank and are high school pass outs most of them have income less than 40k,and 40k-60k"
   ]
  },
  {
   "cell_type": "code",
   "execution_count": null,
   "id": "69ca94fa",
   "metadata": {},
   "outputs": [],
   "source": []
  },
  {
   "cell_type": "code",
   "execution_count": 148,
   "id": "19cb2bce",
   "metadata": {},
   "outputs": [],
   "source": [
    "#8 analysis of transaction amount for blue cardcustomers who arent in bank and compare with existing customers"
   ]
  },
  {
   "cell_type": "code",
   "execution_count": 55,
   "id": "4fd3ccd3",
   "metadata": {},
   "outputs": [],
   "source": [
    "df1=df[['Total_Trans_Amt','Card_Category','Attrition_Flag']]\n",
    "df2=df1[(df1.Card_Category=='Blue')]"
   ]
  },
  {
   "cell_type": "code",
   "execution_count": 56,
   "id": "13a5ca27",
   "metadata": {},
   "outputs": [
    {
     "data": {
      "text/plain": [
       "Attrition_Flag\n",
       "Attrited Customer     4417283\n",
       "Existing Customer    34956907\n",
       "Name: Total_Trans_Amt, dtype: int64"
      ]
     },
     "execution_count": 56,
     "metadata": {},
     "output_type": "execute_result"
    }
   ],
   "source": [
    "df2.groupby('Attrition_Flag')['Total_Trans_Amt'].sum() "
   ]
  },
  {
   "cell_type": "code",
   "execution_count": 158,
   "id": "9761af2d",
   "metadata": {},
   "outputs": [
    {
     "data": {
      "text/plain": [
       "<AxesSubplot:xlabel='Attrition_Flag'>"
      ]
     },
     "execution_count": 158,
     "metadata": {},
     "output_type": "execute_result"
    },
    {
     "data": {
      "image/png": "[encoded data removed]",
      "text/plain": [
       "<Figure size 432x288 with 1 Axes>"
      ]
     },
     "metadata": {
      "needs_background": "light"
     },
     "output_type": "display_data"
    }
   ],
   "source": [
    "df2.groupby('Attrition_Flag')['Total_Trans_Amt'].sum().plot.bar() "
   ]
  },
  {
   "cell_type": "code",
   "execution_count": 157,
   "id": "a99e3c15",
   "metadata": {},
   "outputs": [
    {
     "data": {
      "text/plain": [
       "<AxesSubplot:ylabel='Total_Trans_Amt'>"
      ]
     },
     "execution_count": 157,
     "metadata": {},
     "output_type": "execute_result"
    },
    {
     "data": {
      "image/png": "[encoded data removed]",
      "text/plain": [
       "<Figure size 576x432 with 1 Axes>"
      ]
     },
     "metadata": {},
     "output_type": "display_data"
    }
   ],
   "source": [
    "\n",
    "plt.figure(figsize=(8,6))\n",
    "df2.groupby('Attrition_Flag')['Total_Trans_Amt'].sum().plot(kind='pie',autopct='%.2f%%') "
   ]
  },
  {
   "cell_type": "code",
   "execution_count": 57,
   "id": "a0655d17",
   "metadata": {},
   "outputs": [
    {
     "data": {
      "text/plain": [
       "Attrition_Flag\n",
       "Attrited Customer    2942.893404\n",
       "Existing Customer    4473.625160\n",
       "Name: Total_Trans_Amt, dtype: float64"
      ]
     },
     "execution_count": 57,
     "metadata": {},
     "output_type": "execute_result"
    }
   ],
   "source": [
    "df2.groupby('Attrition_Flag')['Total_Trans_Amt'].mean() "
   ]
  },
  {
   "cell_type": "code",
   "execution_count": 59,
   "id": "667e84ba",
   "metadata": {},
   "outputs": [
    {
     "data": {
      "text/plain": [
       "<AxesSubplot:xlabel='Attrition_Flag'>"
      ]
     },
     "execution_count": 59,
     "metadata": {},
     "output_type": "execute_result"
    },
    {
     "data": {
      "image/png": "[encoded data removed]",
      "text/plain": [
       "<Figure size 432x288 with 1 Axes>"
      ]
     },
     "metadata": {
      "needs_background": "light"
     },
     "output_type": "display_data"
    }
   ],
   "source": [
    "df2.groupby('Attrition_Flag')['Total_Trans_Amt'].mean().plot.bar() "
   ]
  },
  {
   "cell_type": "code",
   "execution_count": 60,
   "id": "335096c9",
   "metadata": {},
   "outputs": [
    {
     "data": {
      "text/plain": [
       "<AxesSubplot:ylabel='Total_Trans_Amt'>"
      ]
     },
     "execution_count": 60,
     "metadata": {},
     "output_type": "execute_result"
    },
    {
     "data": {
      "image/png": "[encoded data removed]",
      "text/plain": [
       "<Figure size 432x288 with 1 Axes>"
      ]
     },
     "metadata": {},
     "output_type": "display_data"
    }
   ],
   "source": [
    "df2.groupby('Attrition_Flag')['Total_Trans_Amt'].mean().plot(kind='pie',autopct='%.2f%%') "
   ]
  },
  {
   "cell_type": "code",
   "execution_count": 61,
   "id": "6b2bd935",
   "metadata": {},
   "outputs": [
    {
     "data": {
      "text/html": [
       "<div>\n",
       "<style scoped>\n",
       "    .dataframe tbody tr th:only-of-type {\n",
       "        vertical-align: middle;\n",
       "    }\n",
       "\n",
       "    .dataframe tbody tr th {\n",
       "        vertical-align: top;\n",
       "    }\n",
       "\n",
       "    .dataframe thead th {\n",
       "        text-align: right;\n",
       "    }\n",
       "</style>\n",
       "<table border=\"1\" class=\"dataframe\">\n",
       "  <thead>\n",
       "    <tr style=\"text-align: right;\">\n",
       "      <th></th>\n",
       "      <th>count</th>\n",
       "      <th>mean</th>\n",
       "      <th>std</th>\n",
       "      <th>min</th>\n",
       "      <th>25%</th>\n",
       "      <th>50%</th>\n",
       "      <th>75%</th>\n",
       "      <th>max</th>\n",
       "    </tr>\n",
       "    <tr>\n",
       "      <th>Attrition_Flag</th>\n",
       "      <th></th>\n",
       "      <th></th>\n",
       "      <th></th>\n",
       "      <th></th>\n",
       "      <th></th>\n",
       "      <th></th>\n",
       "      <th></th>\n",
       "      <th></th>\n",
       "    </tr>\n",
       "  </thead>\n",
       "  <tbody>\n",
       "    <tr>\n",
       "      <th>Attrited Customer</th>\n",
       "      <td>1501.0</td>\n",
       "      <td>2942.893404</td>\n",
       "      <td>2167.401917</td>\n",
       "      <td>510.0</td>\n",
       "      <td>1893.0</td>\n",
       "      <td>2314.0</td>\n",
       "      <td>2705.00</td>\n",
       "      <td>10583.0</td>\n",
       "    </tr>\n",
       "    <tr>\n",
       "      <th>Existing Customer</th>\n",
       "      <td>7814.0</td>\n",
       "      <td>4473.625160</td>\n",
       "      <td>3302.296779</td>\n",
       "      <td>816.0</td>\n",
       "      <td>2315.0</td>\n",
       "      <td>4087.0</td>\n",
       "      <td>4738.75</td>\n",
       "      <td>18484.0</td>\n",
       "    </tr>\n",
       "  </tbody>\n",
       "</table>\n",
       "</div>"
      ],
      "text/plain": [
       "                    count         mean          std    min     25%     50%  \\\n",
       "Attrition_Flag                                                               \n",
       "Attrited Customer  1501.0  2942.893404  2167.401917  510.0  1893.0  2314.0   \n",
       "Existing Customer  7814.0  4473.625160  3302.296779  816.0  2315.0  4087.0   \n",
       "\n",
       "                       75%      max  \n",
       "Attrition_Flag                       \n",
       "Attrited Customer  2705.00  10583.0  \n",
       "Existing Customer  4738.75  18484.0  "
      ]
     },
     "execution_count": 61,
     "metadata": {},
     "output_type": "execute_result"
    }
   ],
   "source": [
    "df2.groupby('Attrition_Flag')['Total_Trans_Amt'].describe()"
   ]
  },
  {
   "cell_type": "code",
   "execution_count": 69,
   "id": "5b01919a",
   "metadata": {},
   "outputs": [
    {
     "data": {
      "text/plain": [
       "Attrition_Flag\n",
       "Attrited Customer    2314.0\n",
       "Existing Customer    4087.0\n",
       "Name: Total_Trans_Amt, dtype: float64"
      ]
     },
     "execution_count": 69,
     "metadata": {},
     "output_type": "execute_result"
    }
   ],
   "source": [
    "df2.groupby('Attrition_Flag')['Total_Trans_Amt'].quantile()"
   ]
  },
  {
   "cell_type": "code",
   "execution_count": 70,
   "id": "5be912d6",
   "metadata": {},
   "outputs": [
    {
     "data": {
      "text/plain": [
       "<AxesSubplot:ylabel='Total_Trans_Amt'>"
      ]
     },
     "execution_count": 70,
     "metadata": {},
     "output_type": "execute_result"
    },
    {
     "data": {
      "image/png": "[encoded data removed]",
      "text/plain": [
       "<Figure size 432x288 with 1 Axes>"
      ]
     },
     "metadata": {},
     "output_type": "display_data"
    }
   ],
   "source": [
    "df2.groupby('Attrition_Flag')['Total_Trans_Amt'].quantile().plot(kind='pie',autopct='%.2f%%')"
   ]
  },
  {
   "cell_type": "code",
   "execution_count": 68,
   "id": "7e6b77ba",
   "metadata": {},
   "outputs": [
    {
     "name": "stdout",
     "output_type": "stream",
     "text": [
      "Mode transaction amount of attrited customer :  2108\n",
      "Mode transaction amount of existing customer :  4253\n"
     ]
    }
   ],
   "source": [
    "df3=df2[(df2.Attrition_Flag=='Attrited Customer')]\n",
    "df4=df2[(df2.Attrition_Flag=='Existing Customer')]\n",
    "print('Mode transaction amount of attrited customer : ',st.mode(df3['Total_Trans_Amt']))\n",
    "print('Mode transaction amount of existing customer : ',st.mode(df4['Total_Trans_Amt']))\n"
   ]
  },
  {
   "cell_type": "code",
   "execution_count": null,
   "id": "40c2b224",
   "metadata": {},
   "outputs": [],
   "source": []
  },
  {
   "cell_type": "markdown",
   "id": "52f21135",
   "metadata": {},
   "source": [
    "# share of transaction amount of blue card customers are more for existing customers and less for customers who left the bank\n",
    "#mean,median ,mode of transaction amount for blue card customers those who are in the bank are more than those who left the bank"
   ]
  },
  {
   "cell_type": "code",
   "execution_count": 136,
   "id": "3050b5c7",
   "metadata": {},
   "outputs": [
    {
     "data": {
      "text/plain": [
       "<AxesSubplot:xlabel='Income_Category', ylabel='count'>"
      ]
     },
     "execution_count": 136,
     "metadata": {},
     "output_type": "execute_result"
    },
    {
     "data": {
      "image/png": "[encoded data removed]",
      "text/plain": [
       "<Figure size 432x288 with 1 Axes>"
      ]
     },
     "metadata": {
      "needs_background": "light"
     },
     "output_type": "display_data"
    }
   ],
   "source": [
    "#task7-analysis of churned out customers who hold blue card wrt to income\n",
    "df1=df[(df.Card_Category=='Blue') & (df.Attrition_Flag=='Attrited Customer')]\n",
    "sb.countplot(data=df1,x='Income_Category',hue='Attrition_Flag')\n",
    "#from the graph we can say that customers with less than 40k income are most in number for blue carded customer who are churned out"
   ]
  },
  {
   "cell_type": "code",
   "execution_count": null,
   "id": "88a57389",
   "metadata": {},
   "outputs": [],
   "source": [
    "#9-credit limit of blue card customers affecting the churn"
   ]
  },
  {
   "cell_type": "code",
   "execution_count": 165,
   "id": "6a171a52",
   "metadata": {},
   "outputs": [
    {
     "data": {
      "text/html": [
       "<div>\n",
       "<style scoped>\n",
       "    .dataframe tbody tr th:only-of-type {\n",
       "        vertical-align: middle;\n",
       "    }\n",
       "\n",
       "    .dataframe tbody tr th {\n",
       "        vertical-align: top;\n",
       "    }\n",
       "\n",
       "    .dataframe thead th {\n",
       "        text-align: right;\n",
       "    }\n",
       "</style>\n",
       "<table border=\"1\" class=\"dataframe\">\n",
       "  <thead>\n",
       "    <tr style=\"text-align: right;\">\n",
       "      <th></th>\n",
       "      <th>Attrition_Flag</th>\n",
       "      <th>Education_Level</th>\n",
       "    </tr>\n",
       "  </thead>\n",
       "  <tbody>\n",
       "    <tr>\n",
       "      <th>0</th>\n",
       "      <td>Existing Customer</td>\n",
       "      <td>High School</td>\n",
       "    </tr>\n",
       "    <tr>\n",
       "      <th>3</th>\n",
       "      <td>Existing Customer</td>\n",
       "      <td>High School</td>\n",
       "    </tr>\n",
       "    <tr>\n",
       "      <th>7</th>\n",
       "      <td>Existing Customer</td>\n",
       "      <td>High School</td>\n",
       "    </tr>\n",
       "    <tr>\n",
       "      <th>18</th>\n",
       "      <td>Existing Customer</td>\n",
       "      <td>High School</td>\n",
       "    </tr>\n",
       "    <tr>\n",
       "      <th>22</th>\n",
       "      <td>Existing Customer</td>\n",
       "      <td>High School</td>\n",
       "    </tr>\n",
       "    <tr>\n",
       "      <th>...</th>\n",
       "      <td>...</td>\n",
       "      <td>...</td>\n",
       "    </tr>\n",
       "    <tr>\n",
       "      <th>10105</th>\n",
       "      <td>Attrited Customer</td>\n",
       "      <td>High School</td>\n",
       "    </tr>\n",
       "    <tr>\n",
       "      <th>10109</th>\n",
       "      <td>Existing Customer</td>\n",
       "      <td>High School</td>\n",
       "    </tr>\n",
       "    <tr>\n",
       "      <th>10113</th>\n",
       "      <td>Attrited Customer</td>\n",
       "      <td>High School</td>\n",
       "    </tr>\n",
       "    <tr>\n",
       "      <th>10120</th>\n",
       "      <td>Existing Customer</td>\n",
       "      <td>High School</td>\n",
       "    </tr>\n",
       "    <tr>\n",
       "      <th>10124</th>\n",
       "      <td>Attrited Customer</td>\n",
       "      <td>High School</td>\n",
       "    </tr>\n",
       "  </tbody>\n",
       "</table>\n",
       "<p>2013 rows × 2 columns</p>\n",
       "</div>"
      ],
      "text/plain": [
       "          Attrition_Flag Education_Level\n",
       "0      Existing Customer     High School\n",
       "3      Existing Customer     High School\n",
       "7      Existing Customer     High School\n",
       "18     Existing Customer     High School\n",
       "22     Existing Customer     High School\n",
       "...                  ...             ...\n",
       "10105  Attrited Customer     High School\n",
       "10109  Existing Customer     High School\n",
       "10113  Attrited Customer     High School\n",
       "10120  Existing Customer     High School\n",
       "10124  Attrited Customer     High School\n",
       "\n",
       "[2013 rows x 2 columns]"
      ]
     },
     "execution_count": 165,
     "metadata": {},
     "output_type": "execute_result"
    }
   ],
   "source": [
    "d=df[['Attrition_Flag','Education_Level']]\n",
    "d1=d[d.Education_Level=='High School']\n",
    "d1"
   ]
  },
  {
   "cell_type": "code",
   "execution_count": 166,
   "id": "3d109a1e",
   "metadata": {},
   "outputs": [
    {
     "data": {
      "text/plain": [
       "Attrition_Flag\n",
       "Attrited Customer     306\n",
       "Existing Customer    1707\n",
       "Name: Education_Level, dtype: int64"
      ]
     },
     "execution_count": 166,
     "metadata": {},
     "output_type": "execute_result"
    }
   ],
   "source": [
    "d1.groupby('Attrition_Flag')['Education_Level'].count()"
   ]
  },
  {
   "cell_type": "code",
   "execution_count": 167,
   "id": "c0e66cb9",
   "metadata": {},
   "outputs": [
    {
     "data": {
      "text/plain": [
       "<AxesSubplot:xlabel='Attrition_Flag'>"
      ]
     },
     "execution_count": 167,
     "metadata": {},
     "output_type": "execute_result"
    },
    {
     "data": {
      "image/png": "[encoded data removed]",
      "text/plain": [
       "<Figure size 432x288 with 1 Axes>"
      ]
     },
     "metadata": {
      "needs_background": "light"
     },
     "output_type": "display_data"
    }
   ],
   "source": [
    "d1.groupby('Attrition_Flag')['Education_Level'].count().plot.bar()"
   ]
  },
  {
   "cell_type": "code",
   "execution_count": 172,
   "id": "35db1d29",
   "metadata": {},
   "outputs": [],
   "source": [
    "df1=df[['Card_Category','Attrition_Flag','Credit_Limit']]\n",
    "df2=df1[(df1.Card_Category=='Blue')]"
   ]
  },
  {
   "cell_type": "code",
   "execution_count": 174,
   "id": "38728473",
   "metadata": {},
   "outputs": [
    {
     "data": {
      "text/plain": [
       "Attrition_Flag\n",
       "Attrited Customer    10287100.6\n",
       "Existing Customer    58604969.5\n",
       "Name: Credit_Limit, dtype: float64"
      ]
     },
     "execution_count": 174,
     "metadata": {},
     "output_type": "execute_result"
    }
   ],
   "source": [
    "df2.groupby('Attrition_Flag')['Credit_Limit'].sum()"
   ]
  },
  {
   "cell_type": "code",
   "execution_count": 175,
   "id": "4975169c",
   "metadata": {},
   "outputs": [
    {
     "data": {
      "text/plain": [
       "<AxesSubplot:ylabel='Credit_Limit'>"
      ]
     },
     "execution_count": 175,
     "metadata": {},
     "output_type": "execute_result"
    },
    {
     "data": {
      "image/png": "[encoded data removed]",
      "text/plain": [
       "<Figure size 432x288 with 1 Axes>"
      ]
     },
     "metadata": {},
     "output_type": "display_data"
    }
   ],
   "source": [
    "df2.groupby('Attrition_Flag')['Credit_Limit'].sum().plot(kind='pie',autopct='%.2f%%') "
   ]
  },
  {
   "cell_type": "code",
   "execution_count": 176,
   "id": "f0f0f0ac",
   "metadata": {},
   "outputs": [
    {
     "data": {
      "text/plain": [
       "<AxesSubplot:xlabel='Attrition_Flag'>"
      ]
     },
     "execution_count": 176,
     "metadata": {},
     "output_type": "execute_result"
    },
    {
     "data": {
      "image/png": "[encoded data removed]",
      "text/plain": [
       "<Figure size 432x288 with 1 Axes>"
      ]
     },
     "metadata": {
      "needs_background": "light"
     },
     "output_type": "display_data"
    }
   ],
   "source": [
    "df2.groupby('Attrition_Flag')['Credit_Limit'].sum().plot.bar()"
   ]
  },
  {
   "cell_type": "markdown",
   "id": "0afbe253",
   "metadata": {},
   "source": [
    "# credit limit of blue card customers are lot more for existing customers and far less for\n",
    "#those customers who have left"
   ]
  },
  {
   "cell_type": "code",
   "execution_count": 177,
   "id": "7b6c1900",
   "metadata": {},
   "outputs": [],
   "source": [
    "#10-Ananlysis of the dependent count wrt customers who have churned out and customers who are still using the services"
   ]
  },
  {
   "cell_type": "code",
   "execution_count": 74,
   "id": "8a9e6792",
   "metadata": {},
   "outputs": [
    {
     "data": {
      "text/plain": [
       "Attrition_Flag\n",
       "Attrited Customer    2.724032\n",
       "Existing Customer    2.799529\n",
       "Name: Dependent_count, dtype: float64"
      ]
     },
     "execution_count": 74,
     "metadata": {},
     "output_type": "execute_result"
    }
   ],
   "source": [
    "df1=df[['Dependent_count','Attrition_Flag']]\n",
    "df1.groupby('Attrition_Flag')['Dependent_count'].mean()"
   ]
  },
  {
   "cell_type": "code",
   "execution_count": 182,
   "id": "29837643",
   "metadata": {},
   "outputs": [
    {
     "data": {
      "text/html": [
       "<div>\n",
       "<style scoped>\n",
       "    .dataframe tbody tr th:only-of-type {\n",
       "        vertical-align: middle;\n",
       "    }\n",
       "\n",
       "    .dataframe tbody tr th {\n",
       "        vertical-align: top;\n",
       "    }\n",
       "\n",
       "    .dataframe thead th {\n",
       "        text-align: right;\n",
       "    }\n",
       "</style>\n",
       "<table border=\"1\" class=\"dataframe\">\n",
       "  <thead>\n",
       "    <tr style=\"text-align: right;\">\n",
       "      <th></th>\n",
       "      <th>count</th>\n",
       "      <th>mean</th>\n",
       "      <th>std</th>\n",
       "      <th>min</th>\n",
       "      <th>25%</th>\n",
       "      <th>50%</th>\n",
       "      <th>75%</th>\n",
       "      <th>max</th>\n",
       "    </tr>\n",
       "    <tr>\n",
       "      <th>Attrition_Flag</th>\n",
       "      <th></th>\n",
       "      <th></th>\n",
       "      <th></th>\n",
       "      <th></th>\n",
       "      <th></th>\n",
       "      <th></th>\n",
       "      <th></th>\n",
       "      <th></th>\n",
       "    </tr>\n",
       "  </thead>\n",
       "  <tbody>\n",
       "    <tr>\n",
       "      <th>Attrited Customer</th>\n",
       "      <td>1627.0</td>\n",
       "      <td>2.724032</td>\n",
       "      <td>5.618734</td>\n",
       "      <td>0.0</td>\n",
       "      <td>2.0</td>\n",
       "      <td>2.0</td>\n",
       "      <td>3.0</td>\n",
       "      <td>142.0</td>\n",
       "    </tr>\n",
       "    <tr>\n",
       "      <th>Existing Customer</th>\n",
       "      <td>8500.0</td>\n",
       "      <td>2.799529</td>\n",
       "      <td>6.631337</td>\n",
       "      <td>0.0</td>\n",
       "      <td>1.0</td>\n",
       "      <td>2.0</td>\n",
       "      <td>3.0</td>\n",
       "      <td>143.0</td>\n",
       "    </tr>\n",
       "  </tbody>\n",
       "</table>\n",
       "</div>"
      ],
      "text/plain": [
       "                    count      mean       std  min  25%  50%  75%    max\n",
       "Attrition_Flag                                                          \n",
       "Attrited Customer  1627.0  2.724032  5.618734  0.0  2.0  2.0  3.0  142.0\n",
       "Existing Customer  8500.0  2.799529  6.631337  0.0  1.0  2.0  3.0  143.0"
      ]
     },
     "execution_count": 182,
     "metadata": {},
     "output_type": "execute_result"
    }
   ],
   "source": [
    "df1.groupby('Attrition_Flag')['Dependent_count'].describe()"
   ]
  },
  {
   "cell_type": "code",
   "execution_count": 183,
   "id": "f32b7bc5",
   "metadata": {},
   "outputs": [
    {
     "data": {
      "text/plain": [
       "<AxesSubplot:ylabel='Dependent_count'>"
      ]
     },
     "execution_count": 183,
     "metadata": {},
     "output_type": "execute_result"
    },
    {
     "data": {
      "image/png": "[encoded data removed]",
      "text/plain": [
       "<Figure size 432x288 with 1 Axes>"
      ]
     },
     "metadata": {},
     "output_type": "display_data"
    }
   ],
   "source": [
    "df1.groupby('Attrition_Flag')['Dependent_count'].mean().plot(kind='pie',autopct='%.2f%%') "
   ]
  },
  {
   "cell_type": "code",
   "execution_count": 76,
   "id": "daff0e35",
   "metadata": {},
   "outputs": [
    {
     "data": {
      "text/plain": [
       "<AxesSubplot:xlabel='Attrition_Flag'>"
      ]
     },
     "execution_count": 76,
     "metadata": {},
     "output_type": "execute_result"
    },
    {
     "data": {
      "image/png": "[encoded data removed]",
      "text/plain": [
       "<Figure size 432x288 with 1 Axes>"
      ]
     },
     "metadata": {
      "needs_background": "light"
     },
     "output_type": "display_data"
    }
   ],
   "source": [
    "a=df1.groupby('Attrition_Flag')['Dependent_count'].mean()\n",
    "a.plot.bar()"
   ]
  },
  {
   "cell_type": "markdown",
   "id": "0d13d878",
   "metadata": {},
   "source": [
    "# dependent counts of customers who are with the bank and those who have left the bank are\n",
    "#approximately same"
   ]
  },
  {
   "cell_type": "code",
   "execution_count": 184,
   "id": "58a6e879",
   "metadata": {},
   "outputs": [],
   "source": [
    "#11-Relation between credit limit and attrition"
   ]
  },
  {
   "cell_type": "code",
   "execution_count": 189,
   "id": "2a740f42",
   "metadata": {},
   "outputs": [
    {
     "data": {
      "text/html": [
       "<div>\n",
       "<style scoped>\n",
       "    .dataframe tbody tr th:only-of-type {\n",
       "        vertical-align: middle;\n",
       "    }\n",
       "\n",
       "    .dataframe tbody tr th {\n",
       "        vertical-align: top;\n",
       "    }\n",
       "\n",
       "    .dataframe thead th {\n",
       "        text-align: right;\n",
       "    }\n",
       "</style>\n",
       "<table border=\"1\" class=\"dataframe\">\n",
       "  <thead>\n",
       "    <tr style=\"text-align: right;\">\n",
       "      <th></th>\n",
       "      <th>Credit_Limit</th>\n",
       "    </tr>\n",
       "    <tr>\n",
       "      <th>Attrition_Flag</th>\n",
       "      <th></th>\n",
       "    </tr>\n",
       "  </thead>\n",
       "  <tbody>\n",
       "    <tr>\n",
       "      <th>Attrited Customer</th>\n",
       "      <td>8231.120198</td>\n",
       "    </tr>\n",
       "    <tr>\n",
       "      <th>Existing Customer</th>\n",
       "      <td>8793.647609</td>\n",
       "    </tr>\n",
       "  </tbody>\n",
       "</table>\n",
       "</div>"
      ],
      "text/plain": [
       "                   Credit_Limit\n",
       "Attrition_Flag                 \n",
       "Attrited Customer   8231.120198\n",
       "Existing Customer   8793.647609"
      ]
     },
     "execution_count": 189,
     "metadata": {},
     "output_type": "execute_result"
    }
   ],
   "source": [
    "c=pd.pivot_table(df,index='Attrition_Flag',values='Credit_Limit',aggfunc='mean')\n",
    "c"
   ]
  },
  {
   "cell_type": "code",
   "execution_count": 191,
   "id": "edbcf468",
   "metadata": {},
   "outputs": [
    {
     "data": {
      "text/plain": [
       "<AxesSubplot:xlabel='Attrition_Flag', ylabel='Credit_Limit'>"
      ]
     },
     "execution_count": 191,
     "metadata": {},
     "output_type": "execute_result"
    },
    {
     "data": {
      "image/png": "[encoded data removed]",
      "text/plain": [
       "<Figure size 432x288 with 1 Axes>"
      ]
     },
     "metadata": {
      "needs_background": "light"
     },
     "output_type": "display_data"
    }
   ],
   "source": [
    "sb.barplot(data=df,x='Attrition_Flag',y='Credit_Limit',estimator=np.mean)"
   ]
  },
  {
   "cell_type": "markdown",
   "id": "2d1d6b64",
   "metadata": {},
   "source": [
    "# From this we can say that credit limit and attrition arent strongly related to each other\n",
    "#credit limit share of existing customers are almost same to that of customers who have left the bank"
   ]
  },
  {
   "cell_type": "code",
   "execution_count": 192,
   "id": "0c2ce0f1",
   "metadata": {},
   "outputs": [],
   "source": [
    "#13-how education level and income category is affecting customer churn"
   ]
  },
  {
   "cell_type": "code",
   "execution_count": 195,
   "id": "5b07f40d",
   "metadata": {},
   "outputs": [
    {
     "data": {
      "text/html": [
       "<div>\n",
       "<style scoped>\n",
       "    .dataframe tbody tr th:only-of-type {\n",
       "        vertical-align: middle;\n",
       "    }\n",
       "\n",
       "    .dataframe tbody tr th {\n",
       "        vertical-align: top;\n",
       "    }\n",
       "\n",
       "    .dataframe thead th {\n",
       "        text-align: right;\n",
       "    }\n",
       "</style>\n",
       "<table border=\"1\" class=\"dataframe\">\n",
       "  <thead>\n",
       "    <tr style=\"text-align: right;\">\n",
       "      <th></th>\n",
       "      <th>Education_Level</th>\n",
       "      <th>Attrition_Flag</th>\n",
       "    </tr>\n",
       "  </thead>\n",
       "  <tbody>\n",
       "    <tr>\n",
       "      <th>0</th>\n",
       "      <td>High School</td>\n",
       "      <td>Existing Customer</td>\n",
       "    </tr>\n",
       "    <tr>\n",
       "      <th>1</th>\n",
       "      <td>Graduate</td>\n",
       "      <td>Existing Customer</td>\n",
       "    </tr>\n",
       "    <tr>\n",
       "      <th>2</th>\n",
       "      <td>Graduate</td>\n",
       "      <td>Existing Customer</td>\n",
       "    </tr>\n",
       "    <tr>\n",
       "      <th>3</th>\n",
       "      <td>High School</td>\n",
       "      <td>Existing Customer</td>\n",
       "    </tr>\n",
       "    <tr>\n",
       "      <th>4</th>\n",
       "      <td>Uneducated</td>\n",
       "      <td>Existing Customer</td>\n",
       "    </tr>\n",
       "    <tr>\n",
       "      <th>...</th>\n",
       "      <td>...</td>\n",
       "      <td>...</td>\n",
       "    </tr>\n",
       "    <tr>\n",
       "      <th>10122</th>\n",
       "      <td>Graduate</td>\n",
       "      <td>Existing Customer</td>\n",
       "    </tr>\n",
       "    <tr>\n",
       "      <th>10123</th>\n",
       "      <td>Unknown</td>\n",
       "      <td>Attrited Customer</td>\n",
       "    </tr>\n",
       "    <tr>\n",
       "      <th>10124</th>\n",
       "      <td>High School</td>\n",
       "      <td>Attrited Customer</td>\n",
       "    </tr>\n",
       "    <tr>\n",
       "      <th>10125</th>\n",
       "      <td>Graduate</td>\n",
       "      <td>Attrited Customer</td>\n",
       "    </tr>\n",
       "    <tr>\n",
       "      <th>10126</th>\n",
       "      <td>Graduate</td>\n",
       "      <td>Attrited Customer</td>\n",
       "    </tr>\n",
       "  </tbody>\n",
       "</table>\n",
       "<p>10127 rows × 2 columns</p>\n",
       "</div>"
      ],
      "text/plain": [
       "      Education_Level     Attrition_Flag\n",
       "0         High School  Existing Customer\n",
       "1            Graduate  Existing Customer\n",
       "2            Graduate  Existing Customer\n",
       "3         High School  Existing Customer\n",
       "4          Uneducated  Existing Customer\n",
       "...               ...                ...\n",
       "10122        Graduate  Existing Customer\n",
       "10123         Unknown  Attrited Customer\n",
       "10124     High School  Attrited Customer\n",
       "10125        Graduate  Attrited Customer\n",
       "10126        Graduate  Attrited Customer\n",
       "\n",
       "[10127 rows x 2 columns]"
      ]
     },
     "execution_count": 195,
     "metadata": {},
     "output_type": "execute_result"
    }
   ],
   "source": [
    "df1=df[['Education_Level','Attrition_Flag']] \n",
    "df1"
   ]
  },
  {
   "cell_type": "code",
   "execution_count": 201,
   "id": "91b1276c",
   "metadata": {},
   "outputs": [
    {
     "data": {
      "text/html": [
       "<div>\n",
       "<style scoped>\n",
       "    .dataframe tbody tr th:only-of-type {\n",
       "        vertical-align: middle;\n",
       "    }\n",
       "\n",
       "    .dataframe tbody tr th {\n",
       "        vertical-align: top;\n",
       "    }\n",
       "\n",
       "    .dataframe thead th {\n",
       "        text-align: right;\n",
       "    }\n",
       "</style>\n",
       "<table border=\"1\" class=\"dataframe\">\n",
       "  <thead>\n",
       "    <tr style=\"text-align: right;\">\n",
       "      <th>Attrition_Flag</th>\n",
       "      <th>Attrited Customer</th>\n",
       "      <th>Existing Customer</th>\n",
       "    </tr>\n",
       "    <tr>\n",
       "      <th>Education_Level</th>\n",
       "      <th></th>\n",
       "      <th></th>\n",
       "    </tr>\n",
       "  </thead>\n",
       "  <tbody>\n",
       "    <tr>\n",
       "      <th>College</th>\n",
       "      <td>141</td>\n",
       "      <td>784</td>\n",
       "    </tr>\n",
       "    <tr>\n",
       "      <th>Doctorate</th>\n",
       "      <td>90</td>\n",
       "      <td>326</td>\n",
       "    </tr>\n",
       "    <tr>\n",
       "      <th>Graduate</th>\n",
       "      <td>446</td>\n",
       "      <td>2421</td>\n",
       "    </tr>\n",
       "    <tr>\n",
       "      <th>High School</th>\n",
       "      <td>284</td>\n",
       "      <td>1587</td>\n",
       "    </tr>\n",
       "    <tr>\n",
       "      <th>Post-Graduate</th>\n",
       "      <td>82</td>\n",
       "      <td>385</td>\n",
       "    </tr>\n",
       "    <tr>\n",
       "      <th>Uneducated</th>\n",
       "      <td>218</td>\n",
       "      <td>1153</td>\n",
       "    </tr>\n",
       "    <tr>\n",
       "      <th>Unknown</th>\n",
       "      <td>240</td>\n",
       "      <td>1158</td>\n",
       "    </tr>\n",
       "  </tbody>\n",
       "</table>\n",
       "</div>"
      ],
      "text/plain": [
       "Attrition_Flag   Attrited Customer  Existing Customer\n",
       "Education_Level                                      \n",
       "College                        141                784\n",
       "Doctorate                       90                326\n",
       "Graduate                       446               2421\n",
       "High School                    284               1587\n",
       "Post-Graduate                   82                385\n",
       "Uneducated                     218               1153\n",
       "Unknown                        240               1158"
      ]
     },
     "execution_count": 201,
     "metadata": {},
     "output_type": "execute_result"
    }
   ],
   "source": [
    "pd.crosstab(df1.Education_Level,df2.Attrition_Flag)"
   ]
  },
  {
   "cell_type": "code",
   "execution_count": 203,
   "id": "5903289b",
   "metadata": {},
   "outputs": [
    {
     "data": {
      "text/plain": [
       "<AxesSubplot:xlabel='Education_Level'>"
      ]
     },
     "execution_count": 203,
     "metadata": {},
     "output_type": "execute_result"
    },
    {
     "data": {
      "image/png": "[encoded data removed]",
      "text/plain": [
       "<Figure size 432x288 with 1 Axes>"
      ]
     },
     "metadata": {
      "needs_background": "light"
     },
     "output_type": "display_data"
    }
   ],
   "source": [
    "pd.crosstab(df1.Education_Level,df2.Attrition_Flag).plot.bar()"
   ]
  },
  {
   "cell_type": "markdown",
   "id": "1fe5f68b",
   "metadata": {},
   "source": [
    "# education level of most customers who are with the bank are graduates,most who left are also graduate\n",
    "#education level of least number of customers with the bank are doctorate,and least num of customers who left are also doctorate\n",
    "#so we can say educatio level doesnt affect customer churn"
   ]
  },
  {
   "cell_type": "code",
   "execution_count": 204,
   "id": "36832d81",
   "metadata": {},
   "outputs": [],
   "source": [
    "#14-identify churned out customer with high income category,high education level, and high credit limit"
   ]
  },
  {
   "cell_type": "code",
   "execution_count": 5,
   "id": "d4b3ca95",
   "metadata": {},
   "outputs": [
    {
     "data": {
      "text/html": [
       "<div>\n",
       "<style scoped>\n",
       "    .dataframe tbody tr th:only-of-type {\n",
       "        vertical-align: middle;\n",
       "    }\n",
       "\n",
       "    .dataframe tbody tr th {\n",
       "        vertical-align: top;\n",
       "    }\n",
       "\n",
       "    .dataframe thead th {\n",
       "        text-align: right;\n",
       "    }\n",
       "</style>\n",
       "<table border=\"1\" class=\"dataframe\">\n",
       "  <thead>\n",
       "    <tr style=\"text-align: right;\">\n",
       "      <th></th>\n",
       "      <th>Attrition_Flag</th>\n",
       "      <th>Income_Category</th>\n",
       "      <th>Education_Level</th>\n",
       "      <th>Credit_Limit</th>\n",
       "    </tr>\n",
       "  </thead>\n",
       "  <tbody>\n",
       "    <tr>\n",
       "      <th>21</th>\n",
       "      <td>Attrited Customer</td>\n",
       "      <td>Less than $40K</td>\n",
       "      <td>Graduate</td>\n",
       "      <td>1438.3</td>\n",
       "    </tr>\n",
       "    <tr>\n",
       "      <th>39</th>\n",
       "      <td>Attrited Customer</td>\n",
       "      <td>Unknown</td>\n",
       "      <td>Doctorate</td>\n",
       "      <td>7882.0</td>\n",
       "    </tr>\n",
       "    <tr>\n",
       "      <th>51</th>\n",
       "      <td>Attrited Customer</td>\n",
       "      <td>Less than $40K</td>\n",
       "      <td>Graduate</td>\n",
       "      <td>1438.3</td>\n",
       "    </tr>\n",
       "    <tr>\n",
       "      <th>54</th>\n",
       "      <td>Attrited Customer</td>\n",
       "      <td>$120K +</td>\n",
       "      <td>Graduate</td>\n",
       "      <td>15769.0</td>\n",
       "    </tr>\n",
       "    <tr>\n",
       "      <th>61</th>\n",
       "      <td>Attrited Customer</td>\n",
       "      <td>$60K - $80K</td>\n",
       "      <td>Graduate</td>\n",
       "      <td>34516.0</td>\n",
       "    </tr>\n",
       "    <tr>\n",
       "      <th>...</th>\n",
       "      <td>...</td>\n",
       "      <td>...</td>\n",
       "      <td>...</td>\n",
       "      <td>...</td>\n",
       "    </tr>\n",
       "    <tr>\n",
       "      <th>10119</th>\n",
       "      <td>Attrited Customer</td>\n",
       "      <td>Unknown</td>\n",
       "      <td>Uneducated</td>\n",
       "      <td>14657.0</td>\n",
       "    </tr>\n",
       "    <tr>\n",
       "      <th>10123</th>\n",
       "      <td>Attrited Customer</td>\n",
       "      <td>$40K - $60K</td>\n",
       "      <td>Unknown</td>\n",
       "      <td>4277.0</td>\n",
       "    </tr>\n",
       "    <tr>\n",
       "      <th>10124</th>\n",
       "      <td>Attrited Customer</td>\n",
       "      <td>Less than $40K</td>\n",
       "      <td>High School</td>\n",
       "      <td>5409.0</td>\n",
       "    </tr>\n",
       "    <tr>\n",
       "      <th>10125</th>\n",
       "      <td>Attrited Customer</td>\n",
       "      <td>$40K - $60K</td>\n",
       "      <td>Graduate</td>\n",
       "      <td>5281.0</td>\n",
       "    </tr>\n",
       "    <tr>\n",
       "      <th>10126</th>\n",
       "      <td>Attrited Customer</td>\n",
       "      <td>Less than $40K</td>\n",
       "      <td>Graduate</td>\n",
       "      <td>10388.0</td>\n",
       "    </tr>\n",
       "  </tbody>\n",
       "</table>\n",
       "<p>1627 rows × 4 columns</p>\n",
       "</div>"
      ],
      "text/plain": [
       "          Attrition_Flag Income_Category Education_Level  Credit_Limit\n",
       "21     Attrited Customer  Less than $40K        Graduate        1438.3\n",
       "39     Attrited Customer         Unknown       Doctorate        7882.0\n",
       "51     Attrited Customer  Less than $40K        Graduate        1438.3\n",
       "54     Attrited Customer         $120K +        Graduate       15769.0\n",
       "61     Attrited Customer     $60K - $80K        Graduate       34516.0\n",
       "...                  ...             ...             ...           ...\n",
       "10119  Attrited Customer         Unknown      Uneducated       14657.0\n",
       "10123  Attrited Customer     $40K - $60K         Unknown        4277.0\n",
       "10124  Attrited Customer  Less than $40K     High School        5409.0\n",
       "10125  Attrited Customer     $40K - $60K        Graduate        5281.0\n",
       "10126  Attrited Customer  Less than $40K        Graduate       10388.0\n",
       "\n",
       "[1627 rows x 4 columns]"
      ]
     },
     "execution_count": 5,
     "metadata": {},
     "output_type": "execute_result"
    }
   ],
   "source": [
    "df1=df[['Attrition_Flag','Income_Category','Education_Level','Credit_Limit']]\n",
    "df2=df1[(df1.Attrition_Flag=='Attrited Customer')]  \n",
    "df2"
   ]
  },
  {
   "cell_type": "code",
   "execution_count": 214,
   "id": "f6cc6db0",
   "metadata": {},
   "outputs": [
    {
     "data": {
      "text/html": [
       "<div>\n",
       "<style scoped>\n",
       "    .dataframe tbody tr th:only-of-type {\n",
       "        vertical-align: middle;\n",
       "    }\n",
       "\n",
       "    .dataframe tbody tr th {\n",
       "        vertical-align: top;\n",
       "    }\n",
       "\n",
       "    .dataframe thead th {\n",
       "        text-align: right;\n",
       "    }\n",
       "</style>\n",
       "<table border=\"1\" class=\"dataframe\">\n",
       "  <thead>\n",
       "    <tr style=\"text-align: right;\">\n",
       "      <th>Education_Level</th>\n",
       "      <th>College</th>\n",
       "      <th>Doctorate</th>\n",
       "      <th>Graduate</th>\n",
       "      <th>High School</th>\n",
       "      <th>Post-Graduate</th>\n",
       "      <th>Uneducated</th>\n",
       "      <th>Unknown</th>\n",
       "    </tr>\n",
       "    <tr>\n",
       "      <th>Attrition_Flag</th>\n",
       "      <th></th>\n",
       "      <th></th>\n",
       "      <th></th>\n",
       "      <th></th>\n",
       "      <th></th>\n",
       "      <th></th>\n",
       "      <th></th>\n",
       "    </tr>\n",
       "  </thead>\n",
       "  <tbody>\n",
       "    <tr>\n",
       "      <th>Attrited Customer</th>\n",
       "      <td>154</td>\n",
       "      <td>95</td>\n",
       "      <td>487</td>\n",
       "      <td>306</td>\n",
       "      <td>92</td>\n",
       "      <td>237</td>\n",
       "      <td>256</td>\n",
       "    </tr>\n",
       "  </tbody>\n",
       "</table>\n",
       "</div>"
      ],
      "text/plain": [
       "Education_Level    College  Doctorate  Graduate  High School  Post-Graduate  \\\n",
       "Attrition_Flag                                                                \n",
       "Attrited Customer      154         95       487          306             92   \n",
       "\n",
       "Education_Level    Uneducated  Unknown  \n",
       "Attrition_Flag                          \n",
       "Attrited Customer         237      256  "
      ]
     },
     "execution_count": 214,
     "metadata": {},
     "output_type": "execute_result"
    }
   ],
   "source": [
    "pd.crosstab(df2.Attrition_Flag,df2.Education_Level)"
   ]
  },
  {
   "cell_type": "code",
   "execution_count": 215,
   "id": "b621442f",
   "metadata": {},
   "outputs": [
    {
     "data": {
      "text/plain": [
       "<AxesSubplot:xlabel='Attrition_Flag'>"
      ]
     },
     "execution_count": 215,
     "metadata": {},
     "output_type": "execute_result"
    },
    {
     "data": {
      "image/png": "[encoded data removed]",
      "text/plain": [
       "<Figure size 432x288 with 1 Axes>"
      ]
     },
     "metadata": {
      "needs_background": "light"
     },
     "output_type": "display_data"
    }
   ],
   "source": [
    "pd.crosstab(df2.Attrition_Flag,df2.Education_Level).plot.bar()"
   ]
  },
  {
   "cell_type": "code",
   "execution_count": null,
   "id": "1270991a",
   "metadata": {},
   "outputs": [],
   "source": [
    "#different categories of education level of churned out customers"
   ]
  },
  {
   "cell_type": "code",
   "execution_count": 226,
   "id": "fd19b73a",
   "metadata": {},
   "outputs": [
    {
     "data": {
      "text/plain": [
       "Income_Category\n",
       "$120K +           126\n",
       "$40K - $60K       271\n",
       "$60K - $80K       189\n",
       "$80K - $120K      242\n",
       "Less than $40K    612\n",
       "Unknown           187\n",
       "Name: Income_Category, dtype: int64"
      ]
     },
     "execution_count": 226,
     "metadata": {},
     "output_type": "execute_result"
    }
   ],
   "source": [
    "a1=df2.groupby('Income_Category')['Income_Category'].count()\n",
    "a1"
   ]
  },
  {
   "cell_type": "code",
   "execution_count": 227,
   "id": "b6557a67",
   "metadata": {},
   "outputs": [
    {
     "data": {
      "text/plain": [
       "Less than $40K    612\n",
       "$40K - $60K       271\n",
       "$80K - $120K      242\n",
       "$60K - $80K       189\n",
       "Unknown           187\n",
       "$120K +           126\n",
       "Name: Income_Category, dtype: int64"
      ]
     },
     "execution_count": 227,
     "metadata": {},
     "output_type": "execute_result"
    }
   ],
   "source": [
    "a2=df2['Income_Category'].value_counts()\n",
    "a2"
   ]
  },
  {
   "cell_type": "code",
   "execution_count": 228,
   "id": "aaa8c66f",
   "metadata": {},
   "outputs": [
    {
     "data": {
      "text/plain": [
       "<AxesSubplot:xlabel='Income_Category'>"
      ]
     },
     "execution_count": 228,
     "metadata": {},
     "output_type": "execute_result"
    },
    {
     "data": {
      "image/png": "[encoded data removed]",
      "text/plain": [
       "<Figure size 432x288 with 1 Axes>"
      ]
     },
     "metadata": {
      "needs_background": "light"
     },
     "output_type": "display_data"
    }
   ],
   "source": [
    "a1.plot.bar()"
   ]
  },
  {
   "cell_type": "code",
   "execution_count": null,
   "id": "e56f5379",
   "metadata": {},
   "outputs": [],
   "source": [
    "#diff distinct income category of customers who are churned out"
   ]
  },
  {
   "cell_type": "code",
   "execution_count": 9,
   "id": "97efa076",
   "metadata": {},
   "outputs": [
    {
     "data": {
      "text/plain": [
       "<AxesSubplot:xlabel='Credit_Limit', ylabel='Count'>"
      ]
     },
     "execution_count": 9,
     "metadata": {},
     "output_type": "execute_result"
    },
    {
     "data": {
      "image/png": "[encoded data removed]",
      "text/plain": [
       "<Figure size 432x288 with 1 Axes>"
      ]
     },
     "metadata": {
      "needs_background": "light"
     },
     "output_type": "display_data"
    }
   ],
   "source": [
    "sb.histplot(data=df2['Credit_Limit'],kde=True,bins=10)"
   ]
  },
  {
   "cell_type": "code",
   "execution_count": 12,
   "id": "db5374ce",
   "metadata": {},
   "outputs": [
    {
     "data": {
      "text/plain": [
       "<AxesSubplot:xlabel='Credit_Limit', ylabel='Density'>"
      ]
     },
     "execution_count": 12,
     "metadata": {},
     "output_type": "execute_result"
    },
    {
     "data": {
      "image/png": "[encoded data removed]",
      "text/plain": [
       "<Figure size 432x288 with 1 Axes>"
      ]
     },
     "metadata": {
      "needs_background": "light"
     },
     "output_type": "display_data"
    }
   ],
   "source": [
    "sb.kdeplot(df2['Credit_Limit'],shade=True,color='g')"
   ]
  },
  {
   "cell_type": "code",
   "execution_count": null,
   "id": "ad8c3ce3",
   "metadata": {},
   "outputs": [],
   "source": [
    "#distribution of credit limit of customers who have churned out"
   ]
  },
  {
   "cell_type": "code",
   "execution_count": null,
   "id": "fda7c74b",
   "metadata": {},
   "outputs": [],
   "source": []
  },
  {
   "cell_type": "code",
   "execution_count": null,
   "id": "7e67ee26",
   "metadata": {},
   "outputs": [],
   "source": [
    "#16-Analysis of martial status and utilization ratio of customers who have left the bank and are in the bank"
   ]
  },
  {
   "cell_type": "code",
   "execution_count": 30,
   "id": "9c711199",
   "metadata": {},
   "outputs": [
    {
     "data": {
      "text/html": [
       "<div>\n",
       "<style scoped>\n",
       "    .dataframe tbody tr th:only-of-type {\n",
       "        vertical-align: middle;\n",
       "    }\n",
       "\n",
       "    .dataframe tbody tr th {\n",
       "        vertical-align: top;\n",
       "    }\n",
       "\n",
       "    .dataframe thead th {\n",
       "        text-align: right;\n",
       "    }\n",
       "</style>\n",
       "<table border=\"1\" class=\"dataframe\">\n",
       "  <thead>\n",
       "    <tr style=\"text-align: right;\">\n",
       "      <th></th>\n",
       "      <th>Marital_Status</th>\n",
       "      <th>Attrition_Flag</th>\n",
       "      <th>Avg_Utilization_Ratio</th>\n",
       "    </tr>\n",
       "  </thead>\n",
       "  <tbody>\n",
       "    <tr>\n",
       "      <th>0</th>\n",
       "      <td>Married</td>\n",
       "      <td>Existing Customer</td>\n",
       "      <td>0.061</td>\n",
       "    </tr>\n",
       "    <tr>\n",
       "      <th>1</th>\n",
       "      <td>Single</td>\n",
       "      <td>Existing Customer</td>\n",
       "      <td>0.105</td>\n",
       "    </tr>\n",
       "    <tr>\n",
       "      <th>2</th>\n",
       "      <td>Married</td>\n",
       "      <td>Existing Customer</td>\n",
       "      <td>0.000</td>\n",
       "    </tr>\n",
       "    <tr>\n",
       "      <th>3</th>\n",
       "      <td>Unknown</td>\n",
       "      <td>Existing Customer</td>\n",
       "      <td>0.760</td>\n",
       "    </tr>\n",
       "    <tr>\n",
       "      <th>4</th>\n",
       "      <td>Married</td>\n",
       "      <td>Existing Customer</td>\n",
       "      <td>0.000</td>\n",
       "    </tr>\n",
       "    <tr>\n",
       "      <th>...</th>\n",
       "      <td>...</td>\n",
       "      <td>...</td>\n",
       "      <td>...</td>\n",
       "    </tr>\n",
       "    <tr>\n",
       "      <th>10122</th>\n",
       "      <td>Single</td>\n",
       "      <td>Existing Customer</td>\n",
       "      <td>0.462</td>\n",
       "    </tr>\n",
       "    <tr>\n",
       "      <th>10123</th>\n",
       "      <td>Divorced</td>\n",
       "      <td>Attrited Customer</td>\n",
       "      <td>0.511</td>\n",
       "    </tr>\n",
       "    <tr>\n",
       "      <th>10124</th>\n",
       "      <td>Married</td>\n",
       "      <td>Attrited Customer</td>\n",
       "      <td>0.000</td>\n",
       "    </tr>\n",
       "    <tr>\n",
       "      <th>10125</th>\n",
       "      <td>Unknown</td>\n",
       "      <td>Attrited Customer</td>\n",
       "      <td>0.000</td>\n",
       "    </tr>\n",
       "    <tr>\n",
       "      <th>10126</th>\n",
       "      <td>Married</td>\n",
       "      <td>Attrited Customer</td>\n",
       "      <td>0.189</td>\n",
       "    </tr>\n",
       "  </tbody>\n",
       "</table>\n",
       "<p>10127 rows × 3 columns</p>\n",
       "</div>"
      ],
      "text/plain": [
       "      Marital_Status     Attrition_Flag  Avg_Utilization_Ratio\n",
       "0            Married  Existing Customer                  0.061\n",
       "1             Single  Existing Customer                  0.105\n",
       "2            Married  Existing Customer                  0.000\n",
       "3            Unknown  Existing Customer                  0.760\n",
       "4            Married  Existing Customer                  0.000\n",
       "...              ...                ...                    ...\n",
       "10122         Single  Existing Customer                  0.462\n",
       "10123       Divorced  Attrited Customer                  0.511\n",
       "10124        Married  Attrited Customer                  0.000\n",
       "10125        Unknown  Attrited Customer                  0.000\n",
       "10126        Married  Attrited Customer                  0.189\n",
       "\n",
       "[10127 rows x 3 columns]"
      ]
     },
     "execution_count": 30,
     "metadata": {},
     "output_type": "execute_result"
    }
   ],
   "source": [
    "df1=df[['Marital_Status','Attrition_Flag','Avg_Utilization_Ratio']]\n",
    "df1"
   ]
  },
  {
   "cell_type": "code",
   "execution_count": 84,
   "id": "ca4ea20a",
   "metadata": {},
   "outputs": [
    {
     "data": {
      "text/html": [
       "<div>\n",
       "<style scoped>\n",
       "    .dataframe tbody tr th:only-of-type {\n",
       "        vertical-align: middle;\n",
       "    }\n",
       "\n",
       "    .dataframe tbody tr th {\n",
       "        vertical-align: top;\n",
       "    }\n",
       "\n",
       "    .dataframe thead th {\n",
       "        text-align: right;\n",
       "    }\n",
       "</style>\n",
       "<table border=\"1\" class=\"dataframe\">\n",
       "  <thead>\n",
       "    <tr style=\"text-align: right;\">\n",
       "      <th>Marital_Status</th>\n",
       "      <th>Divorced</th>\n",
       "      <th>Married</th>\n",
       "      <th>Single</th>\n",
       "      <th>Unknown</th>\n",
       "    </tr>\n",
       "    <tr>\n",
       "      <th>Attrition_Flag</th>\n",
       "      <th></th>\n",
       "      <th></th>\n",
       "      <th></th>\n",
       "      <th></th>\n",
       "    </tr>\n",
       "  </thead>\n",
       "  <tbody>\n",
       "    <tr>\n",
       "      <th>Attrited Customer</th>\n",
       "      <td>121</td>\n",
       "      <td>709</td>\n",
       "      <td>668</td>\n",
       "      <td>129</td>\n",
       "    </tr>\n",
       "    <tr>\n",
       "      <th>Existing Customer</th>\n",
       "      <td>627</td>\n",
       "      <td>3978</td>\n",
       "      <td>3275</td>\n",
       "      <td>620</td>\n",
       "    </tr>\n",
       "  </tbody>\n",
       "</table>\n",
       "</div>"
      ],
      "text/plain": [
       "Marital_Status     Divorced  Married  Single  Unknown\n",
       "Attrition_Flag                                       \n",
       "Attrited Customer       121      709     668      129\n",
       "Existing Customer       627     3978    3275      620"
      ]
     },
     "execution_count": 84,
     "metadata": {},
     "output_type": "execute_result"
    }
   ],
   "source": [
    "pd.crosstab(df.Attrition_Flag,df.Marital_Status)"
   ]
  },
  {
   "cell_type": "code",
   "execution_count": 85,
   "id": "9ed40d05",
   "metadata": {},
   "outputs": [
    {
     "data": {
      "text/plain": [
       "<AxesSubplot:xlabel='Attrition_Flag'>"
      ]
     },
     "execution_count": 85,
     "metadata": {},
     "output_type": "execute_result"
    },
    {
     "data": {
      "image/png": "[encoded data removed]",
      "text/plain": [
       "<Figure size 432x288 with 1 Axes>"
      ]
     },
     "metadata": {
      "needs_background": "light"
     },
     "output_type": "display_data"
    }
   ],
   "source": [
    "pd.crosstab(df.Attrition_Flag,df.Marital_Status).plot.bar()"
   ]
  },
  {
   "cell_type": "code",
   "execution_count": null,
   "id": "020cf603",
   "metadata": {},
   "outputs": [],
   "source": [
    "#out of the existing customers with the bank most are either married or single\n",
    "#out of the customers who have left the bank are either married or single ie most customers who avail the services of the bank\n",
    "#are either married or single"
   ]
  },
  {
   "cell_type": "code",
   "execution_count": 35,
   "id": "229ed0ab",
   "metadata": {},
   "outputs": [
    {
     "data": {
      "text/plain": [
       "<AxesSubplot:title={'center':'Avg_Utilization_Ratio'}, xlabel='Attrition_Flag'>"
      ]
     },
     "execution_count": 35,
     "metadata": {},
     "output_type": "execute_result"
    },
    {
     "data": {
      "image/png": "[encoded data removed]",
      "text/plain": [
       "<Figure size 432x288 with 1 Axes>"
      ]
     },
     "metadata": {
      "needs_background": "light"
     },
     "output_type": "display_data"
    }
   ],
   "source": [
    "df1.boxplot(by='Attrition_Flag',column=['Avg_Utilization_Ratio'])"
   ]
  },
  {
   "cell_type": "code",
   "execution_count": null,
   "id": "d0020843",
   "metadata": {},
   "outputs": [],
   "source": [
    "#avg_utilization ratio has a wider spread for existing customer than those who have left the bank"
   ]
  },
  {
   "cell_type": "code",
   "execution_count": 36,
   "id": "5f5405c7",
   "metadata": {},
   "outputs": [],
   "source": [
    "#17-Is there is any relation between credit limit offered to customers having lower utilization ratio\n",
    "#than those having higher utilization ratio"
   ]
  },
  {
   "cell_type": "code",
   "execution_count": 40,
   "id": "b28dc5ad",
   "metadata": {},
   "outputs": [
    {
     "data": {
      "text/plain": [
       "-0.4758013130823968"
      ]
     },
     "execution_count": 40,
     "metadata": {},
     "output_type": "execute_result"
    }
   ],
   "source": [
    "df['Credit_Limit'].corr(df['Avg_Utilization_Ratio'])"
   ]
  },
  {
   "cell_type": "code",
   "execution_count": 43,
   "id": "7c55b7be",
   "metadata": {},
   "outputs": [
    {
     "data": {
      "text/plain": [
       "<AxesSubplot:xlabel='Avg_Utilization_Ratio', ylabel='Credit_Limit'>"
      ]
     },
     "execution_count": 43,
     "metadata": {},
     "output_type": "execute_result"
    },
    {
     "data": {
      "image/png": "[encoded data removed]",
      "text/plain": [
       "<Figure size 1080x432 with 1 Axes>"
      ]
     },
     "metadata": {
      "needs_background": "light"
     },
     "output_type": "display_data"
    }
   ],
   "source": [
    "plt.figure(figsize=(15,6))\n",
    "sb.regplot(x='Avg_Utilization_Ratio',y='Credit_Limit',data=df)"
   ]
  },
  {
   "cell_type": "code",
   "execution_count": 11,
   "id": "0b7ab794",
   "metadata": {},
   "outputs": [
    {
     "data": {
      "text/plain": [
       "<AxesSubplot:>"
      ]
     },
     "execution_count": 11,
     "metadata": {},
     "output_type": "execute_result"
    },
    {
     "data": {
      "image/png": "[encoded data removed]",
      "text/plain": [
       "<Figure size 1080x576 with 2 Axes>"
      ]
     },
     "metadata": {
      "needs_background": "light"
     },
     "output_type": "display_data"
    }
   ],
   "source": [
    "corr_df=df.corr()\n",
    "plt.figure(figsize=(15,8))\n",
    "sb.heatmap(corr_df,annot=True,fmt='.1f')"
   ]
  },
  {
   "cell_type": "markdown",
   "id": "8701f900",
   "metadata": {},
   "source": [
    "# avg utilization ratio is negatively correalted with credit limit,\n",
    "#from the regression plot,heatmap and correlation coeffiecient we can say this\n",
    "#which means when credit limit increases avg_utilization ratio decreases"
   ]
  },
  {
   "cell_type": "code",
   "execution_count": 89,
   "id": "03dded0c",
   "metadata": {},
   "outputs": [],
   "source": [
    "#1-card category wise analysis of customers who are high school pass outs and churned out"
   ]
  },
  {
   "cell_type": "code",
   "execution_count": 92,
   "id": "cd1ab04c",
   "metadata": {},
   "outputs": [
    {
     "data": {
      "text/html": [
       "<div>\n",
       "<style scoped>\n",
       "    .dataframe tbody tr th:only-of-type {\n",
       "        vertical-align: middle;\n",
       "    }\n",
       "\n",
       "    .dataframe tbody tr th {\n",
       "        vertical-align: top;\n",
       "    }\n",
       "\n",
       "    .dataframe thead th {\n",
       "        text-align: right;\n",
       "    }\n",
       "</style>\n",
       "<table border=\"1\" class=\"dataframe\">\n",
       "  <thead>\n",
       "    <tr style=\"text-align: right;\">\n",
       "      <th></th>\n",
       "      <th>CLIENTNUM</th>\n",
       "      <th>Attrition_Flag</th>\n",
       "      <th>Customer_Age</th>\n",
       "      <th>Gender</th>\n",
       "      <th>Dependent_count</th>\n",
       "      <th>Education_Level</th>\n",
       "      <th>Marital_Status</th>\n",
       "      <th>Income_Category</th>\n",
       "      <th>Card_Category</th>\n",
       "      <th>Months_on_book</th>\n",
       "      <th>Total_Relationship_Count</th>\n",
       "      <th>Months_Inactive_12_mon</th>\n",
       "      <th>Contacts_Count_12_mon</th>\n",
       "      <th>Credit_Limit</th>\n",
       "      <th>Total_Revolving_Bal</th>\n",
       "      <th>Avg_Open_To_Buy</th>\n",
       "      <th>Total_Trans_Amt</th>\n",
       "      <th>Total_Trans_Ct</th>\n",
       "      <th>Avg_Utilization_Ratio</th>\n",
       "    </tr>\n",
       "  </thead>\n",
       "  <tbody>\n",
       "    <tr>\n",
       "      <th>140</th>\n",
       "      <td>789322833</td>\n",
       "      <td>Attrited Customer</td>\n",
       "      <td>48</td>\n",
       "      <td>F</td>\n",
       "      <td>5</td>\n",
       "      <td>High School</td>\n",
       "      <td>Married</td>\n",
       "      <td>Less than $40K</td>\n",
       "      <td>Blue</td>\n",
       "      <td>38</td>\n",
       "      <td>1</td>\n",
       "      <td>3</td>\n",
       "      <td>3</td>\n",
       "      <td>8025.0</td>\n",
       "      <td>0</td>\n",
       "      <td>8025.0</td>\n",
       "      <td>673</td>\n",
       "      <td>18</td>\n",
       "      <td>0.000</td>\n",
       "    </tr>\n",
       "    <tr>\n",
       "      <th>198</th>\n",
       "      <td>708868233</td>\n",
       "      <td>Attrited Customer</td>\n",
       "      <td>213</td>\n",
       "      <td>M</td>\n",
       "      <td>0</td>\n",
       "      <td>High School</td>\n",
       "      <td>Married</td>\n",
       "      <td>Less than $40K</td>\n",
       "      <td>Blue</td>\n",
       "      <td>52</td>\n",
       "      <td>1</td>\n",
       "      <td>3</td>\n",
       "      <td>2</td>\n",
       "      <td>1438.3</td>\n",
       "      <td>900</td>\n",
       "      <td>538.3</td>\n",
       "      <td>760</td>\n",
       "      <td>21</td>\n",
       "      <td>0.626</td>\n",
       "    </tr>\n",
       "    <tr>\n",
       "      <th>247</th>\n",
       "      <td>712125258</td>\n",
       "      <td>Attrited Customer</td>\n",
       "      <td>46</td>\n",
       "      <td>M</td>\n",
       "      <td>4</td>\n",
       "      <td>High School</td>\n",
       "      <td>Married</td>\n",
       "      <td>$120K +</td>\n",
       "      <td>Blue</td>\n",
       "      <td>30</td>\n",
       "      <td>3</td>\n",
       "      <td>3</td>\n",
       "      <td>3</td>\n",
       "      <td>2442.0</td>\n",
       "      <td>0</td>\n",
       "      <td>2442.0</td>\n",
       "      <td>701</td>\n",
       "      <td>19</td>\n",
       "      <td>0.000</td>\n",
       "    </tr>\n",
       "    <tr>\n",
       "      <th>253</th>\n",
       "      <td>772390908</td>\n",
       "      <td>Attrited Customer</td>\n",
       "      <td>59</td>\n",
       "      <td>M</td>\n",
       "      <td>0</td>\n",
       "      <td>High School</td>\n",
       "      <td>Single</td>\n",
       "      <td>$40K - $60K</td>\n",
       "      <td>Blue</td>\n",
       "      <td>48</td>\n",
       "      <td>2</td>\n",
       "      <td>4</td>\n",
       "      <td>3</td>\n",
       "      <td>3616.0</td>\n",
       "      <td>1054</td>\n",
       "      <td>2562.0</td>\n",
       "      <td>687</td>\n",
       "      <td>17</td>\n",
       "      <td>0.291</td>\n",
       "    </tr>\n",
       "    <tr>\n",
       "      <th>268</th>\n",
       "      <td>771809733</td>\n",
       "      <td>Attrited Customer</td>\n",
       "      <td>64</td>\n",
       "      <td>F</td>\n",
       "      <td>0</td>\n",
       "      <td>High School</td>\n",
       "      <td>Married</td>\n",
       "      <td>$40K - $60K</td>\n",
       "      <td>Blue</td>\n",
       "      <td>53</td>\n",
       "      <td>1</td>\n",
       "      <td>3</td>\n",
       "      <td>3</td>\n",
       "      <td>3353.0</td>\n",
       "      <td>0</td>\n",
       "      <td>3353.0</td>\n",
       "      <td>960</td>\n",
       "      <td>18</td>\n",
       "      <td>0.000</td>\n",
       "    </tr>\n",
       "    <tr>\n",
       "      <th>...</th>\n",
       "      <td>...</td>\n",
       "      <td>...</td>\n",
       "      <td>...</td>\n",
       "      <td>...</td>\n",
       "      <td>...</td>\n",
       "      <td>...</td>\n",
       "      <td>...</td>\n",
       "      <td>...</td>\n",
       "      <td>...</td>\n",
       "      <td>...</td>\n",
       "      <td>...</td>\n",
       "      <td>...</td>\n",
       "      <td>...</td>\n",
       "      <td>...</td>\n",
       "      <td>...</td>\n",
       "      <td>...</td>\n",
       "      <td>...</td>\n",
       "      <td>...</td>\n",
       "      <td>...</td>\n",
       "    </tr>\n",
       "    <tr>\n",
       "      <th>10065</th>\n",
       "      <td>709865883</td>\n",
       "      <td>Attrited Customer</td>\n",
       "      <td>38</td>\n",
       "      <td>M</td>\n",
       "      <td>2</td>\n",
       "      <td>High School</td>\n",
       "      <td>Divorced</td>\n",
       "      <td>$60K - $80K</td>\n",
       "      <td>Silver</td>\n",
       "      <td>25</td>\n",
       "      <td>1</td>\n",
       "      <td>2</td>\n",
       "      <td>3</td>\n",
       "      <td>26794.0</td>\n",
       "      <td>821</td>\n",
       "      <td>25973.0</td>\n",
       "      <td>8788</td>\n",
       "      <td>58</td>\n",
       "      <td>0.031</td>\n",
       "    </tr>\n",
       "    <tr>\n",
       "      <th>10103</th>\n",
       "      <td>717185658</td>\n",
       "      <td>Attrited Customer</td>\n",
       "      <td>51</td>\n",
       "      <td>M</td>\n",
       "      <td>1</td>\n",
       "      <td>High School</td>\n",
       "      <td>Married</td>\n",
       "      <td>$80K - $120K</td>\n",
       "      <td>Blue</td>\n",
       "      <td>36</td>\n",
       "      <td>4</td>\n",
       "      <td>3</td>\n",
       "      <td>4</td>\n",
       "      <td>22754.0</td>\n",
       "      <td>0</td>\n",
       "      <td>22754.0</td>\n",
       "      <td>8531</td>\n",
       "      <td>77</td>\n",
       "      <td>0.000</td>\n",
       "    </tr>\n",
       "    <tr>\n",
       "      <th>10105</th>\n",
       "      <td>709646433</td>\n",
       "      <td>Attrited Customer</td>\n",
       "      <td>59</td>\n",
       "      <td>F</td>\n",
       "      <td>1</td>\n",
       "      <td>High School</td>\n",
       "      <td>Married</td>\n",
       "      <td>Less than $40K</td>\n",
       "      <td>Blue</td>\n",
       "      <td>50</td>\n",
       "      <td>1</td>\n",
       "      <td>4</td>\n",
       "      <td>3</td>\n",
       "      <td>5043.0</td>\n",
       "      <td>743</td>\n",
       "      <td>4300.0</td>\n",
       "      <td>10170</td>\n",
       "      <td>66</td>\n",
       "      <td>0.147</td>\n",
       "    </tr>\n",
       "    <tr>\n",
       "      <th>10113</th>\n",
       "      <td>713733633</td>\n",
       "      <td>Attrited Customer</td>\n",
       "      <td>27</td>\n",
       "      <td>M</td>\n",
       "      <td>0</td>\n",
       "      <td>High School</td>\n",
       "      <td>Divorced</td>\n",
       "      <td>$60K - $80K</td>\n",
       "      <td>Blue</td>\n",
       "      <td>36</td>\n",
       "      <td>2</td>\n",
       "      <td>3</td>\n",
       "      <td>2</td>\n",
       "      <td>13303.0</td>\n",
       "      <td>2517</td>\n",
       "      <td>10786.0</td>\n",
       "      <td>10219</td>\n",
       "      <td>85</td>\n",
       "      <td>0.189</td>\n",
       "    </tr>\n",
       "    <tr>\n",
       "      <th>10124</th>\n",
       "      <td>716506083</td>\n",
       "      <td>Attrited Customer</td>\n",
       "      <td>44</td>\n",
       "      <td>F</td>\n",
       "      <td>1</td>\n",
       "      <td>High School</td>\n",
       "      <td>Married</td>\n",
       "      <td>Less than $40K</td>\n",
       "      <td>Blue</td>\n",
       "      <td>36</td>\n",
       "      <td>5</td>\n",
       "      <td>3</td>\n",
       "      <td>4</td>\n",
       "      <td>5409.0</td>\n",
       "      <td>0</td>\n",
       "      <td>5409.0</td>\n",
       "      <td>10291</td>\n",
       "      <td>60</td>\n",
       "      <td>0.000</td>\n",
       "    </tr>\n",
       "  </tbody>\n",
       "</table>\n",
       "<p>306 rows × 19 columns</p>\n",
       "</div>"
      ],
      "text/plain": [
       "       CLIENTNUM     Attrition_Flag  Customer_Age Gender  Dependent_count  \\\n",
       "140    789322833  Attrited Customer            48      F                5   \n",
       "198    708868233  Attrited Customer           213      M                0   \n",
       "247    712125258  Attrited Customer            46      M                4   \n",
       "253    772390908  Attrited Customer            59      M                0   \n",
       "268    771809733  Attrited Customer            64      F                0   \n",
       "...          ...                ...           ...    ...              ...   \n",
       "10065  709865883  Attrited Customer            38      M                2   \n",
       "10103  717185658  Attrited Customer            51      M                1   \n",
       "10105  709646433  Attrited Customer            59      F                1   \n",
       "10113  713733633  Attrited Customer            27      M                0   \n",
       "10124  716506083  Attrited Customer            44      F                1   \n",
       "\n",
       "      Education_Level Marital_Status Income_Category Card_Category  \\\n",
       "140       High School        Married  Less than $40K          Blue   \n",
       "198       High School        Married  Less than $40K          Blue   \n",
       "247       High School        Married         $120K +          Blue   \n",
       "253       High School         Single     $40K - $60K          Blue   \n",
       "268       High School        Married     $40K - $60K          Blue   \n",
       "...               ...            ...             ...           ...   \n",
       "10065     High School       Divorced     $60K - $80K        Silver   \n",
       "10103     High School        Married    $80K - $120K          Blue   \n",
       "10105     High School        Married  Less than $40K          Blue   \n",
       "10113     High School       Divorced     $60K - $80K          Blue   \n",
       "10124     High School        Married  Less than $40K          Blue   \n",
       "\n",
       "       Months_on_book  Total_Relationship_Count  Months_Inactive_12_mon  \\\n",
       "140                38                         1                       3   \n",
       "198                52                         1                       3   \n",
       "247                30                         3                       3   \n",
       "253                48                         2                       4   \n",
       "268                53                         1                       3   \n",
       "...               ...                       ...                     ...   \n",
       "10065              25                         1                       2   \n",
       "10103              36                         4                       3   \n",
       "10105              50                         1                       4   \n",
       "10113              36                         2                       3   \n",
       "10124              36                         5                       3   \n",
       "\n",
       "       Contacts_Count_12_mon  Credit_Limit  Total_Revolving_Bal  \\\n",
       "140                        3        8025.0                    0   \n",
       "198                        2        1438.3                  900   \n",
       "247                        3        2442.0                    0   \n",
       "253                        3        3616.0                 1054   \n",
       "268                        3        3353.0                    0   \n",
       "...                      ...           ...                  ...   \n",
       "10065                      3       26794.0                  821   \n",
       "10103                      4       22754.0                    0   \n",
       "10105                      3        5043.0                  743   \n",
       "10113                      2       13303.0                 2517   \n",
       "10124                      4        5409.0                    0   \n",
       "\n",
       "       Avg_Open_To_Buy  Total_Trans_Amt  Total_Trans_Ct  Avg_Utilization_Ratio  \n",
       "140             8025.0              673              18                  0.000  \n",
       "198              538.3              760              21                  0.626  \n",
       "247             2442.0              701              19                  0.000  \n",
       "253             2562.0              687              17                  0.291  \n",
       "268             3353.0              960              18                  0.000  \n",
       "...                ...              ...             ...                    ...  \n",
       "10065          25973.0             8788              58                  0.031  \n",
       "10103          22754.0             8531              77                  0.000  \n",
       "10105           4300.0            10170              66                  0.147  \n",
       "10113          10786.0            10219              85                  0.189  \n",
       "10124           5409.0            10291              60                  0.000  \n",
       "\n",
       "[306 rows x 19 columns]"
      ]
     },
     "execution_count": 92,
     "metadata": {},
     "output_type": "execute_result"
    }
   ],
   "source": [
    "df1=df[(df.Attrition_Flag=='Attrited Customer') & (df.Education_Level=='High School')]\n",
    "df1"
   ]
  },
  {
   "cell_type": "code",
   "execution_count": 93,
   "id": "b6b28b20",
   "metadata": {},
   "outputs": [
    {
     "data": {
      "text/plain": [
       "Blue      284\n",
       "Silver     15\n",
       "Gold        4\n",
       "Name: Card_Category, dtype: int64"
      ]
     },
     "execution_count": 93,
     "metadata": {},
     "output_type": "execute_result"
    }
   ],
   "source": [
    "df1['Card_Category'].value_counts()"
   ]
  },
  {
   "cell_type": "code",
   "execution_count": 94,
   "id": "eb32cb85",
   "metadata": {},
   "outputs": [
    {
     "data": {
      "text/plain": [
       "<AxesSubplot:>"
      ]
     },
     "execution_count": 94,
     "metadata": {},
     "output_type": "execute_result"
    },
    {
     "data": {
      "image/png": "[encoded data removed]",
      "text/plain": [
       "<Figure size 432x288 with 1 Axes>"
      ]
     },
     "metadata": {
      "needs_background": "light"
     },
     "output_type": "display_data"
    }
   ],
   "source": [
    "df1['Card_Category'].value_counts().plot.bar()"
   ]
  },
  {
   "cell_type": "code",
   "execution_count": 99,
   "id": "77031d98",
   "metadata": {},
   "outputs": [
    {
     "data": {
      "text/plain": [
       "<AxesSubplot:ylabel='Card_Category'>"
      ]
     },
     "execution_count": 99,
     "metadata": {},
     "output_type": "execute_result"
    },
    {
     "data": {
      "image/png": "[encoded data removed]",
      "text/plain": [
       "<Figure size 1080x432 with 1 Axes>"
      ]
     },
     "metadata": {},
     "output_type": "display_data"
    }
   ],
   "source": [
    "plt.figure(figsize=(15,6))\n",
    "df1['Card_Category'].value_counts().plot(kind='pie',autopct='%.2f%%')"
   ]
  },
  {
   "cell_type": "markdown",
   "id": "31a1b794",
   "metadata": {},
   "source": [
    "# customers who are churned out and high school passouts,almost all of them are blue card customers,\n",
    "#silver and gold card customers are almost negligible in number"
   ]
  },
  {
   "cell_type": "code",
   "execution_count": 107,
   "id": "a360f0ad",
   "metadata": {},
   "outputs": [
    {
     "data": {
      "text/html": [
       "<div>\n",
       "<style scoped>\n",
       "    .dataframe tbody tr th:only-of-type {\n",
       "        vertical-align: middle;\n",
       "    }\n",
       "\n",
       "    .dataframe tbody tr th {\n",
       "        vertical-align: top;\n",
       "    }\n",
       "\n",
       "    .dataframe thead th {\n",
       "        text-align: right;\n",
       "    }\n",
       "</style>\n",
       "<table border=\"1\" class=\"dataframe\">\n",
       "  <thead>\n",
       "    <tr style=\"text-align: right;\">\n",
       "      <th></th>\n",
       "      <th>Avg_Utilization_Ratio</th>\n",
       "      <th>Attrition_Flag</th>\n",
       "      <th>Customer_Age</th>\n",
       "    </tr>\n",
       "  </thead>\n",
       "  <tbody>\n",
       "    <tr>\n",
       "      <th>0</th>\n",
       "      <td>0.061</td>\n",
       "      <td>Existing Customer</td>\n",
       "      <td>45</td>\n",
       "    </tr>\n",
       "    <tr>\n",
       "      <th>1</th>\n",
       "      <td>0.105</td>\n",
       "      <td>Existing Customer</td>\n",
       "      <td>49</td>\n",
       "    </tr>\n",
       "    <tr>\n",
       "      <th>2</th>\n",
       "      <td>0.000</td>\n",
       "      <td>Existing Customer</td>\n",
       "      <td>51</td>\n",
       "    </tr>\n",
       "    <tr>\n",
       "      <th>3</th>\n",
       "      <td>0.760</td>\n",
       "      <td>Existing Customer</td>\n",
       "      <td>40</td>\n",
       "    </tr>\n",
       "    <tr>\n",
       "      <th>4</th>\n",
       "      <td>0.000</td>\n",
       "      <td>Existing Customer</td>\n",
       "      <td>40</td>\n",
       "    </tr>\n",
       "    <tr>\n",
       "      <th>...</th>\n",
       "      <td>...</td>\n",
       "      <td>...</td>\n",
       "      <td>...</td>\n",
       "    </tr>\n",
       "    <tr>\n",
       "      <th>10122</th>\n",
       "      <td>0.462</td>\n",
       "      <td>Existing Customer</td>\n",
       "      <td>50</td>\n",
       "    </tr>\n",
       "    <tr>\n",
       "      <th>10123</th>\n",
       "      <td>0.511</td>\n",
       "      <td>Attrited Customer</td>\n",
       "      <td>41</td>\n",
       "    </tr>\n",
       "    <tr>\n",
       "      <th>10124</th>\n",
       "      <td>0.000</td>\n",
       "      <td>Attrited Customer</td>\n",
       "      <td>44</td>\n",
       "    </tr>\n",
       "    <tr>\n",
       "      <th>10125</th>\n",
       "      <td>0.000</td>\n",
       "      <td>Attrited Customer</td>\n",
       "      <td>30</td>\n",
       "    </tr>\n",
       "    <tr>\n",
       "      <th>10126</th>\n",
       "      <td>0.189</td>\n",
       "      <td>Attrited Customer</td>\n",
       "      <td>43</td>\n",
       "    </tr>\n",
       "  </tbody>\n",
       "</table>\n",
       "<p>10127 rows × 3 columns</p>\n",
       "</div>"
      ],
      "text/plain": [
       "       Avg_Utilization_Ratio     Attrition_Flag  Customer_Age\n",
       "0                      0.061  Existing Customer            45\n",
       "1                      0.105  Existing Customer            49\n",
       "2                      0.000  Existing Customer            51\n",
       "3                      0.760  Existing Customer            40\n",
       "4                      0.000  Existing Customer            40\n",
       "...                      ...                ...           ...\n",
       "10122                  0.462  Existing Customer            50\n",
       "10123                  0.511  Attrited Customer            41\n",
       "10124                  0.000  Attrited Customer            44\n",
       "10125                  0.000  Attrited Customer            30\n",
       "10126                  0.189  Attrited Customer            43\n",
       "\n",
       "[10127 rows x 3 columns]"
      ]
     },
     "execution_count": 107,
     "metadata": {},
     "output_type": "execute_result"
    }
   ],
   "source": [
    "df1=df[['Avg_Utilization_Ratio','Attrition_Flag','Customer_Age']]\n",
    "df1"
   ]
  },
  {
   "cell_type": "code",
   "execution_count": 109,
   "id": "a7a836db",
   "metadata": {},
   "outputs": [
    {
     "data": {
      "text/plain": [
       "count    10127.000000\n",
       "mean         0.274894\n",
       "std          0.275691\n",
       "min          0.000000\n",
       "25%          0.023000\n",
       "50%          0.176000\n",
       "75%          0.503000\n",
       "max          0.999000\n",
       "Name: Avg_Utilization_Ratio, dtype: float64"
      ]
     },
     "execution_count": 109,
     "metadata": {},
     "output_type": "execute_result"
    }
   ],
   "source": [
    "df1['Avg_Utilization_Ratio'].describe()\n",
    "#median avg_utilization_ratio=0.176"
   ]
  },
  {
   "cell_type": "code",
   "execution_count": 8,
   "id": "8b1c144e",
   "metadata": {},
   "outputs": [
    {
     "data": {
      "text/plain": [
       "<AxesSubplot:xlabel='Avg_Utilization_Ratio', ylabel='Count'>"
      ]
     },
     "execution_count": 8,
     "metadata": {},
     "output_type": "execute_result"
    },
    {
     "data": {
      "image/png": "[encoded data removed]",
      "text/plain": [
       "<Figure size 1080x432 with 1 Axes>"
      ]
     },
     "metadata": {
      "needs_background": "light"
     },
     "output_type": "display_data"
    }
   ],
   "source": [
    "df2=df1[(df1.Avg_Utilization_Ratio<0.075) & (df1.Attrition_Flag=='Attrited Customer')]\n",
    "plt.figure(figsize=(15,6))\n",
    "bins=[0,10,20,30,40,50,60,70,80]\n",
    "d=pd.cut(df['Customer_Age'],bins=bins)\n",
    "sb.histplot(x=df2['Avg_Utilization_Ratio'],hue=d)"
   ]
  },
  {
   "cell_type": "markdown",
   "id": "6d96af0d",
   "metadata": {},
   "source": [
    "# from this graph we can see if utilization ratio is less then attrition of customers is more\n",
    "#thus we can say lower the utilization ratio higher is the chances for the customer to leave\n",
    " "
   ]
  },
  {
   "cell_type": "code",
   "execution_count": 117,
   "id": "ec0cfc98",
   "metadata": {},
   "outputs": [],
   "source": [
    "#12-avg utilization ratio of credit card  for each subgroup between 40 and 50"
   ]
  },
  {
   "cell_type": "code",
   "execution_count": 5,
   "id": "b0997b5e",
   "metadata": {},
   "outputs": [
    {
     "data": {
      "text/html": [
       "<div>\n",
       "<style scoped>\n",
       "    .dataframe tbody tr th:only-of-type {\n",
       "        vertical-align: middle;\n",
       "    }\n",
       "\n",
       "    .dataframe tbody tr th {\n",
       "        vertical-align: top;\n",
       "    }\n",
       "\n",
       "    .dataframe thead th {\n",
       "        text-align: right;\n",
       "    }\n",
       "</style>\n",
       "<table border=\"1\" class=\"dataframe\">\n",
       "  <thead>\n",
       "    <tr style=\"text-align: right;\">\n",
       "      <th></th>\n",
       "      <th>CLIENTNUM</th>\n",
       "      <th>Attrition_Flag</th>\n",
       "      <th>Customer_Age</th>\n",
       "      <th>Gender</th>\n",
       "      <th>Dependent_count</th>\n",
       "      <th>Education_Level</th>\n",
       "      <th>Marital_Status</th>\n",
       "      <th>Income_Category</th>\n",
       "      <th>Card_Category</th>\n",
       "      <th>Months_on_book</th>\n",
       "      <th>Total_Relationship_Count</th>\n",
       "      <th>Months_Inactive_12_mon</th>\n",
       "      <th>Contacts_Count_12_mon</th>\n",
       "      <th>Credit_Limit</th>\n",
       "      <th>Total_Revolving_Bal</th>\n",
       "      <th>Avg_Open_To_Buy</th>\n",
       "      <th>Total_Trans_Amt</th>\n",
       "      <th>Total_Trans_Ct</th>\n",
       "      <th>Avg_Utilization_Ratio</th>\n",
       "    </tr>\n",
       "  </thead>\n",
       "  <tbody>\n",
       "    <tr>\n",
       "      <th>0</th>\n",
       "      <td>768805383</td>\n",
       "      <td>Existing Customer</td>\n",
       "      <td>45</td>\n",
       "      <td>M</td>\n",
       "      <td>3</td>\n",
       "      <td>High School</td>\n",
       "      <td>Married</td>\n",
       "      <td>$60K - $80K</td>\n",
       "      <td>Blue</td>\n",
       "      <td>39</td>\n",
       "      <td>5</td>\n",
       "      <td>1</td>\n",
       "      <td>3</td>\n",
       "      <td>12691.0</td>\n",
       "      <td>777</td>\n",
       "      <td>11914.0</td>\n",
       "      <td>1144</td>\n",
       "      <td>42</td>\n",
       "      <td>0.061</td>\n",
       "    </tr>\n",
       "    <tr>\n",
       "      <th>1</th>\n",
       "      <td>818770008</td>\n",
       "      <td>Existing Customer</td>\n",
       "      <td>49</td>\n",
       "      <td>F</td>\n",
       "      <td>5</td>\n",
       "      <td>Graduate</td>\n",
       "      <td>Single</td>\n",
       "      <td>Less than $40K</td>\n",
       "      <td>Blue</td>\n",
       "      <td>44</td>\n",
       "      <td>6</td>\n",
       "      <td>1</td>\n",
       "      <td>2</td>\n",
       "      <td>8256.0</td>\n",
       "      <td>864</td>\n",
       "      <td>7392.0</td>\n",
       "      <td>1291</td>\n",
       "      <td>33</td>\n",
       "      <td>0.105</td>\n",
       "    </tr>\n",
       "    <tr>\n",
       "      <th>3</th>\n",
       "      <td>769911858</td>\n",
       "      <td>Existing Customer</td>\n",
       "      <td>40</td>\n",
       "      <td>F</td>\n",
       "      <td>4</td>\n",
       "      <td>High School</td>\n",
       "      <td>Unknown</td>\n",
       "      <td>Less than $40K</td>\n",
       "      <td>Blue</td>\n",
       "      <td>34</td>\n",
       "      <td>3</td>\n",
       "      <td>4</td>\n",
       "      <td>1</td>\n",
       "      <td>3313.0</td>\n",
       "      <td>2517</td>\n",
       "      <td>796.0</td>\n",
       "      <td>1171</td>\n",
       "      <td>20</td>\n",
       "      <td>0.760</td>\n",
       "    </tr>\n",
       "    <tr>\n",
       "      <th>4</th>\n",
       "      <td>709106358</td>\n",
       "      <td>Existing Customer</td>\n",
       "      <td>40</td>\n",
       "      <td>M</td>\n",
       "      <td>3</td>\n",
       "      <td>Uneducated</td>\n",
       "      <td>Married</td>\n",
       "      <td>$60K - $80K</td>\n",
       "      <td>Blue</td>\n",
       "      <td>21</td>\n",
       "      <td>5</td>\n",
       "      <td>1</td>\n",
       "      <td>0</td>\n",
       "      <td>4716.0</td>\n",
       "      <td>0</td>\n",
       "      <td>4716.0</td>\n",
       "      <td>816</td>\n",
       "      <td>28</td>\n",
       "      <td>0.000</td>\n",
       "    </tr>\n",
       "    <tr>\n",
       "      <th>5</th>\n",
       "      <td>713061558</td>\n",
       "      <td>Existing Customer</td>\n",
       "      <td>44</td>\n",
       "      <td>M</td>\n",
       "      <td>2</td>\n",
       "      <td>Graduate</td>\n",
       "      <td>Married</td>\n",
       "      <td>$40K - $60K</td>\n",
       "      <td>Blue</td>\n",
       "      <td>36</td>\n",
       "      <td>3</td>\n",
       "      <td>1</td>\n",
       "      <td>2</td>\n",
       "      <td>4010.0</td>\n",
       "      <td>1247</td>\n",
       "      <td>2763.0</td>\n",
       "      <td>1088</td>\n",
       "      <td>24</td>\n",
       "      <td>0.311</td>\n",
       "    </tr>\n",
       "    <tr>\n",
       "      <th>...</th>\n",
       "      <td>...</td>\n",
       "      <td>...</td>\n",
       "      <td>...</td>\n",
       "      <td>...</td>\n",
       "      <td>...</td>\n",
       "      <td>...</td>\n",
       "      <td>...</td>\n",
       "      <td>...</td>\n",
       "      <td>...</td>\n",
       "      <td>...</td>\n",
       "      <td>...</td>\n",
       "      <td>...</td>\n",
       "      <td>...</td>\n",
       "      <td>...</td>\n",
       "      <td>...</td>\n",
       "      <td>...</td>\n",
       "      <td>...</td>\n",
       "      <td>...</td>\n",
       "      <td>...</td>\n",
       "    </tr>\n",
       "    <tr>\n",
       "      <th>10118</th>\n",
       "      <td>713755458</td>\n",
       "      <td>Attrited Customer</td>\n",
       "      <td>50</td>\n",
       "      <td>M</td>\n",
       "      <td>1</td>\n",
       "      <td>Unknown</td>\n",
       "      <td>Unknown</td>\n",
       "      <td>$80K - $120K</td>\n",
       "      <td>Blue</td>\n",
       "      <td>36</td>\n",
       "      <td>6</td>\n",
       "      <td>3</td>\n",
       "      <td>4</td>\n",
       "      <td>9959.0</td>\n",
       "      <td>952</td>\n",
       "      <td>9007.0</td>\n",
       "      <td>10310</td>\n",
       "      <td>63</td>\n",
       "      <td>0.096</td>\n",
       "    </tr>\n",
       "    <tr>\n",
       "      <th>10122</th>\n",
       "      <td>772366833</td>\n",
       "      <td>Existing Customer</td>\n",
       "      <td>50</td>\n",
       "      <td>M</td>\n",
       "      <td>2</td>\n",
       "      <td>Graduate</td>\n",
       "      <td>Single</td>\n",
       "      <td>$40K - $60K</td>\n",
       "      <td>Blue</td>\n",
       "      <td>40</td>\n",
       "      <td>3</td>\n",
       "      <td>2</td>\n",
       "      <td>3</td>\n",
       "      <td>4003.0</td>\n",
       "      <td>1851</td>\n",
       "      <td>2152.0</td>\n",
       "      <td>15476</td>\n",
       "      <td>117</td>\n",
       "      <td>0.462</td>\n",
       "    </tr>\n",
       "    <tr>\n",
       "      <th>10123</th>\n",
       "      <td>710638233</td>\n",
       "      <td>Attrited Customer</td>\n",
       "      <td>41</td>\n",
       "      <td>M</td>\n",
       "      <td>2</td>\n",
       "      <td>Unknown</td>\n",
       "      <td>Divorced</td>\n",
       "      <td>$40K - $60K</td>\n",
       "      <td>Blue</td>\n",
       "      <td>25</td>\n",
       "      <td>4</td>\n",
       "      <td>2</td>\n",
       "      <td>3</td>\n",
       "      <td>4277.0</td>\n",
       "      <td>2186</td>\n",
       "      <td>2091.0</td>\n",
       "      <td>8764</td>\n",
       "      <td>69</td>\n",
       "      <td>0.511</td>\n",
       "    </tr>\n",
       "    <tr>\n",
       "      <th>10124</th>\n",
       "      <td>716506083</td>\n",
       "      <td>Attrited Customer</td>\n",
       "      <td>44</td>\n",
       "      <td>F</td>\n",
       "      <td>1</td>\n",
       "      <td>High School</td>\n",
       "      <td>Married</td>\n",
       "      <td>Less than $40K</td>\n",
       "      <td>Blue</td>\n",
       "      <td>36</td>\n",
       "      <td>5</td>\n",
       "      <td>3</td>\n",
       "      <td>4</td>\n",
       "      <td>5409.0</td>\n",
       "      <td>0</td>\n",
       "      <td>5409.0</td>\n",
       "      <td>10291</td>\n",
       "      <td>60</td>\n",
       "      <td>0.000</td>\n",
       "    </tr>\n",
       "    <tr>\n",
       "      <th>10126</th>\n",
       "      <td>714337233</td>\n",
       "      <td>Attrited Customer</td>\n",
       "      <td>43</td>\n",
       "      <td>F</td>\n",
       "      <td>2</td>\n",
       "      <td>Graduate</td>\n",
       "      <td>Married</td>\n",
       "      <td>Less than $40K</td>\n",
       "      <td>Silver</td>\n",
       "      <td>25</td>\n",
       "      <td>6</td>\n",
       "      <td>2</td>\n",
       "      <td>4</td>\n",
       "      <td>10388.0</td>\n",
       "      <td>1961</td>\n",
       "      <td>8427.0</td>\n",
       "      <td>10294</td>\n",
       "      <td>61</td>\n",
       "      <td>0.189</td>\n",
       "    </tr>\n",
       "  </tbody>\n",
       "</table>\n",
       "<p>4979 rows × 19 columns</p>\n",
       "</div>"
      ],
      "text/plain": [
       "       CLIENTNUM     Attrition_Flag  Customer_Age Gender  Dependent_count  \\\n",
       "0      768805383  Existing Customer            45      M                3   \n",
       "1      818770008  Existing Customer            49      F                5   \n",
       "3      769911858  Existing Customer            40      F                4   \n",
       "4      709106358  Existing Customer            40      M                3   \n",
       "5      713061558  Existing Customer            44      M                2   \n",
       "...          ...                ...           ...    ...              ...   \n",
       "10118  713755458  Attrited Customer            50      M                1   \n",
       "10122  772366833  Existing Customer            50      M                2   \n",
       "10123  710638233  Attrited Customer            41      M                2   \n",
       "10124  716506083  Attrited Customer            44      F                1   \n",
       "10126  714337233  Attrited Customer            43      F                2   \n",
       "\n",
       "      Education_Level Marital_Status Income_Category Card_Category  \\\n",
       "0         High School        Married     $60K - $80K          Blue   \n",
       "1            Graduate         Single  Less than $40K          Blue   \n",
       "3         High School        Unknown  Less than $40K          Blue   \n",
       "4          Uneducated        Married     $60K - $80K          Blue   \n",
       "5            Graduate        Married     $40K - $60K          Blue   \n",
       "...               ...            ...             ...           ...   \n",
       "10118         Unknown        Unknown    $80K - $120K          Blue   \n",
       "10122        Graduate         Single     $40K - $60K          Blue   \n",
       "10123         Unknown       Divorced     $40K - $60K          Blue   \n",
       "10124     High School        Married  Less than $40K          Blue   \n",
       "10126        Graduate        Married  Less than $40K        Silver   \n",
       "\n",
       "       Months_on_book  Total_Relationship_Count  Months_Inactive_12_mon  \\\n",
       "0                  39                         5                       1   \n",
       "1                  44                         6                       1   \n",
       "3                  34                         3                       4   \n",
       "4                  21                         5                       1   \n",
       "5                  36                         3                       1   \n",
       "...               ...                       ...                     ...   \n",
       "10118              36                         6                       3   \n",
       "10122              40                         3                       2   \n",
       "10123              25                         4                       2   \n",
       "10124              36                         5                       3   \n",
       "10126              25                         6                       2   \n",
       "\n",
       "       Contacts_Count_12_mon  Credit_Limit  Total_Revolving_Bal  \\\n",
       "0                          3       12691.0                  777   \n",
       "1                          2        8256.0                  864   \n",
       "3                          1        3313.0                 2517   \n",
       "4                          0        4716.0                    0   \n",
       "5                          2        4010.0                 1247   \n",
       "...                      ...           ...                  ...   \n",
       "10118                      4        9959.0                  952   \n",
       "10122                      3        4003.0                 1851   \n",
       "10123                      3        4277.0                 2186   \n",
       "10124                      4        5409.0                    0   \n",
       "10126                      4       10388.0                 1961   \n",
       "\n",
       "       Avg_Open_To_Buy  Total_Trans_Amt  Total_Trans_Ct  Avg_Utilization_Ratio  \n",
       "0              11914.0             1144              42                  0.061  \n",
       "1               7392.0             1291              33                  0.105  \n",
       "3                796.0             1171              20                  0.760  \n",
       "4               4716.0              816              28                  0.000  \n",
       "5               2763.0             1088              24                  0.311  \n",
       "...                ...              ...             ...                    ...  \n",
       "10118           9007.0            10310              63                  0.096  \n",
       "10122           2152.0            15476             117                  0.462  \n",
       "10123           2091.0             8764              69                  0.511  \n",
       "10124           5409.0            10291              60                  0.000  \n",
       "10126           8427.0            10294              61                  0.189  \n",
       "\n",
       "[4979 rows x 19 columns]"
      ]
     },
     "execution_count": 5,
     "metadata": {},
     "output_type": "execute_result"
    }
   ],
   "source": [
    "df1=df[(df.Customer_Age >=40  ) & (df.Customer_Age<=50)]\n",
    "df1"
   ]
  },
  {
   "cell_type": "code",
   "execution_count": 6,
   "id": "9be80b7a",
   "metadata": {},
   "outputs": [
    {
     "data": {
      "text/plain": [
       "<AxesSubplot:xlabel='Avg_Utilization_Ratio', ylabel='Count'>"
      ]
     },
     "execution_count": 6,
     "metadata": {},
     "output_type": "execute_result"
    },
    {
     "data": {
      "image/png": "[encoded data removed]",
      "text/plain": [
       "<Figure size 432x288 with 1 Axes>"
      ]
     },
     "metadata": {
      "needs_background": "light"
     },
     "output_type": "display_data"
    }
   ],
   "source": [
    "sb.histplot(x=df1['Avg_Utilization_Ratio'],bins=4,color='green')"
   ]
  },
  {
   "cell_type": "markdown",
   "id": "5cdadbad",
   "metadata": {},
   "source": [
    "# the avgutilization ratio is between 0 to 0.2 for most of the customers with age 40-50"
   ]
  },
  {
   "cell_type": "code",
   "execution_count": null,
   "id": "5a40a1ee",
   "metadata": {},
   "outputs": [],
   "source": []
  }
 ],
 "metadata": {
  "kernelspec": {
   "display_name": "Python 3 (ipykernel)",
   "language": "python",
   "name": "python3"
  },
  "language_info": {
   "codemirror_mode": {
    "name": "ipython",
    "version": 3
   },
   "file_extension": ".py",
   "mimetype": "text/x-python",
   "name": "python",
   "nbconvert_exporter": "python",
   "pygments_lexer": "ipython3",
   "version": "3.9.12"
  }
 },
 "nbformat": 4,
 "nbformat_minor": 5
}
